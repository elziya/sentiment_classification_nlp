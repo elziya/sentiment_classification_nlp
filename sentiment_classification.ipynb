{
  "cells": [
    {
      "cell_type": "markdown",
      "metadata": {
        "id": "7EyYSHzx8UCP"
      },
      "source": [
        "# Загрузка библиотек"
      ]
    },
    {
      "cell_type": "code",
      "execution_count": null,
      "metadata": {
        "colab": {
          "base_uri": "https://localhost:8080/"
        },
        "id": "-qwgE69_2PvP",
        "outputId": "b0309639-504f-4ccf-f034-622e2bae26db"
      },
      "outputs": [
        {
          "output_type": "stream",
          "name": "stdout",
          "text": [
            "Collecting datasets\n",
            "  Downloading datasets-2.15.0-py3-none-any.whl (521 kB)\n",
            "\u001b[2K     \u001b[90m━━━━━━━━━━━━━━━━━━━━━━━━━━━━━━━━━━━━━━━━\u001b[0m \u001b[32m521.2/521.2 kB\u001b[0m \u001b[31m7.4 MB/s\u001b[0m eta \u001b[36m0:00:00\u001b[0m\n",
            "\u001b[?25hRequirement already satisfied: transformers in /usr/local/lib/python3.10/dist-packages (4.35.2)\n",
            "Requirement already satisfied: numpy>=1.17 in /usr/local/lib/python3.10/dist-packages (from datasets) (1.23.5)\n",
            "Requirement already satisfied: pyarrow>=8.0.0 in /usr/local/lib/python3.10/dist-packages (from datasets) (9.0.0)\n",
            "Collecting pyarrow-hotfix (from datasets)\n",
            "  Downloading pyarrow_hotfix-0.6-py3-none-any.whl (7.9 kB)\n",
            "Collecting dill<0.3.8,>=0.3.0 (from datasets)\n",
            "  Downloading dill-0.3.7-py3-none-any.whl (115 kB)\n",
            "\u001b[2K     \u001b[90m━━━━━━━━━━━━━━━━━━━━━━━━━━━━━━━━━━━━━━━━\u001b[0m \u001b[32m115.3/115.3 kB\u001b[0m \u001b[31m17.4 MB/s\u001b[0m eta \u001b[36m0:00:00\u001b[0m\n",
            "\u001b[?25hRequirement already satisfied: pandas in /usr/local/lib/python3.10/dist-packages (from datasets) (1.5.3)\n",
            "Requirement already satisfied: requests>=2.19.0 in /usr/local/lib/python3.10/dist-packages (from datasets) (2.31.0)\n",
            "Requirement already satisfied: tqdm>=4.62.1 in /usr/local/lib/python3.10/dist-packages (from datasets) (4.66.1)\n",
            "Requirement already satisfied: xxhash in /usr/local/lib/python3.10/dist-packages (from datasets) (3.4.1)\n",
            "Collecting multiprocess (from datasets)\n",
            "  Downloading multiprocess-0.70.15-py310-none-any.whl (134 kB)\n",
            "\u001b[2K     \u001b[90m━━━━━━━━━━━━━━━━━━━━━━━━━━━━━━━━━━━━━━━━\u001b[0m \u001b[32m134.8/134.8 kB\u001b[0m \u001b[31m20.2 MB/s\u001b[0m eta \u001b[36m0:00:00\u001b[0m\n",
            "\u001b[?25hRequirement already satisfied: fsspec[http]<=2023.10.0,>=2023.1.0 in /usr/local/lib/python3.10/dist-packages (from datasets) (2023.6.0)\n",
            "Requirement already satisfied: aiohttp in /usr/local/lib/python3.10/dist-packages (from datasets) (3.9.1)\n",
            "Requirement already satisfied: huggingface-hub>=0.18.0 in /usr/local/lib/python3.10/dist-packages (from datasets) (0.19.4)\n",
            "Requirement already satisfied: packaging in /usr/local/lib/python3.10/dist-packages (from datasets) (23.2)\n",
            "Requirement already satisfied: pyyaml>=5.1 in /usr/local/lib/python3.10/dist-packages (from datasets) (6.0.1)\n",
            "Requirement already satisfied: filelock in /usr/local/lib/python3.10/dist-packages (from transformers) (3.13.1)\n",
            "Requirement already satisfied: regex!=2019.12.17 in /usr/local/lib/python3.10/dist-packages (from transformers) (2023.6.3)\n",
            "Requirement already satisfied: tokenizers<0.19,>=0.14 in /usr/local/lib/python3.10/dist-packages (from transformers) (0.15.0)\n",
            "Requirement already satisfied: safetensors>=0.3.1 in /usr/local/lib/python3.10/dist-packages (from transformers) (0.4.1)\n",
            "Requirement already satisfied: attrs>=17.3.0 in /usr/local/lib/python3.10/dist-packages (from aiohttp->datasets) (23.1.0)\n",
            "Requirement already satisfied: multidict<7.0,>=4.5 in /usr/local/lib/python3.10/dist-packages (from aiohttp->datasets) (6.0.4)\n",
            "Requirement already satisfied: yarl<2.0,>=1.0 in /usr/local/lib/python3.10/dist-packages (from aiohttp->datasets) (1.9.3)\n",
            "Requirement already satisfied: frozenlist>=1.1.1 in /usr/local/lib/python3.10/dist-packages (from aiohttp->datasets) (1.4.0)\n",
            "Requirement already satisfied: aiosignal>=1.1.2 in /usr/local/lib/python3.10/dist-packages (from aiohttp->datasets) (1.3.1)\n",
            "Requirement already satisfied: async-timeout<5.0,>=4.0 in /usr/local/lib/python3.10/dist-packages (from aiohttp->datasets) (4.0.3)\n",
            "Requirement already satisfied: typing-extensions>=3.7.4.3 in /usr/local/lib/python3.10/dist-packages (from huggingface-hub>=0.18.0->datasets) (4.5.0)\n",
            "Requirement already satisfied: charset-normalizer<4,>=2 in /usr/local/lib/python3.10/dist-packages (from requests>=2.19.0->datasets) (3.3.2)\n",
            "Requirement already satisfied: idna<4,>=2.5 in /usr/local/lib/python3.10/dist-packages (from requests>=2.19.0->datasets) (3.6)\n",
            "Requirement already satisfied: urllib3<3,>=1.21.1 in /usr/local/lib/python3.10/dist-packages (from requests>=2.19.0->datasets) (2.0.7)\n",
            "Requirement already satisfied: certifi>=2017.4.17 in /usr/local/lib/python3.10/dist-packages (from requests>=2.19.0->datasets) (2023.11.17)\n",
            "Requirement already satisfied: python-dateutil>=2.8.1 in /usr/local/lib/python3.10/dist-packages (from pandas->datasets) (2.8.2)\n",
            "Requirement already satisfied: pytz>=2020.1 in /usr/local/lib/python3.10/dist-packages (from pandas->datasets) (2023.3.post1)\n",
            "Requirement already satisfied: six>=1.5 in /usr/local/lib/python3.10/dist-packages (from python-dateutil>=2.8.1->pandas->datasets) (1.16.0)\n",
            "Installing collected packages: pyarrow-hotfix, dill, multiprocess, datasets\n",
            "Successfully installed datasets-2.15.0 dill-0.3.7 multiprocess-0.70.15 pyarrow-hotfix-0.6\n"
          ]
        }
      ],
      "source": [
        "!pip install datasets transformers"
      ]
    },
    {
      "cell_type": "code",
      "source": [
        "!wget http://nlp.stanford.edu/data/glove.6B.zip\n",
        "!unzip -q glove.6B.zip"
      ],
      "metadata": {
        "colab": {
          "base_uri": "https://localhost:8080/"
        },
        "id": "cI6lVLnyHsCq",
        "outputId": "6fa39128-32fe-40d7-c479-8e26d34392c0"
      },
      "execution_count": null,
      "outputs": [
        {
          "output_type": "stream",
          "name": "stdout",
          "text": [
            "--2023-12-02 18:13:29--  http://nlp.stanford.edu/data/glove.6B.zip\n",
            "Resolving nlp.stanford.edu (nlp.stanford.edu)... 171.64.67.140\n",
            "Connecting to nlp.stanford.edu (nlp.stanford.edu)|171.64.67.140|:80... connected.\n",
            "HTTP request sent, awaiting response... 302 Found\n",
            "Location: https://nlp.stanford.edu/data/glove.6B.zip [following]\n",
            "--2023-12-02 18:13:29--  https://nlp.stanford.edu/data/glove.6B.zip\n",
            "Connecting to nlp.stanford.edu (nlp.stanford.edu)|171.64.67.140|:443... connected.\n",
            "HTTP request sent, awaiting response... 301 Moved Permanently\n",
            "Location: https://downloads.cs.stanford.edu/nlp/data/glove.6B.zip [following]\n",
            "--2023-12-02 18:13:29--  https://downloads.cs.stanford.edu/nlp/data/glove.6B.zip\n",
            "Resolving downloads.cs.stanford.edu (downloads.cs.stanford.edu)... 171.64.64.22\n",
            "Connecting to downloads.cs.stanford.edu (downloads.cs.stanford.edu)|171.64.64.22|:443... connected.\n",
            "HTTP request sent, awaiting response... 200 OK\n",
            "Length: 862182613 (822M) [application/zip]\n",
            "Saving to: ‘glove.6B.zip’\n",
            "\n",
            "glove.6B.zip        100%[===================>] 822.24M  5.00MB/s    in 2m 39s  \n",
            "\n",
            "2023-12-02 18:16:09 (5.16 MB/s) - ‘glove.6B.zip’ saved [862182613/862182613]\n",
            "\n"
          ]
        }
      ]
    },
    {
      "cell_type": "markdown",
      "metadata": {
        "id": "luJbLNNt8jR3"
      },
      "source": [
        "# Загрузка датасета"
      ]
    },
    {
      "cell_type": "code",
      "execution_count": null,
      "metadata": {
        "id": "24LXBu6GX9MC"
      },
      "outputs": [],
      "source": [
        "import pandas as pd\n",
        "import numpy as np\n",
        "from numpy import array\n",
        "import re\n",
        "import nltk\n",
        "from nltk.corpus import stopwords\n",
        "import os\n",
        "\n",
        "from datasets import load_dataset\n",
        "from datasets import Dataset, DatasetDict, concatenate_datasets\n",
        "\n",
        "from sklearn.model_selection import train_test_split"
      ]
    },
    {
      "cell_type": "code",
      "execution_count": null,
      "metadata": {
        "colab": {
          "base_uri": "https://localhost:8080/"
        },
        "id": "23Dxbiz5hpDS",
        "outputId": "e65c39e1-2ce9-4760-f636-7213c9ae0b40"
      },
      "outputs": [
        {
          "output_type": "stream",
          "name": "stderr",
          "text": [
            "[nltk_data] Downloading package stopwords to /root/nltk_data...\n",
            "[nltk_data]   Package stopwords is already up-to-date!\n"
          ]
        },
        {
          "output_type": "execute_result",
          "data": {
            "text/plain": [
              "True"
            ]
          },
          "metadata": {},
          "execution_count": 4
        }
      ],
      "source": [
        "nltk.download('stopwords')"
      ]
    },
    {
      "cell_type": "code",
      "source": [
        "import spacy\n",
        "nlp = spacy.load('en_core_web_sm')"
      ],
      "metadata": {
        "id": "pnvdjrAW9qVO"
      },
      "execution_count": null,
      "outputs": []
    },
    {
      "cell_type": "markdown",
      "metadata": {
        "id": "0pG0OOuN8pVe"
      },
      "source": [
        "Stanford Sentiment Treebank(https://huggingface.co/datasets/sst2) - датасет с предложениями на английском языке из обзоров на фильмы, помеченные 0 - negative и 1 - positive."
      ]
    },
    {
      "cell_type": "code",
      "execution_count": null,
      "metadata": {
        "id": "RnhBWAOE2BIM"
      },
      "outputs": [],
      "source": [
        "dataset = load_dataset(path='sst2')"
      ]
    },
    {
      "cell_type": "code",
      "execution_count": null,
      "metadata": {
        "colab": {
          "base_uri": "https://localhost:8080/"
        },
        "id": "wQu4Rqr2-W6u",
        "outputId": "c138741a-ba0f-4dff-c10e-6e54f31af91c"
      },
      "outputs": [
        {
          "output_type": "execute_result",
          "data": {
            "text/plain": [
              "DatasetDict({\n",
              "    train: Dataset({\n",
              "        features: ['idx', 'sentence', 'label'],\n",
              "        num_rows: 67349\n",
              "    })\n",
              "    validation: Dataset({\n",
              "        features: ['idx', 'sentence', 'label'],\n",
              "        num_rows: 872\n",
              "    })\n",
              "    test: Dataset({\n",
              "        features: ['idx', 'sentence', 'label'],\n",
              "        num_rows: 1821\n",
              "    })\n",
              "})"
            ]
          },
          "metadata": {},
          "execution_count": 7
        }
      ],
      "source": [
        "dataset"
      ]
    },
    {
      "cell_type": "markdown",
      "source": [
        "Соединяем train, validation, test в один dataset."
      ],
      "metadata": {
        "id": "kq9tEtL_DUSp"
      }
    },
    {
      "cell_type": "code",
      "execution_count": null,
      "metadata": {
        "id": "1Jl4kaja-5yX"
      },
      "outputs": [],
      "source": [
        "dataset = concatenate_datasets([dataset['train'], dataset['validation'], dataset['test']])"
      ]
    },
    {
      "cell_type": "code",
      "execution_count": null,
      "metadata": {
        "colab": {
          "base_uri": "https://localhost:8080/"
        },
        "id": "T6f09Y7b_IGH",
        "outputId": "e74e5432-a26c-4e1b-bc61-d1c5a8f20bc5"
      },
      "outputs": [
        {
          "output_type": "execute_result",
          "data": {
            "text/plain": [
              "Dataset({\n",
              "    features: ['idx', 'sentence', 'label'],\n",
              "    num_rows: 70042\n",
              "})"
            ]
          },
          "metadata": {},
          "execution_count": 9
        }
      ],
      "source": [
        "dataset"
      ]
    },
    {
      "cell_type": "code",
      "execution_count": null,
      "metadata": {
        "colab": {
          "base_uri": "https://localhost:8080/"
        },
        "id": "PaenkL4eQoH_",
        "outputId": "1e3c3beb-52df-445b-cf24-ea6015a40c30"
      },
      "outputs": [
        {
          "output_type": "execute_result",
          "data": {
            "text/plain": [
              "70042"
            ]
          },
          "metadata": {},
          "execution_count": 10
        }
      ],
      "source": [
        "len(dataset)"
      ]
    },
    {
      "cell_type": "code",
      "execution_count": null,
      "metadata": {
        "colab": {
          "base_uri": "https://localhost:8080/"
        },
        "id": "fTkcRKE4PXYl",
        "outputId": "947a4562-beec-4f9d-ca5f-80ce91e20b9b"
      },
      "outputs": [
        {
          "output_type": "execute_result",
          "data": {
            "text/plain": [
              "{-1, 0, 1}"
            ]
          },
          "metadata": {},
          "execution_count": 11
        }
      ],
      "source": [
        "set(dataset['label'])"
      ]
    },
    {
      "cell_type": "markdown",
      "metadata": {
        "id": "ULUnb10QRUV2"
      },
      "source": [
        "Удалим label -1"
      ]
    },
    {
      "cell_type": "code",
      "execution_count": null,
      "metadata": {
        "id": "3ymJzRvLQVYl"
      },
      "outputs": [],
      "source": [
        "dataset = dataset.select(\n",
        "    (\n",
        "        i for i in range(len(dataset))\n",
        "        if dataset[i]['label'] in [0,1]\n",
        "    )\n",
        ")"
      ]
    },
    {
      "cell_type": "code",
      "execution_count": null,
      "metadata": {
        "colab": {
          "base_uri": "https://localhost:8080/"
        },
        "id": "qYB1zXA5RDOd",
        "outputId": "a5869862-3e63-493f-eae4-278a647eeeb5"
      },
      "outputs": [
        {
          "output_type": "execute_result",
          "data": {
            "text/plain": [
              "{0, 1}"
            ]
          },
          "metadata": {},
          "execution_count": 13
        }
      ],
      "source": [
        "set(dataset['label'])"
      ]
    },
    {
      "cell_type": "markdown",
      "source": [
        "Загрузим стоп-слова и удалим из них негативные."
      ],
      "metadata": {
        "id": "1_NCxznHDlkx"
      }
    },
    {
      "cell_type": "code",
      "execution_count": null,
      "metadata": {
        "id": "FQPqeWuSgoER"
      },
      "outputs": [],
      "source": [
        "stop_words = stopwords.words('english')\n",
        "\n",
        "stop_words.remove('not')\n",
        "stop_words.remove('no')"
      ]
    },
    {
      "cell_type": "code",
      "execution_count": null,
      "metadata": {
        "id": "Q4AsocVxYP1i"
      },
      "outputs": [],
      "source": [
        "def preprocess_text(sen):\n",
        "    # Приводим к нижнему регистру\n",
        "    sentence = sen.lower()\n",
        "\n",
        "    # Удаляем пунктуацию и числа\n",
        "    sentence = re.sub('[^a-zA-Z]', ' ', sentence)\n",
        "\n",
        "    # Удаляем одни символы\n",
        "    sentence = re.sub(r\"\\s+[a-zA-Z]\\s+\", ' ', sentence)\n",
        "\n",
        "    # Удаление нескольких пробелов\n",
        "    sentence = re.sub(r'\\s+', ' ', sentence)\n",
        "\n",
        "    # Лемматизируем\n",
        "    doc = nlp(sentence)\n",
        "    lemmas = [token.lemma_ for token in doc]\n",
        "\n",
        "    # Удаление стоп-слов и неалфавитных символов\n",
        "    a_lemmas = [lemma for lemma in lemmas if lemma.isalpha() and lemma not in stop_words]\n",
        "\n",
        "    return ' '.join(a_lemmas)"
      ]
    },
    {
      "cell_type": "markdown",
      "metadata": {
        "id": "w7akSVAkB8wX"
      },
      "source": [
        "Посмотрим пример"
      ]
    },
    {
      "cell_type": "code",
      "execution_count": null,
      "metadata": {
        "colab": {
          "base_uri": "https://localhost:8080/"
        },
        "id": "Wrrv0PHwBX4f",
        "outputId": "4f659550-12c2-46a4-e7e5-1220d66ecfe9"
      },
      "outputs": [
        {
          "output_type": "execute_result",
          "data": {
            "text/plain": [
              "{'idx': 78,\n",
              " 'sentence': 'contains very few laughs and even less surprises ',\n",
              " 'label': 0}"
            ]
          },
          "metadata": {},
          "execution_count": 16
        }
      ],
      "source": [
        "dataset[78]"
      ]
    },
    {
      "cell_type": "markdown",
      "source": [
        "Разбиваем датасет в пропорции train-80%, test-20%."
      ],
      "metadata": {
        "id": "odXx3xgAFyAJ"
      }
    },
    {
      "cell_type": "code",
      "execution_count": null,
      "metadata": {
        "id": "KFgz2aI7Kq6W"
      },
      "outputs": [],
      "source": [
        "X_train, X_test, y_train, y_test = train_test_split(dataset['sentence'], dataset['label'], test_size=0.2, random_state=1)"
      ]
    },
    {
      "cell_type": "markdown",
      "source": [
        "Очищаем данные"
      ],
      "metadata": {
        "id": "Fq_gX3YlF4Wk"
      }
    },
    {
      "cell_type": "code",
      "execution_count": null,
      "metadata": {
        "id": "1OkPwz_ikK9A"
      },
      "outputs": [],
      "source": [
        "X_train_pr = []\n",
        "X_test_pr = []\n",
        "\n",
        "for sen in X_train:\n",
        "    X_train_pr.append(preprocess_text(sen))\n",
        "\n",
        "for sen in X_test:\n",
        "    X_test_pr.append(preprocess_text(sen))"
      ]
    },
    {
      "cell_type": "code",
      "execution_count": null,
      "metadata": {
        "colab": {
          "base_uri": "https://localhost:8080/"
        },
        "id": "Fa0P_jmWipsm",
        "outputId": "3817bb64-8445-4968-aff4-667aad0e8c4b"
      },
      "outputs": [
        {
          "output_type": "execute_result",
          "data": {
            "text/plain": [
              "['might be like trying to eat brussels sprouts . ',\n",
              " 'amounts to surprisingly little ',\n",
              " 'easy to like ',\n",
              " ', it still works . ',\n",
              " \"of this ` we 're - doing-it-for - the-cash ' sequel \"]"
            ]
          },
          "metadata": {},
          "execution_count": 19
        }
      ],
      "source": [
        "X_test[:5]"
      ]
    },
    {
      "cell_type": "code",
      "execution_count": null,
      "metadata": {
        "colab": {
          "base_uri": "https://localhost:8080/"
        },
        "id": "xB8XPRTWk7LQ",
        "outputId": "6a992d07-a8a0-4a9a-adcd-e659707096e5"
      },
      "outputs": [
        {
          "output_type": "execute_result",
          "data": {
            "text/plain": [
              "['might like try eat brussels sprout',\n",
              " 'amount surprisingly little',\n",
              " 'easy like',\n",
              " 'still work',\n",
              " 'cash sequel']"
            ]
          },
          "metadata": {},
          "execution_count": 20
        }
      ],
      "source": [
        "X_test_pr[:5]"
      ]
    },
    {
      "cell_type": "markdown",
      "metadata": {
        "id": "aF9s47W0CIYn"
      },
      "source": [
        "# Имплементировать и обучить классификаторы на основе:"
      ]
    },
    {
      "cell_type": "markdown",
      "metadata": {
        "id": "LxtcjePbCPTH"
      },
      "source": [
        "## 1.1 Логистической регрессии + tf-idf"
      ]
    },
    {
      "cell_type": "code",
      "execution_count": null,
      "metadata": {
        "id": "aj8DDe_XCqGv"
      },
      "outputs": [],
      "source": [
        "from sklearn.linear_model import LogisticRegression\n",
        "from sklearn.feature_extraction.text import TfidfVectorizer\n",
        "from sklearn.metrics import classification_report"
      ]
    },
    {
      "cell_type": "markdown",
      "source": [
        "На непредобработанных отзывах:"
      ],
      "metadata": {
        "id": "qMLAhJ5CHiMT"
      }
    },
    {
      "cell_type": "code",
      "execution_count": null,
      "metadata": {
        "colab": {
          "base_uri": "https://localhost:8080/"
        },
        "id": "oXLcgpDzOA02",
        "outputId": "87f11211-ebda-40ed-9a38-582ac1905798"
      },
      "outputs": [
        {
          "output_type": "stream",
          "name": "stdout",
          "text": [
            "              precision    recall  f1-score   support\n",
            "\n",
            "           0       0.89      0.86      0.87      6059\n",
            "           1       0.89      0.91      0.90      7586\n",
            "\n",
            "    accuracy                           0.89     13645\n",
            "   macro avg       0.89      0.88      0.89     13645\n",
            "weighted avg       0.89      0.89      0.89     13645\n",
            "\n"
          ]
        }
      ],
      "source": [
        "vec = TfidfVectorizer(ngram_range=(1, 1))\n",
        "bow = vec.fit_transform(X_train)\n",
        "\n",
        "clf = LogisticRegression(random_state=42, max_iter=150)\n",
        "clf.fit(bow, y_train)\n",
        "\n",
        "pred = clf.predict(vec.transform(X_test))\n",
        "print(classification_report(y_test, pred))"
      ]
    },
    {
      "cell_type": "markdown",
      "source": [
        "На предобработанных отзывах:"
      ],
      "metadata": {
        "id": "PaZgaipcHoSL"
      }
    },
    {
      "cell_type": "code",
      "source": [
        "vec1 = TfidfVectorizer(ngram_range=(1, 1))\n",
        "bow1 = vec1.fit_transform(X_train_pr)\n",
        "\n",
        "clf1 = LogisticRegression(random_state=42, max_iter=150)\n",
        "clf1.fit(bow1, y_train)\n",
        "\n",
        "pred1 = clf1.predict(vec1.transform(X_test_pr))\n",
        "print(classification_report(y_test, pred1))"
      ],
      "metadata": {
        "colab": {
          "base_uri": "https://localhost:8080/"
        },
        "id": "NbZM-3VaAbRO",
        "outputId": "6c4788c4-e7e8-4b93-d3c5-6bf26dccb7ee"
      },
      "execution_count": null,
      "outputs": [
        {
          "output_type": "stream",
          "name": "stdout",
          "text": [
            "              precision    recall  f1-score   support\n",
            "\n",
            "           0       0.88      0.84      0.86      6059\n",
            "           1       0.88      0.91      0.89      7586\n",
            "\n",
            "    accuracy                           0.88     13645\n",
            "   macro avg       0.88      0.87      0.88     13645\n",
            "weighted avg       0.88      0.88      0.88     13645\n",
            "\n"
          ]
        }
      ]
    },
    {
      "cell_type": "markdown",
      "source": [
        "Результат с непредобработанными отзывами немного лучше."
      ],
      "metadata": {
        "id": "4QD5v3GuHbEo"
      }
    },
    {
      "cell_type": "markdown",
      "source": [
        "## 1.2 Усложнение. Добавить в качестве признака pos-tag в Логистическую регрессию + tf-idf"
      ],
      "metadata": {
        "id": "Z7U1EbCTXiww"
      }
    },
    {
      "cell_type": "code",
      "source": [
        "from nltk.tag import pos_tag\n",
        "from nltk.tokenize import word_tokenize"
      ],
      "metadata": {
        "id": "I2oTxUUKsRR6"
      },
      "execution_count": null,
      "outputs": []
    },
    {
      "cell_type": "code",
      "source": [
        "import nltk\n",
        "nltk.download('averaged_perceptron_tagger')"
      ],
      "metadata": {
        "colab": {
          "base_uri": "https://localhost:8080/"
        },
        "id": "_bCKmxtttsQJ",
        "outputId": "703e81ac-e827-4071-8c56-760cd12782d7"
      },
      "execution_count": null,
      "outputs": [
        {
          "output_type": "stream",
          "name": "stderr",
          "text": [
            "[nltk_data] Downloading package averaged_perceptron_tagger to\n",
            "[nltk_data]     /root/nltk_data...\n",
            "[nltk_data]   Package averaged_perceptron_tagger is already up-to-\n",
            "[nltk_data]       date!\n"
          ]
        },
        {
          "output_type": "execute_result",
          "data": {
            "text/plain": [
              "True"
            ]
          },
          "metadata": {},
          "execution_count": 23
        }
      ]
    },
    {
      "cell_type": "markdown",
      "source": [
        "Добавляем часть речи к каждому слову"
      ],
      "metadata": {
        "id": "_SQfkK2cWlHN"
      }
    },
    {
      "cell_type": "code",
      "source": [
        "def add_postag(sent):\n",
        "  pos_tags = nltk.pos_tag(sent.split(' '))\n",
        "\n",
        "  s = []\n",
        "  for p in pos_tags:\n",
        "    s.append(p[0] + '_' + p[1])\n",
        "\n",
        "  return ' '.join(s)"
      ],
      "metadata": {
        "id": "Z0Kge69VvgKR"
      },
      "execution_count": null,
      "outputs": []
    },
    {
      "cell_type": "code",
      "source": [
        "X_train_pt = list(map(add_postag,X_train_pr))\n",
        "X_test_pt = list(map(add_postag,X_test_pr))"
      ],
      "metadata": {
        "id": "7MuLUq5-znTW"
      },
      "execution_count": null,
      "outputs": []
    },
    {
      "cell_type": "code",
      "source": [
        "X_test_pt[0]"
      ],
      "metadata": {
        "colab": {
          "base_uri": "https://localhost:8080/",
          "height": 36
        },
        "id": "i5rnjmmV0upM",
        "outputId": "7c82a9e2-7c2a-4c6a-9626-576dc9c301b9"
      },
      "execution_count": null,
      "outputs": [
        {
          "output_type": "execute_result",
          "data": {
            "text/plain": [
              "'might_MD like_VB try_VB eat_NN brussels_NNS sprout_VBP'"
            ],
            "application/vnd.google.colaboratory.intrinsic+json": {
              "type": "string"
            }
          },
          "metadata": {},
          "execution_count": 35
        }
      ]
    },
    {
      "cell_type": "code",
      "source": [
        "vec3 = TfidfVectorizer(ngram_range=(1, 1))\n",
        "bow3 = vec3.fit_transform(X_train_pt)\n",
        "\n",
        "clf3 = LogisticRegression(random_state=42, max_iter=150)\n",
        "clf3.fit(bow3, y_train)\n",
        "\n",
        "pred3 = clf3.predict(vec3.transform(X_test_pt))\n",
        "print(classification_report(y_test, pred3))"
      ],
      "metadata": {
        "colab": {
          "base_uri": "https://localhost:8080/"
        },
        "id": "VUq0ocaI0zZl",
        "outputId": "ba6f5480-cc78-4918-b3eb-876ce2f1ca93"
      },
      "execution_count": null,
      "outputs": [
        {
          "output_type": "stream",
          "name": "stdout",
          "text": [
            "              precision    recall  f1-score   support\n",
            "\n",
            "           0       0.87      0.84      0.86      6059\n",
            "           1       0.88      0.90      0.89      7586\n",
            "\n",
            "    accuracy                           0.88     13645\n",
            "   macro avg       0.88      0.87      0.87     13645\n",
            "weighted avg       0.88      0.88      0.88     13645\n",
            "\n"
          ]
        }
      ]
    },
    {
      "cell_type": "markdown",
      "source": [
        "Результат не изменился"
      ],
      "metadata": {
        "id": "WWS-JFS5Wzs1"
      }
    },
    {
      "cell_type": "markdown",
      "source": [
        "Добавим pos tags, как новые фичи"
      ],
      "metadata": {
        "id": "_XZPKpceW8ok"
      }
    },
    {
      "cell_type": "code",
      "source": [
        "vec4 = TfidfVectorizer(ngram_range=(1, 1))\n",
        "bow4 = vec4.fit_transform(X_train_pr)"
      ],
      "metadata": {
        "id": "zKGwjX37BQDg"
      },
      "execution_count": null,
      "outputs": []
    },
    {
      "cell_type": "code",
      "source": [
        "arr = pd.DataFrame(bow4.toarray())"
      ],
      "metadata": {
        "id": "tYSOtSRwCkwu"
      },
      "execution_count": null,
      "outputs": []
    },
    {
      "cell_type": "code",
      "source": [
        "arr"
      ],
      "metadata": {
        "colab": {
          "base_uri": "https://localhost:8080/",
          "height": 423
        },
        "id": "FHk0oT2BC1H1",
        "outputId": "d75c410f-4102-4bb1-9214-f35f1a6f51c1"
      },
      "execution_count": null,
      "outputs": [
        {
          "output_type": "execute_result",
          "data": {
            "text/plain": [
              "       0      1      2      3      4      5      6      7      8      9      \\\n",
              "0        0.0    0.0    0.0    0.0    0.0    0.0    0.0    0.0    0.0    0.0   \n",
              "1        0.0    0.0    0.0    0.0    0.0    0.0    0.0    0.0    0.0    0.0   \n",
              "2        0.0    0.0    0.0    0.0    0.0    0.0    0.0    0.0    0.0    0.0   \n",
              "3        0.0    0.0    0.0    0.0    0.0    0.0    0.0    0.0    0.0    0.0   \n",
              "4        0.0    0.0    0.0    0.0    0.0    0.0    0.0    0.0    0.0    0.0   \n",
              "...      ...    ...    ...    ...    ...    ...    ...    ...    ...    ...   \n",
              "54571    0.0    0.0    0.0    0.0    0.0    0.0    0.0    0.0    0.0    0.0   \n",
              "54572    0.0    0.0    0.0    0.0    0.0    0.0    0.0    0.0    0.0    0.0   \n",
              "54573    0.0    0.0    0.0    0.0    0.0    0.0    0.0    0.0    0.0    0.0   \n",
              "54574    0.0    0.0    0.0    0.0    0.0    0.0    0.0    0.0    0.0    0.0   \n",
              "54575    0.0    0.0    0.0    0.0    0.0    0.0    0.0    0.0    0.0    0.0   \n",
              "\n",
              "       ...  11779  11780  11781  11782  11783  11784  11785  11786  11787  \\\n",
              "0      ...    0.0    0.0    0.0    0.0    0.0    0.0    0.0    0.0    0.0   \n",
              "1      ...    0.0    0.0    0.0    0.0    0.0    0.0    0.0    0.0    0.0   \n",
              "2      ...    0.0    0.0    0.0    0.0    0.0    0.0    0.0    0.0    0.0   \n",
              "3      ...    0.0    0.0    0.0    0.0    0.0    0.0    0.0    0.0    0.0   \n",
              "4      ...    0.0    0.0    0.0    0.0    0.0    0.0    0.0    0.0    0.0   \n",
              "...    ...    ...    ...    ...    ...    ...    ...    ...    ...    ...   \n",
              "54571  ...    0.0    0.0    0.0    0.0    0.0    0.0    0.0    0.0    0.0   \n",
              "54572  ...    0.0    0.0    0.0    0.0    0.0    0.0    0.0    0.0    0.0   \n",
              "54573  ...    0.0    0.0    0.0    0.0    0.0    0.0    0.0    0.0    0.0   \n",
              "54574  ...    0.0    0.0    0.0    0.0    0.0    0.0    0.0    0.0    0.0   \n",
              "54575  ...    0.0    0.0    0.0    0.0    0.0    0.0    0.0    0.0    0.0   \n",
              "\n",
              "       11788  \n",
              "0        0.0  \n",
              "1        0.0  \n",
              "2        0.0  \n",
              "3        0.0  \n",
              "4        0.0  \n",
              "...      ...  \n",
              "54571    0.0  \n",
              "54572    0.0  \n",
              "54573    0.0  \n",
              "54574    0.0  \n",
              "54575    0.0  \n",
              "\n",
              "[54576 rows x 11789 columns]"
            ],
            "text/html": [
              "\n",
              "  <div id=\"df-e8c7eba6-4421-45b1-8f1a-30dfcbc764c3\" class=\"colab-df-container\">\n",
              "    <div>\n",
              "<style scoped>\n",
              "    .dataframe tbody tr th:only-of-type {\n",
              "        vertical-align: middle;\n",
              "    }\n",
              "\n",
              "    .dataframe tbody tr th {\n",
              "        vertical-align: top;\n",
              "    }\n",
              "\n",
              "    .dataframe thead th {\n",
              "        text-align: right;\n",
              "    }\n",
              "</style>\n",
              "<table border=\"1\" class=\"dataframe\">\n",
              "  <thead>\n",
              "    <tr style=\"text-align: right;\">\n",
              "      <th></th>\n",
              "      <th>0</th>\n",
              "      <th>1</th>\n",
              "      <th>2</th>\n",
              "      <th>3</th>\n",
              "      <th>4</th>\n",
              "      <th>5</th>\n",
              "      <th>6</th>\n",
              "      <th>7</th>\n",
              "      <th>8</th>\n",
              "      <th>9</th>\n",
              "      <th>...</th>\n",
              "      <th>11779</th>\n",
              "      <th>11780</th>\n",
              "      <th>11781</th>\n",
              "      <th>11782</th>\n",
              "      <th>11783</th>\n",
              "      <th>11784</th>\n",
              "      <th>11785</th>\n",
              "      <th>11786</th>\n",
              "      <th>11787</th>\n",
              "      <th>11788</th>\n",
              "    </tr>\n",
              "  </thead>\n",
              "  <tbody>\n",
              "    <tr>\n",
              "      <th>0</th>\n",
              "      <td>0.0</td>\n",
              "      <td>0.0</td>\n",
              "      <td>0.0</td>\n",
              "      <td>0.0</td>\n",
              "      <td>0.0</td>\n",
              "      <td>0.0</td>\n",
              "      <td>0.0</td>\n",
              "      <td>0.0</td>\n",
              "      <td>0.0</td>\n",
              "      <td>0.0</td>\n",
              "      <td>...</td>\n",
              "      <td>0.0</td>\n",
              "      <td>0.0</td>\n",
              "      <td>0.0</td>\n",
              "      <td>0.0</td>\n",
              "      <td>0.0</td>\n",
              "      <td>0.0</td>\n",
              "      <td>0.0</td>\n",
              "      <td>0.0</td>\n",
              "      <td>0.0</td>\n",
              "      <td>0.0</td>\n",
              "    </tr>\n",
              "    <tr>\n",
              "      <th>1</th>\n",
              "      <td>0.0</td>\n",
              "      <td>0.0</td>\n",
              "      <td>0.0</td>\n",
              "      <td>0.0</td>\n",
              "      <td>0.0</td>\n",
              "      <td>0.0</td>\n",
              "      <td>0.0</td>\n",
              "      <td>0.0</td>\n",
              "      <td>0.0</td>\n",
              "      <td>0.0</td>\n",
              "      <td>...</td>\n",
              "      <td>0.0</td>\n",
              "      <td>0.0</td>\n",
              "      <td>0.0</td>\n",
              "      <td>0.0</td>\n",
              "      <td>0.0</td>\n",
              "      <td>0.0</td>\n",
              "      <td>0.0</td>\n",
              "      <td>0.0</td>\n",
              "      <td>0.0</td>\n",
              "      <td>0.0</td>\n",
              "    </tr>\n",
              "    <tr>\n",
              "      <th>2</th>\n",
              "      <td>0.0</td>\n",
              "      <td>0.0</td>\n",
              "      <td>0.0</td>\n",
              "      <td>0.0</td>\n",
              "      <td>0.0</td>\n",
              "      <td>0.0</td>\n",
              "      <td>0.0</td>\n",
              "      <td>0.0</td>\n",
              "      <td>0.0</td>\n",
              "      <td>0.0</td>\n",
              "      <td>...</td>\n",
              "      <td>0.0</td>\n",
              "      <td>0.0</td>\n",
              "      <td>0.0</td>\n",
              "      <td>0.0</td>\n",
              "      <td>0.0</td>\n",
              "      <td>0.0</td>\n",
              "      <td>0.0</td>\n",
              "      <td>0.0</td>\n",
              "      <td>0.0</td>\n",
              "      <td>0.0</td>\n",
              "    </tr>\n",
              "    <tr>\n",
              "      <th>3</th>\n",
              "      <td>0.0</td>\n",
              "      <td>0.0</td>\n",
              "      <td>0.0</td>\n",
              "      <td>0.0</td>\n",
              "      <td>0.0</td>\n",
              "      <td>0.0</td>\n",
              "      <td>0.0</td>\n",
              "      <td>0.0</td>\n",
              "      <td>0.0</td>\n",
              "      <td>0.0</td>\n",
              "      <td>...</td>\n",
              "      <td>0.0</td>\n",
              "      <td>0.0</td>\n",
              "      <td>0.0</td>\n",
              "      <td>0.0</td>\n",
              "      <td>0.0</td>\n",
              "      <td>0.0</td>\n",
              "      <td>0.0</td>\n",
              "      <td>0.0</td>\n",
              "      <td>0.0</td>\n",
              "      <td>0.0</td>\n",
              "    </tr>\n",
              "    <tr>\n",
              "      <th>4</th>\n",
              "      <td>0.0</td>\n",
              "      <td>0.0</td>\n",
              "      <td>0.0</td>\n",
              "      <td>0.0</td>\n",
              "      <td>0.0</td>\n",
              "      <td>0.0</td>\n",
              "      <td>0.0</td>\n",
              "      <td>0.0</td>\n",
              "      <td>0.0</td>\n",
              "      <td>0.0</td>\n",
              "      <td>...</td>\n",
              "      <td>0.0</td>\n",
              "      <td>0.0</td>\n",
              "      <td>0.0</td>\n",
              "      <td>0.0</td>\n",
              "      <td>0.0</td>\n",
              "      <td>0.0</td>\n",
              "      <td>0.0</td>\n",
              "      <td>0.0</td>\n",
              "      <td>0.0</td>\n",
              "      <td>0.0</td>\n",
              "    </tr>\n",
              "    <tr>\n",
              "      <th>...</th>\n",
              "      <td>...</td>\n",
              "      <td>...</td>\n",
              "      <td>...</td>\n",
              "      <td>...</td>\n",
              "      <td>...</td>\n",
              "      <td>...</td>\n",
              "      <td>...</td>\n",
              "      <td>...</td>\n",
              "      <td>...</td>\n",
              "      <td>...</td>\n",
              "      <td>...</td>\n",
              "      <td>...</td>\n",
              "      <td>...</td>\n",
              "      <td>...</td>\n",
              "      <td>...</td>\n",
              "      <td>...</td>\n",
              "      <td>...</td>\n",
              "      <td>...</td>\n",
              "      <td>...</td>\n",
              "      <td>...</td>\n",
              "      <td>...</td>\n",
              "    </tr>\n",
              "    <tr>\n",
              "      <th>54571</th>\n",
              "      <td>0.0</td>\n",
              "      <td>0.0</td>\n",
              "      <td>0.0</td>\n",
              "      <td>0.0</td>\n",
              "      <td>0.0</td>\n",
              "      <td>0.0</td>\n",
              "      <td>0.0</td>\n",
              "      <td>0.0</td>\n",
              "      <td>0.0</td>\n",
              "      <td>0.0</td>\n",
              "      <td>...</td>\n",
              "      <td>0.0</td>\n",
              "      <td>0.0</td>\n",
              "      <td>0.0</td>\n",
              "      <td>0.0</td>\n",
              "      <td>0.0</td>\n",
              "      <td>0.0</td>\n",
              "      <td>0.0</td>\n",
              "      <td>0.0</td>\n",
              "      <td>0.0</td>\n",
              "      <td>0.0</td>\n",
              "    </tr>\n",
              "    <tr>\n",
              "      <th>54572</th>\n",
              "      <td>0.0</td>\n",
              "      <td>0.0</td>\n",
              "      <td>0.0</td>\n",
              "      <td>0.0</td>\n",
              "      <td>0.0</td>\n",
              "      <td>0.0</td>\n",
              "      <td>0.0</td>\n",
              "      <td>0.0</td>\n",
              "      <td>0.0</td>\n",
              "      <td>0.0</td>\n",
              "      <td>...</td>\n",
              "      <td>0.0</td>\n",
              "      <td>0.0</td>\n",
              "      <td>0.0</td>\n",
              "      <td>0.0</td>\n",
              "      <td>0.0</td>\n",
              "      <td>0.0</td>\n",
              "      <td>0.0</td>\n",
              "      <td>0.0</td>\n",
              "      <td>0.0</td>\n",
              "      <td>0.0</td>\n",
              "    </tr>\n",
              "    <tr>\n",
              "      <th>54573</th>\n",
              "      <td>0.0</td>\n",
              "      <td>0.0</td>\n",
              "      <td>0.0</td>\n",
              "      <td>0.0</td>\n",
              "      <td>0.0</td>\n",
              "      <td>0.0</td>\n",
              "      <td>0.0</td>\n",
              "      <td>0.0</td>\n",
              "      <td>0.0</td>\n",
              "      <td>0.0</td>\n",
              "      <td>...</td>\n",
              "      <td>0.0</td>\n",
              "      <td>0.0</td>\n",
              "      <td>0.0</td>\n",
              "      <td>0.0</td>\n",
              "      <td>0.0</td>\n",
              "      <td>0.0</td>\n",
              "      <td>0.0</td>\n",
              "      <td>0.0</td>\n",
              "      <td>0.0</td>\n",
              "      <td>0.0</td>\n",
              "    </tr>\n",
              "    <tr>\n",
              "      <th>54574</th>\n",
              "      <td>0.0</td>\n",
              "      <td>0.0</td>\n",
              "      <td>0.0</td>\n",
              "      <td>0.0</td>\n",
              "      <td>0.0</td>\n",
              "      <td>0.0</td>\n",
              "      <td>0.0</td>\n",
              "      <td>0.0</td>\n",
              "      <td>0.0</td>\n",
              "      <td>0.0</td>\n",
              "      <td>...</td>\n",
              "      <td>0.0</td>\n",
              "      <td>0.0</td>\n",
              "      <td>0.0</td>\n",
              "      <td>0.0</td>\n",
              "      <td>0.0</td>\n",
              "      <td>0.0</td>\n",
              "      <td>0.0</td>\n",
              "      <td>0.0</td>\n",
              "      <td>0.0</td>\n",
              "      <td>0.0</td>\n",
              "    </tr>\n",
              "    <tr>\n",
              "      <th>54575</th>\n",
              "      <td>0.0</td>\n",
              "      <td>0.0</td>\n",
              "      <td>0.0</td>\n",
              "      <td>0.0</td>\n",
              "      <td>0.0</td>\n",
              "      <td>0.0</td>\n",
              "      <td>0.0</td>\n",
              "      <td>0.0</td>\n",
              "      <td>0.0</td>\n",
              "      <td>0.0</td>\n",
              "      <td>...</td>\n",
              "      <td>0.0</td>\n",
              "      <td>0.0</td>\n",
              "      <td>0.0</td>\n",
              "      <td>0.0</td>\n",
              "      <td>0.0</td>\n",
              "      <td>0.0</td>\n",
              "      <td>0.0</td>\n",
              "      <td>0.0</td>\n",
              "      <td>0.0</td>\n",
              "      <td>0.0</td>\n",
              "    </tr>\n",
              "  </tbody>\n",
              "</table>\n",
              "<p>54576 rows × 11789 columns</p>\n",
              "</div>\n",
              "    <div class=\"colab-df-buttons\">\n",
              "\n",
              "  <div class=\"colab-df-container\">\n",
              "    <button class=\"colab-df-convert\" onclick=\"convertToInteractive('df-e8c7eba6-4421-45b1-8f1a-30dfcbc764c3')\"\n",
              "            title=\"Convert this dataframe to an interactive table.\"\n",
              "            style=\"display:none;\">\n",
              "\n",
              "  <svg xmlns=\"http://www.w3.org/2000/svg\" height=\"24px\" viewBox=\"0 -960 960 960\">\n",
              "    <path d=\"M120-120v-720h720v720H120Zm60-500h600v-160H180v160Zm220 220h160v-160H400v160Zm0 220h160v-160H400v160ZM180-400h160v-160H180v160Zm440 0h160v-160H620v160ZM180-180h160v-160H180v160Zm440 0h160v-160H620v160Z\"/>\n",
              "  </svg>\n",
              "    </button>\n",
              "\n",
              "  <style>\n",
              "    .colab-df-container {\n",
              "      display:flex;\n",
              "      gap: 12px;\n",
              "    }\n",
              "\n",
              "    .colab-df-convert {\n",
              "      background-color: #E8F0FE;\n",
              "      border: none;\n",
              "      border-radius: 50%;\n",
              "      cursor: pointer;\n",
              "      display: none;\n",
              "      fill: #1967D2;\n",
              "      height: 32px;\n",
              "      padding: 0 0 0 0;\n",
              "      width: 32px;\n",
              "    }\n",
              "\n",
              "    .colab-df-convert:hover {\n",
              "      background-color: #E2EBFA;\n",
              "      box-shadow: 0px 1px 2px rgba(60, 64, 67, 0.3), 0px 1px 3px 1px rgba(60, 64, 67, 0.15);\n",
              "      fill: #174EA6;\n",
              "    }\n",
              "\n",
              "    .colab-df-buttons div {\n",
              "      margin-bottom: 4px;\n",
              "    }\n",
              "\n",
              "    [theme=dark] .colab-df-convert {\n",
              "      background-color: #3B4455;\n",
              "      fill: #D2E3FC;\n",
              "    }\n",
              "\n",
              "    [theme=dark] .colab-df-convert:hover {\n",
              "      background-color: #434B5C;\n",
              "      box-shadow: 0px 1px 3px 1px rgba(0, 0, 0, 0.15);\n",
              "      filter: drop-shadow(0px 1px 2px rgba(0, 0, 0, 0.3));\n",
              "      fill: #FFFFFF;\n",
              "    }\n",
              "  </style>\n",
              "\n",
              "    <script>\n",
              "      const buttonEl =\n",
              "        document.querySelector('#df-e8c7eba6-4421-45b1-8f1a-30dfcbc764c3 button.colab-df-convert');\n",
              "      buttonEl.style.display =\n",
              "        google.colab.kernel.accessAllowed ? 'block' : 'none';\n",
              "\n",
              "      async function convertToInteractive(key) {\n",
              "        const element = document.querySelector('#df-e8c7eba6-4421-45b1-8f1a-30dfcbc764c3');\n",
              "        const dataTable =\n",
              "          await google.colab.kernel.invokeFunction('convertToInteractive',\n",
              "                                                    [key], {});\n",
              "        if (!dataTable) return;\n",
              "\n",
              "        const docLinkHtml = 'Like what you see? Visit the ' +\n",
              "          '<a target=\"_blank\" href=https://colab.research.google.com/notebooks/data_table.ipynb>data table notebook</a>'\n",
              "          + ' to learn more about interactive tables.';\n",
              "        element.innerHTML = '';\n",
              "        dataTable['output_type'] = 'display_data';\n",
              "        await google.colab.output.renderOutput(dataTable, element);\n",
              "        const docLink = document.createElement('div');\n",
              "        docLink.innerHTML = docLinkHtml;\n",
              "        element.appendChild(docLink);\n",
              "      }\n",
              "    </script>\n",
              "  </div>\n",
              "\n",
              "\n",
              "<div id=\"df-a98808cc-f960-4191-8bff-05fdc12c0b89\">\n",
              "  <button class=\"colab-df-quickchart\" onclick=\"quickchart('df-a98808cc-f960-4191-8bff-05fdc12c0b89')\"\n",
              "            title=\"Suggest charts\"\n",
              "            style=\"display:none;\">\n",
              "\n",
              "<svg xmlns=\"http://www.w3.org/2000/svg\" height=\"24px\"viewBox=\"0 0 24 24\"\n",
              "     width=\"24px\">\n",
              "    <g>\n",
              "        <path d=\"M19 3H5c-1.1 0-2 .9-2 2v14c0 1.1.9 2 2 2h14c1.1 0 2-.9 2-2V5c0-1.1-.9-2-2-2zM9 17H7v-7h2v7zm4 0h-2V7h2v10zm4 0h-2v-4h2v4z\"/>\n",
              "    </g>\n",
              "</svg>\n",
              "  </button>\n",
              "\n",
              "<style>\n",
              "  .colab-df-quickchart {\n",
              "      --bg-color: #E8F0FE;\n",
              "      --fill-color: #1967D2;\n",
              "      --hover-bg-color: #E2EBFA;\n",
              "      --hover-fill-color: #174EA6;\n",
              "      --disabled-fill-color: #AAA;\n",
              "      --disabled-bg-color: #DDD;\n",
              "  }\n",
              "\n",
              "  [theme=dark] .colab-df-quickchart {\n",
              "      --bg-color: #3B4455;\n",
              "      --fill-color: #D2E3FC;\n",
              "      --hover-bg-color: #434B5C;\n",
              "      --hover-fill-color: #FFFFFF;\n",
              "      --disabled-bg-color: #3B4455;\n",
              "      --disabled-fill-color: #666;\n",
              "  }\n",
              "\n",
              "  .colab-df-quickchart {\n",
              "    background-color: var(--bg-color);\n",
              "    border: none;\n",
              "    border-radius: 50%;\n",
              "    cursor: pointer;\n",
              "    display: none;\n",
              "    fill: var(--fill-color);\n",
              "    height: 32px;\n",
              "    padding: 0;\n",
              "    width: 32px;\n",
              "  }\n",
              "\n",
              "  .colab-df-quickchart:hover {\n",
              "    background-color: var(--hover-bg-color);\n",
              "    box-shadow: 0 1px 2px rgba(60, 64, 67, 0.3), 0 1px 3px 1px rgba(60, 64, 67, 0.15);\n",
              "    fill: var(--button-hover-fill-color);\n",
              "  }\n",
              "\n",
              "  .colab-df-quickchart-complete:disabled,\n",
              "  .colab-df-quickchart-complete:disabled:hover {\n",
              "    background-color: var(--disabled-bg-color);\n",
              "    fill: var(--disabled-fill-color);\n",
              "    box-shadow: none;\n",
              "  }\n",
              "\n",
              "  .colab-df-spinner {\n",
              "    border: 2px solid var(--fill-color);\n",
              "    border-color: transparent;\n",
              "    border-bottom-color: var(--fill-color);\n",
              "    animation:\n",
              "      spin 1s steps(1) infinite;\n",
              "  }\n",
              "\n",
              "  @keyframes spin {\n",
              "    0% {\n",
              "      border-color: transparent;\n",
              "      border-bottom-color: var(--fill-color);\n",
              "      border-left-color: var(--fill-color);\n",
              "    }\n",
              "    20% {\n",
              "      border-color: transparent;\n",
              "      border-left-color: var(--fill-color);\n",
              "      border-top-color: var(--fill-color);\n",
              "    }\n",
              "    30% {\n",
              "      border-color: transparent;\n",
              "      border-left-color: var(--fill-color);\n",
              "      border-top-color: var(--fill-color);\n",
              "      border-right-color: var(--fill-color);\n",
              "    }\n",
              "    40% {\n",
              "      border-color: transparent;\n",
              "      border-right-color: var(--fill-color);\n",
              "      border-top-color: var(--fill-color);\n",
              "    }\n",
              "    60% {\n",
              "      border-color: transparent;\n",
              "      border-right-color: var(--fill-color);\n",
              "    }\n",
              "    80% {\n",
              "      border-color: transparent;\n",
              "      border-right-color: var(--fill-color);\n",
              "      border-bottom-color: var(--fill-color);\n",
              "    }\n",
              "    90% {\n",
              "      border-color: transparent;\n",
              "      border-bottom-color: var(--fill-color);\n",
              "    }\n",
              "  }\n",
              "</style>\n",
              "\n",
              "  <script>\n",
              "    async function quickchart(key) {\n",
              "      const quickchartButtonEl =\n",
              "        document.querySelector('#' + key + ' button');\n",
              "      quickchartButtonEl.disabled = true;  // To prevent multiple clicks.\n",
              "      quickchartButtonEl.classList.add('colab-df-spinner');\n",
              "      try {\n",
              "        const charts = await google.colab.kernel.invokeFunction(\n",
              "            'suggestCharts', [key], {});\n",
              "      } catch (error) {\n",
              "        console.error('Error during call to suggestCharts:', error);\n",
              "      }\n",
              "      quickchartButtonEl.classList.remove('colab-df-spinner');\n",
              "      quickchartButtonEl.classList.add('colab-df-quickchart-complete');\n",
              "    }\n",
              "    (() => {\n",
              "      let quickchartButtonEl =\n",
              "        document.querySelector('#df-a98808cc-f960-4191-8bff-05fdc12c0b89 button');\n",
              "      quickchartButtonEl.style.display =\n",
              "        google.colab.kernel.accessAllowed ? 'block' : 'none';\n",
              "    })();\n",
              "  </script>\n",
              "</div>\n",
              "    </div>\n",
              "  </div>\n"
            ]
          },
          "metadata": {},
          "execution_count": 26
        }
      ]
    },
    {
      "cell_type": "markdown",
      "source": [
        "Загрузим set всех тегов"
      ],
      "metadata": {
        "id": "zo0zcWtvXFCZ"
      }
    },
    {
      "cell_type": "code",
      "source": [
        "nltk.download('tagsets')"
      ],
      "metadata": {
        "colab": {
          "base_uri": "https://localhost:8080/"
        },
        "id": "nMoRZH7iGJ1m",
        "outputId": "930e193c-281a-44b9-8bc7-7b695b2fe294"
      },
      "execution_count": null,
      "outputs": [
        {
          "output_type": "stream",
          "name": "stderr",
          "text": [
            "[nltk_data] Downloading package tagsets to /root/nltk_data...\n",
            "[nltk_data]   Package tagsets is already up-to-date!\n"
          ]
        },
        {
          "output_type": "execute_result",
          "data": {
            "text/plain": [
              "True"
            ]
          },
          "metadata": {},
          "execution_count": 27
        }
      ]
    },
    {
      "cell_type": "code",
      "source": [
        "from nltk.data import load\n",
        "tagdict = load('help/tagsets/upenn_tagset.pickle')"
      ],
      "metadata": {
        "id": "hTYAaQSC5HBi"
      },
      "execution_count": null,
      "outputs": []
    },
    {
      "cell_type": "code",
      "source": [
        "tagdict.keys()"
      ],
      "metadata": {
        "colab": {
          "base_uri": "https://localhost:8080/"
        },
        "id": "lNoRPOXW5OCM",
        "outputId": "6df1b765-9b66-4b67-9b26-d3d67e586f61"
      },
      "execution_count": null,
      "outputs": [
        {
          "output_type": "execute_result",
          "data": {
            "text/plain": [
              "dict_keys(['LS', 'TO', 'VBN', \"''\", 'WP', 'UH', 'VBG', 'JJ', 'VBZ', '--', 'VBP', 'NN', 'DT', 'PRP', ':', 'WP$', 'NNPS', 'PRP$', 'WDT', '(', ')', '.', ',', '``', '$', 'RB', 'RBR', 'RBS', 'VBD', 'IN', 'FW', 'RP', 'JJR', 'JJS', 'PDT', 'MD', 'VB', 'WRB', 'NNP', 'EX', 'NNS', 'SYM', 'CC', 'CD', 'POS'])"
            ]
          },
          "metadata": {},
          "execution_count": 29
        }
      ]
    },
    {
      "cell_type": "code",
      "source": [
        "tags = list(tagdict.keys())"
      ],
      "metadata": {
        "id": "ep5n2IbZGLs-"
      },
      "execution_count": null,
      "outputs": []
    },
    {
      "cell_type": "code",
      "source": [
        "print(tags)"
      ],
      "metadata": {
        "colab": {
          "base_uri": "https://localhost:8080/"
        },
        "id": "b4_g78qMGS5R",
        "outputId": "31e0346a-704f-4fe9-bc29-365713f77028"
      },
      "execution_count": null,
      "outputs": [
        {
          "output_type": "stream",
          "name": "stdout",
          "text": [
            "['LS', 'TO', 'VBN', \"''\", 'WP', 'UH', 'VBG', 'JJ', 'VBZ', '--', 'VBP', 'NN', 'DT', 'PRP', ':', 'WP$', 'NNPS', 'PRP$', 'WDT', '(', ')', '.', ',', '``', '$', 'RB', 'RBR', 'RBS', 'VBD', 'IN', 'FW', 'RP', 'JJR', 'JJS', 'PDT', 'MD', 'VB', 'WRB', 'NNP', 'EX', 'NNS', 'SYM', 'CC', 'CD', 'POS']\n"
          ]
        }
      ]
    },
    {
      "cell_type": "markdown",
      "source": [
        "tags_dict_train - словарь для обучающей выборки, в котором ключ - тег, а значение - массив с числом встречаемости слов этого тега для каждого предложения."
      ],
      "metadata": {
        "id": "F5FAevOOXSOo"
      }
    },
    {
      "cell_type": "code",
      "source": [
        "tags_dict_train = dict()\n",
        "train_size = len(X_train_pr)\n",
        "\n",
        "for t in tags:\n",
        "  tags_dict_train[t] = np.zeros(train_size, int)"
      ],
      "metadata": {
        "id": "8AWyQOttHJ3N"
      },
      "execution_count": null,
      "outputs": []
    },
    {
      "cell_type": "markdown",
      "source": [
        "Считаем число встречаемости слов с определенным тегом для каждого предложения"
      ],
      "metadata": {
        "id": "t6WxMkc6YX2l"
      }
    },
    {
      "cell_type": "code",
      "source": [
        "for i, sent in enumerate(X_train_pr):\n",
        "  pos_tags = nltk.pos_tag(sent.split(' '))\n",
        "\n",
        "  for p in pos_tags:\n",
        "    tags_dict_train[p[1]][i] += 1"
      ],
      "metadata": {
        "id": "oB5z94YsIfh2"
      },
      "execution_count": null,
      "outputs": []
    },
    {
      "cell_type": "code",
      "source": [
        "tags_dict_train"
      ],
      "metadata": {
        "colab": {
          "base_uri": "https://localhost:8080/"
        },
        "id": "U7Plb3ksKNdi",
        "outputId": "f968f154-1b30-4d5a-9407-952055aeccda"
      },
      "execution_count": null,
      "outputs": [
        {
          "output_type": "execute_result",
          "data": {
            "text/plain": [
              "{'LS': array([0, 0, 0, ..., 0, 0, 0]),\n",
              " 'TO': array([0, 0, 0, ..., 0, 0, 0]),\n",
              " 'VBN': array([0, 0, 0, ..., 0, 0, 0]),\n",
              " \"''\": array([0, 0, 0, ..., 0, 0, 0]),\n",
              " 'WP': array([0, 0, 0, ..., 0, 0, 0]),\n",
              " 'UH': array([0, 0, 0, ..., 0, 0, 0]),\n",
              " 'VBG': array([0, 0, 0, ..., 0, 0, 0]),\n",
              " 'JJ': array([1, 0, 2, ..., 1, 4, 0]),\n",
              " 'VBZ': array([0, 0, 1, ..., 0, 0, 0]),\n",
              " '--': array([0, 0, 0, ..., 0, 0, 0]),\n",
              " 'VBP': array([0, 0, 0, ..., 0, 0, 0]),\n",
              " 'NN': array([0, 1, 2, ..., 3, 9, 3]),\n",
              " 'DT': array([0, 0, 0, ..., 0, 1, 0]),\n",
              " 'PRP': array([0, 0, 0, ..., 0, 0, 0]),\n",
              " ':': array([0, 0, 0, ..., 0, 0, 0]),\n",
              " 'WP$': array([0, 0, 0, ..., 0, 0, 0]),\n",
              " 'NNPS': array([0, 0, 0, ..., 0, 0, 0]),\n",
              " 'PRP$': array([0, 0, 0, ..., 0, 0, 0]),\n",
              " 'WDT': array([0, 0, 0, ..., 0, 0, 0]),\n",
              " '(': array([0, 0, 0, ..., 0, 0, 0]),\n",
              " ')': array([0, 0, 0, ..., 0, 0, 0]),\n",
              " '.': array([0, 0, 0, ..., 0, 0, 0]),\n",
              " ',': array([0, 0, 0, ..., 0, 0, 0]),\n",
              " '``': array([0, 0, 0, ..., 0, 0, 0]),\n",
              " '$': array([0, 0, 0, ..., 0, 0, 0]),\n",
              " 'RB': array([1, 0, 1, ..., 0, 1, 0]),\n",
              " 'RBR': array([0, 0, 0, ..., 0, 0, 0]),\n",
              " 'RBS': array([0, 0, 0, ..., 0, 0, 0]),\n",
              " 'VBD': array([0, 0, 0, ..., 0, 1, 0]),\n",
              " 'IN': array([0, 0, 0, ..., 0, 0, 0]),\n",
              " 'FW': array([0, 0, 0, ..., 0, 0, 0]),\n",
              " 'RP': array([0, 0, 0, ..., 0, 0, 0]),\n",
              " 'JJR': array([0, 0, 0, ..., 0, 0, 0]),\n",
              " 'JJS': array([0, 0, 0, ..., 0, 0, 0]),\n",
              " 'PDT': array([0, 0, 0, ..., 0, 0, 0]),\n",
              " 'MD': array([0, 0, 0, ..., 0, 0, 0]),\n",
              " 'VB': array([2, 0, 0, ..., 0, 0, 0]),\n",
              " 'WRB': array([0, 0, 0, ..., 0, 0, 0]),\n",
              " 'NNP': array([0, 0, 0, ..., 0, 0, 0]),\n",
              " 'EX': array([0, 0, 0, ..., 0, 0, 0]),\n",
              " 'NNS': array([0, 0, 0, ..., 0, 0, 0]),\n",
              " 'SYM': array([0, 0, 0, ..., 0, 0, 0]),\n",
              " 'CC': array([0, 0, 0, ..., 0, 0, 0]),\n",
              " 'CD': array([0, 0, 0, ..., 0, 0, 0]),\n",
              " 'POS': array([0, 0, 0, ..., 0, 0, 0])}"
            ]
          },
          "metadata": {},
          "execution_count": 34
        }
      ]
    },
    {
      "cell_type": "markdown",
      "source": [
        "Добавляем tags_dict_train к document-term матрице, которая была посчитана с помощью TfidfVectorizer ранее"
      ],
      "metadata": {
        "id": "wX_2FAN8Y3_T"
      }
    },
    {
      "cell_type": "code",
      "source": [
        "for t in tags:\n",
        "  arr[t] = tags_dict_train[t]"
      ],
      "metadata": {
        "id": "PczI31xQKktN"
      },
      "execution_count": null,
      "outputs": []
    },
    {
      "cell_type": "code",
      "source": [
        "arr"
      ],
      "metadata": {
        "colab": {
          "base_uri": "https://localhost:8080/",
          "height": 423
        },
        "id": "bjpgYqllKxHq",
        "outputId": "502531f9-e8c7-4469-9560-fdb960c600bb"
      },
      "execution_count": null,
      "outputs": [
        {
          "output_type": "execute_result",
          "data": {
            "text/plain": [
              "         0    1    2    3    4    5    6    7    8    9  ...  MD  VB  WRB  \\\n",
              "0      0.0  0.0  0.0  0.0  0.0  0.0  0.0  0.0  0.0  0.0  ...   0   2    0   \n",
              "1      0.0  0.0  0.0  0.0  0.0  0.0  0.0  0.0  0.0  0.0  ...   0   0    0   \n",
              "2      0.0  0.0  0.0  0.0  0.0  0.0  0.0  0.0  0.0  0.0  ...   0   0    0   \n",
              "3      0.0  0.0  0.0  0.0  0.0  0.0  0.0  0.0  0.0  0.0  ...   1   1    0   \n",
              "4      0.0  0.0  0.0  0.0  0.0  0.0  0.0  0.0  0.0  0.0  ...   0   0    0   \n",
              "...    ...  ...  ...  ...  ...  ...  ...  ...  ...  ...  ...  ..  ..  ...   \n",
              "54571  0.0  0.0  0.0  0.0  0.0  0.0  0.0  0.0  0.0  0.0  ...   0   0    0   \n",
              "54572  0.0  0.0  0.0  0.0  0.0  0.0  0.0  0.0  0.0  0.0  ...   0   0    0   \n",
              "54573  0.0  0.0  0.0  0.0  0.0  0.0  0.0  0.0  0.0  0.0  ...   0   0    0   \n",
              "54574  0.0  0.0  0.0  0.0  0.0  0.0  0.0  0.0  0.0  0.0  ...   0   0    0   \n",
              "54575  0.0  0.0  0.0  0.0  0.0  0.0  0.0  0.0  0.0  0.0  ...   0   0    0   \n",
              "\n",
              "       NNP  EX  NNS  SYM  CC  CD  POS  \n",
              "0        0   0    0    0   0   0    0  \n",
              "1        0   0    0    0   0   0    0  \n",
              "2        0   0    0    0   0   0    0  \n",
              "3        0   0    0    0   0   0    0  \n",
              "4        0   0    0    0   0   0    0  \n",
              "...    ...  ..  ...  ...  ..  ..  ...  \n",
              "54571    0   0    0    0   0   0    0  \n",
              "54572    0   0    0    0   0   0    0  \n",
              "54573    0   0    0    0   0   0    0  \n",
              "54574    0   0    0    0   0   0    0  \n",
              "54575    0   0    0    0   0   0    0  \n",
              "\n",
              "[54576 rows x 11834 columns]"
            ],
            "text/html": [
              "\n",
              "  <div id=\"df-54711b54-4c53-49a8-b942-91bd71b6eaf2\" class=\"colab-df-container\">\n",
              "    <div>\n",
              "<style scoped>\n",
              "    .dataframe tbody tr th:only-of-type {\n",
              "        vertical-align: middle;\n",
              "    }\n",
              "\n",
              "    .dataframe tbody tr th {\n",
              "        vertical-align: top;\n",
              "    }\n",
              "\n",
              "    .dataframe thead th {\n",
              "        text-align: right;\n",
              "    }\n",
              "</style>\n",
              "<table border=\"1\" class=\"dataframe\">\n",
              "  <thead>\n",
              "    <tr style=\"text-align: right;\">\n",
              "      <th></th>\n",
              "      <th>0</th>\n",
              "      <th>1</th>\n",
              "      <th>2</th>\n",
              "      <th>3</th>\n",
              "      <th>4</th>\n",
              "      <th>5</th>\n",
              "      <th>6</th>\n",
              "      <th>7</th>\n",
              "      <th>8</th>\n",
              "      <th>9</th>\n",
              "      <th>...</th>\n",
              "      <th>MD</th>\n",
              "      <th>VB</th>\n",
              "      <th>WRB</th>\n",
              "      <th>NNP</th>\n",
              "      <th>EX</th>\n",
              "      <th>NNS</th>\n",
              "      <th>SYM</th>\n",
              "      <th>CC</th>\n",
              "      <th>CD</th>\n",
              "      <th>POS</th>\n",
              "    </tr>\n",
              "  </thead>\n",
              "  <tbody>\n",
              "    <tr>\n",
              "      <th>0</th>\n",
              "      <td>0.0</td>\n",
              "      <td>0.0</td>\n",
              "      <td>0.0</td>\n",
              "      <td>0.0</td>\n",
              "      <td>0.0</td>\n",
              "      <td>0.0</td>\n",
              "      <td>0.0</td>\n",
              "      <td>0.0</td>\n",
              "      <td>0.0</td>\n",
              "      <td>0.0</td>\n",
              "      <td>...</td>\n",
              "      <td>0</td>\n",
              "      <td>2</td>\n",
              "      <td>0</td>\n",
              "      <td>0</td>\n",
              "      <td>0</td>\n",
              "      <td>0</td>\n",
              "      <td>0</td>\n",
              "      <td>0</td>\n",
              "      <td>0</td>\n",
              "      <td>0</td>\n",
              "    </tr>\n",
              "    <tr>\n",
              "      <th>1</th>\n",
              "      <td>0.0</td>\n",
              "      <td>0.0</td>\n",
              "      <td>0.0</td>\n",
              "      <td>0.0</td>\n",
              "      <td>0.0</td>\n",
              "      <td>0.0</td>\n",
              "      <td>0.0</td>\n",
              "      <td>0.0</td>\n",
              "      <td>0.0</td>\n",
              "      <td>0.0</td>\n",
              "      <td>...</td>\n",
              "      <td>0</td>\n",
              "      <td>0</td>\n",
              "      <td>0</td>\n",
              "      <td>0</td>\n",
              "      <td>0</td>\n",
              "      <td>0</td>\n",
              "      <td>0</td>\n",
              "      <td>0</td>\n",
              "      <td>0</td>\n",
              "      <td>0</td>\n",
              "    </tr>\n",
              "    <tr>\n",
              "      <th>2</th>\n",
              "      <td>0.0</td>\n",
              "      <td>0.0</td>\n",
              "      <td>0.0</td>\n",
              "      <td>0.0</td>\n",
              "      <td>0.0</td>\n",
              "      <td>0.0</td>\n",
              "      <td>0.0</td>\n",
              "      <td>0.0</td>\n",
              "      <td>0.0</td>\n",
              "      <td>0.0</td>\n",
              "      <td>...</td>\n",
              "      <td>0</td>\n",
              "      <td>0</td>\n",
              "      <td>0</td>\n",
              "      <td>0</td>\n",
              "      <td>0</td>\n",
              "      <td>0</td>\n",
              "      <td>0</td>\n",
              "      <td>0</td>\n",
              "      <td>0</td>\n",
              "      <td>0</td>\n",
              "    </tr>\n",
              "    <tr>\n",
              "      <th>3</th>\n",
              "      <td>0.0</td>\n",
              "      <td>0.0</td>\n",
              "      <td>0.0</td>\n",
              "      <td>0.0</td>\n",
              "      <td>0.0</td>\n",
              "      <td>0.0</td>\n",
              "      <td>0.0</td>\n",
              "      <td>0.0</td>\n",
              "      <td>0.0</td>\n",
              "      <td>0.0</td>\n",
              "      <td>...</td>\n",
              "      <td>1</td>\n",
              "      <td>1</td>\n",
              "      <td>0</td>\n",
              "      <td>0</td>\n",
              "      <td>0</td>\n",
              "      <td>0</td>\n",
              "      <td>0</td>\n",
              "      <td>0</td>\n",
              "      <td>0</td>\n",
              "      <td>0</td>\n",
              "    </tr>\n",
              "    <tr>\n",
              "      <th>4</th>\n",
              "      <td>0.0</td>\n",
              "      <td>0.0</td>\n",
              "      <td>0.0</td>\n",
              "      <td>0.0</td>\n",
              "      <td>0.0</td>\n",
              "      <td>0.0</td>\n",
              "      <td>0.0</td>\n",
              "      <td>0.0</td>\n",
              "      <td>0.0</td>\n",
              "      <td>0.0</td>\n",
              "      <td>...</td>\n",
              "      <td>0</td>\n",
              "      <td>0</td>\n",
              "      <td>0</td>\n",
              "      <td>0</td>\n",
              "      <td>0</td>\n",
              "      <td>0</td>\n",
              "      <td>0</td>\n",
              "      <td>0</td>\n",
              "      <td>0</td>\n",
              "      <td>0</td>\n",
              "    </tr>\n",
              "    <tr>\n",
              "      <th>...</th>\n",
              "      <td>...</td>\n",
              "      <td>...</td>\n",
              "      <td>...</td>\n",
              "      <td>...</td>\n",
              "      <td>...</td>\n",
              "      <td>...</td>\n",
              "      <td>...</td>\n",
              "      <td>...</td>\n",
              "      <td>...</td>\n",
              "      <td>...</td>\n",
              "      <td>...</td>\n",
              "      <td>...</td>\n",
              "      <td>...</td>\n",
              "      <td>...</td>\n",
              "      <td>...</td>\n",
              "      <td>...</td>\n",
              "      <td>...</td>\n",
              "      <td>...</td>\n",
              "      <td>...</td>\n",
              "      <td>...</td>\n",
              "      <td>...</td>\n",
              "    </tr>\n",
              "    <tr>\n",
              "      <th>54571</th>\n",
              "      <td>0.0</td>\n",
              "      <td>0.0</td>\n",
              "      <td>0.0</td>\n",
              "      <td>0.0</td>\n",
              "      <td>0.0</td>\n",
              "      <td>0.0</td>\n",
              "      <td>0.0</td>\n",
              "      <td>0.0</td>\n",
              "      <td>0.0</td>\n",
              "      <td>0.0</td>\n",
              "      <td>...</td>\n",
              "      <td>0</td>\n",
              "      <td>0</td>\n",
              "      <td>0</td>\n",
              "      <td>0</td>\n",
              "      <td>0</td>\n",
              "      <td>0</td>\n",
              "      <td>0</td>\n",
              "      <td>0</td>\n",
              "      <td>0</td>\n",
              "      <td>0</td>\n",
              "    </tr>\n",
              "    <tr>\n",
              "      <th>54572</th>\n",
              "      <td>0.0</td>\n",
              "      <td>0.0</td>\n",
              "      <td>0.0</td>\n",
              "      <td>0.0</td>\n",
              "      <td>0.0</td>\n",
              "      <td>0.0</td>\n",
              "      <td>0.0</td>\n",
              "      <td>0.0</td>\n",
              "      <td>0.0</td>\n",
              "      <td>0.0</td>\n",
              "      <td>...</td>\n",
              "      <td>0</td>\n",
              "      <td>0</td>\n",
              "      <td>0</td>\n",
              "      <td>0</td>\n",
              "      <td>0</td>\n",
              "      <td>0</td>\n",
              "      <td>0</td>\n",
              "      <td>0</td>\n",
              "      <td>0</td>\n",
              "      <td>0</td>\n",
              "    </tr>\n",
              "    <tr>\n",
              "      <th>54573</th>\n",
              "      <td>0.0</td>\n",
              "      <td>0.0</td>\n",
              "      <td>0.0</td>\n",
              "      <td>0.0</td>\n",
              "      <td>0.0</td>\n",
              "      <td>0.0</td>\n",
              "      <td>0.0</td>\n",
              "      <td>0.0</td>\n",
              "      <td>0.0</td>\n",
              "      <td>0.0</td>\n",
              "      <td>...</td>\n",
              "      <td>0</td>\n",
              "      <td>0</td>\n",
              "      <td>0</td>\n",
              "      <td>0</td>\n",
              "      <td>0</td>\n",
              "      <td>0</td>\n",
              "      <td>0</td>\n",
              "      <td>0</td>\n",
              "      <td>0</td>\n",
              "      <td>0</td>\n",
              "    </tr>\n",
              "    <tr>\n",
              "      <th>54574</th>\n",
              "      <td>0.0</td>\n",
              "      <td>0.0</td>\n",
              "      <td>0.0</td>\n",
              "      <td>0.0</td>\n",
              "      <td>0.0</td>\n",
              "      <td>0.0</td>\n",
              "      <td>0.0</td>\n",
              "      <td>0.0</td>\n",
              "      <td>0.0</td>\n",
              "      <td>0.0</td>\n",
              "      <td>...</td>\n",
              "      <td>0</td>\n",
              "      <td>0</td>\n",
              "      <td>0</td>\n",
              "      <td>0</td>\n",
              "      <td>0</td>\n",
              "      <td>0</td>\n",
              "      <td>0</td>\n",
              "      <td>0</td>\n",
              "      <td>0</td>\n",
              "      <td>0</td>\n",
              "    </tr>\n",
              "    <tr>\n",
              "      <th>54575</th>\n",
              "      <td>0.0</td>\n",
              "      <td>0.0</td>\n",
              "      <td>0.0</td>\n",
              "      <td>0.0</td>\n",
              "      <td>0.0</td>\n",
              "      <td>0.0</td>\n",
              "      <td>0.0</td>\n",
              "      <td>0.0</td>\n",
              "      <td>0.0</td>\n",
              "      <td>0.0</td>\n",
              "      <td>...</td>\n",
              "      <td>0</td>\n",
              "      <td>0</td>\n",
              "      <td>0</td>\n",
              "      <td>0</td>\n",
              "      <td>0</td>\n",
              "      <td>0</td>\n",
              "      <td>0</td>\n",
              "      <td>0</td>\n",
              "      <td>0</td>\n",
              "      <td>0</td>\n",
              "    </tr>\n",
              "  </tbody>\n",
              "</table>\n",
              "<p>54576 rows × 11834 columns</p>\n",
              "</div>\n",
              "    <div class=\"colab-df-buttons\">\n",
              "\n",
              "  <div class=\"colab-df-container\">\n",
              "    <button class=\"colab-df-convert\" onclick=\"convertToInteractive('df-54711b54-4c53-49a8-b942-91bd71b6eaf2')\"\n",
              "            title=\"Convert this dataframe to an interactive table.\"\n",
              "            style=\"display:none;\">\n",
              "\n",
              "  <svg xmlns=\"http://www.w3.org/2000/svg\" height=\"24px\" viewBox=\"0 -960 960 960\">\n",
              "    <path d=\"M120-120v-720h720v720H120Zm60-500h600v-160H180v160Zm220 220h160v-160H400v160Zm0 220h160v-160H400v160ZM180-400h160v-160H180v160Zm440 0h160v-160H620v160ZM180-180h160v-160H180v160Zm440 0h160v-160H620v160Z\"/>\n",
              "  </svg>\n",
              "    </button>\n",
              "\n",
              "  <style>\n",
              "    .colab-df-container {\n",
              "      display:flex;\n",
              "      gap: 12px;\n",
              "    }\n",
              "\n",
              "    .colab-df-convert {\n",
              "      background-color: #E8F0FE;\n",
              "      border: none;\n",
              "      border-radius: 50%;\n",
              "      cursor: pointer;\n",
              "      display: none;\n",
              "      fill: #1967D2;\n",
              "      height: 32px;\n",
              "      padding: 0 0 0 0;\n",
              "      width: 32px;\n",
              "    }\n",
              "\n",
              "    .colab-df-convert:hover {\n",
              "      background-color: #E2EBFA;\n",
              "      box-shadow: 0px 1px 2px rgba(60, 64, 67, 0.3), 0px 1px 3px 1px rgba(60, 64, 67, 0.15);\n",
              "      fill: #174EA6;\n",
              "    }\n",
              "\n",
              "    .colab-df-buttons div {\n",
              "      margin-bottom: 4px;\n",
              "    }\n",
              "\n",
              "    [theme=dark] .colab-df-convert {\n",
              "      background-color: #3B4455;\n",
              "      fill: #D2E3FC;\n",
              "    }\n",
              "\n",
              "    [theme=dark] .colab-df-convert:hover {\n",
              "      background-color: #434B5C;\n",
              "      box-shadow: 0px 1px 3px 1px rgba(0, 0, 0, 0.15);\n",
              "      filter: drop-shadow(0px 1px 2px rgba(0, 0, 0, 0.3));\n",
              "      fill: #FFFFFF;\n",
              "    }\n",
              "  </style>\n",
              "\n",
              "    <script>\n",
              "      const buttonEl =\n",
              "        document.querySelector('#df-54711b54-4c53-49a8-b942-91bd71b6eaf2 button.colab-df-convert');\n",
              "      buttonEl.style.display =\n",
              "        google.colab.kernel.accessAllowed ? 'block' : 'none';\n",
              "\n",
              "      async function convertToInteractive(key) {\n",
              "        const element = document.querySelector('#df-54711b54-4c53-49a8-b942-91bd71b6eaf2');\n",
              "        const dataTable =\n",
              "          await google.colab.kernel.invokeFunction('convertToInteractive',\n",
              "                                                    [key], {});\n",
              "        if (!dataTable) return;\n",
              "\n",
              "        const docLinkHtml = 'Like what you see? Visit the ' +\n",
              "          '<a target=\"_blank\" href=https://colab.research.google.com/notebooks/data_table.ipynb>data table notebook</a>'\n",
              "          + ' to learn more about interactive tables.';\n",
              "        element.innerHTML = '';\n",
              "        dataTable['output_type'] = 'display_data';\n",
              "        await google.colab.output.renderOutput(dataTable, element);\n",
              "        const docLink = document.createElement('div');\n",
              "        docLink.innerHTML = docLinkHtml;\n",
              "        element.appendChild(docLink);\n",
              "      }\n",
              "    </script>\n",
              "  </div>\n",
              "\n",
              "\n",
              "<div id=\"df-ffe88392-ec50-4e6a-b70b-4d4de333b529\">\n",
              "  <button class=\"colab-df-quickchart\" onclick=\"quickchart('df-ffe88392-ec50-4e6a-b70b-4d4de333b529')\"\n",
              "            title=\"Suggest charts\"\n",
              "            style=\"display:none;\">\n",
              "\n",
              "<svg xmlns=\"http://www.w3.org/2000/svg\" height=\"24px\"viewBox=\"0 0 24 24\"\n",
              "     width=\"24px\">\n",
              "    <g>\n",
              "        <path d=\"M19 3H5c-1.1 0-2 .9-2 2v14c0 1.1.9 2 2 2h14c1.1 0 2-.9 2-2V5c0-1.1-.9-2-2-2zM9 17H7v-7h2v7zm4 0h-2V7h2v10zm4 0h-2v-4h2v4z\"/>\n",
              "    </g>\n",
              "</svg>\n",
              "  </button>\n",
              "\n",
              "<style>\n",
              "  .colab-df-quickchart {\n",
              "      --bg-color: #E8F0FE;\n",
              "      --fill-color: #1967D2;\n",
              "      --hover-bg-color: #E2EBFA;\n",
              "      --hover-fill-color: #174EA6;\n",
              "      --disabled-fill-color: #AAA;\n",
              "      --disabled-bg-color: #DDD;\n",
              "  }\n",
              "\n",
              "  [theme=dark] .colab-df-quickchart {\n",
              "      --bg-color: #3B4455;\n",
              "      --fill-color: #D2E3FC;\n",
              "      --hover-bg-color: #434B5C;\n",
              "      --hover-fill-color: #FFFFFF;\n",
              "      --disabled-bg-color: #3B4455;\n",
              "      --disabled-fill-color: #666;\n",
              "  }\n",
              "\n",
              "  .colab-df-quickchart {\n",
              "    background-color: var(--bg-color);\n",
              "    border: none;\n",
              "    border-radius: 50%;\n",
              "    cursor: pointer;\n",
              "    display: none;\n",
              "    fill: var(--fill-color);\n",
              "    height: 32px;\n",
              "    padding: 0;\n",
              "    width: 32px;\n",
              "  }\n",
              "\n",
              "  .colab-df-quickchart:hover {\n",
              "    background-color: var(--hover-bg-color);\n",
              "    box-shadow: 0 1px 2px rgba(60, 64, 67, 0.3), 0 1px 3px 1px rgba(60, 64, 67, 0.15);\n",
              "    fill: var(--button-hover-fill-color);\n",
              "  }\n",
              "\n",
              "  .colab-df-quickchart-complete:disabled,\n",
              "  .colab-df-quickchart-complete:disabled:hover {\n",
              "    background-color: var(--disabled-bg-color);\n",
              "    fill: var(--disabled-fill-color);\n",
              "    box-shadow: none;\n",
              "  }\n",
              "\n",
              "  .colab-df-spinner {\n",
              "    border: 2px solid var(--fill-color);\n",
              "    border-color: transparent;\n",
              "    border-bottom-color: var(--fill-color);\n",
              "    animation:\n",
              "      spin 1s steps(1) infinite;\n",
              "  }\n",
              "\n",
              "  @keyframes spin {\n",
              "    0% {\n",
              "      border-color: transparent;\n",
              "      border-bottom-color: var(--fill-color);\n",
              "      border-left-color: var(--fill-color);\n",
              "    }\n",
              "    20% {\n",
              "      border-color: transparent;\n",
              "      border-left-color: var(--fill-color);\n",
              "      border-top-color: var(--fill-color);\n",
              "    }\n",
              "    30% {\n",
              "      border-color: transparent;\n",
              "      border-left-color: var(--fill-color);\n",
              "      border-top-color: var(--fill-color);\n",
              "      border-right-color: var(--fill-color);\n",
              "    }\n",
              "    40% {\n",
              "      border-color: transparent;\n",
              "      border-right-color: var(--fill-color);\n",
              "      border-top-color: var(--fill-color);\n",
              "    }\n",
              "    60% {\n",
              "      border-color: transparent;\n",
              "      border-right-color: var(--fill-color);\n",
              "    }\n",
              "    80% {\n",
              "      border-color: transparent;\n",
              "      border-right-color: var(--fill-color);\n",
              "      border-bottom-color: var(--fill-color);\n",
              "    }\n",
              "    90% {\n",
              "      border-color: transparent;\n",
              "      border-bottom-color: var(--fill-color);\n",
              "    }\n",
              "  }\n",
              "</style>\n",
              "\n",
              "  <script>\n",
              "    async function quickchart(key) {\n",
              "      const quickchartButtonEl =\n",
              "        document.querySelector('#' + key + ' button');\n",
              "      quickchartButtonEl.disabled = true;  // To prevent multiple clicks.\n",
              "      quickchartButtonEl.classList.add('colab-df-spinner');\n",
              "      try {\n",
              "        const charts = await google.colab.kernel.invokeFunction(\n",
              "            'suggestCharts', [key], {});\n",
              "      } catch (error) {\n",
              "        console.error('Error during call to suggestCharts:', error);\n",
              "      }\n",
              "      quickchartButtonEl.classList.remove('colab-df-spinner');\n",
              "      quickchartButtonEl.classList.add('colab-df-quickchart-complete');\n",
              "    }\n",
              "    (() => {\n",
              "      let quickchartButtonEl =\n",
              "        document.querySelector('#df-ffe88392-ec50-4e6a-b70b-4d4de333b529 button');\n",
              "      quickchartButtonEl.style.display =\n",
              "        google.colab.kernel.accessAllowed ? 'block' : 'none';\n",
              "    })();\n",
              "  </script>\n",
              "</div>\n",
              "    </div>\n",
              "  </div>\n"
            ]
          },
          "metadata": {},
          "execution_count": 36
        }
      ]
    },
    {
      "cell_type": "markdown",
      "source": [
        "Делаем one-hot encoding для новых фич"
      ],
      "metadata": {
        "id": "zD3ymUArZyT1"
      }
    },
    {
      "cell_type": "code",
      "source": [
        "result_train = pd.get_dummies(data=arr, columns=tags)"
      ],
      "metadata": {
        "id": "rJ_dD5PrLKpe"
      },
      "execution_count": null,
      "outputs": []
    },
    {
      "cell_type": "code",
      "source": [
        "result_train.columns = result_train.columns.astype(str)"
      ],
      "metadata": {
        "id": "B8nO5QS4RmjS"
      },
      "execution_count": null,
      "outputs": []
    },
    {
      "cell_type": "markdown",
      "source": [
        "Обучим модель"
      ],
      "metadata": {
        "id": "grmobAxtaN3n"
      }
    },
    {
      "cell_type": "code",
      "source": [
        "clf4 = LogisticRegression(random_state=42, max_iter=150)\n",
        "clf4.fit(result_train, y_train)"
      ],
      "metadata": {
        "id": "6LGcFinOLTrv"
      },
      "execution_count": null,
      "outputs": []
    },
    {
      "cell_type": "markdown",
      "source": [
        "Делаем то же самое для тестовой выборки"
      ],
      "metadata": {
        "id": "DrvICbu3aBaw"
      }
    },
    {
      "cell_type": "code",
      "source": [
        "bow_test = vec4.fit_transform(X_test_pr)\n",
        "arr_test = pd.DataFrame(bow_test.toarray())\n",
        "\n",
        "tags_dict_test = dict()\n",
        "test_size = len(X_test_pr)\n",
        "\n",
        "for t in tags:\n",
        "  tags_dict_test[t] = np.zeros(test_size, int)\n",
        "\n",
        "\n",
        "for i, sent in enumerate(X_test_pr):\n",
        "  pos_tags = nltk.pos_tag(sent.split(' '))\n",
        "\n",
        "  for p in pos_tags:\n",
        "    tags_dict_test[p[1]][i] += 1\n",
        "\n",
        "\n",
        "for t in tags:\n",
        "  arr_test[t] = tags_dict_train[t]\n",
        "\n",
        "result_test = pd.get_dummies(data=arr_test, columns=tags)\n",
        "result_test.columns = result_test.columns.astype(str)"
      ],
      "metadata": {
        "id": "hdpioGkjRrKe"
      },
      "execution_count": null,
      "outputs": []
    },
    {
      "cell_type": "markdown",
      "source": [
        "Предскажем"
      ],
      "metadata": {
        "id": "bMAPLCOoaPjX"
      }
    },
    {
      "cell_type": "code",
      "source": [
        "pred4 = clf4.predict(result_test)\n",
        "print(classification_report(y_test, pred4))"
      ],
      "metadata": {
        "id": "114xccOkVWhg"
      },
      "execution_count": null,
      "outputs": []
    },
    {
      "cell_type": "markdown",
      "source": [
        "У меня не получилось предсказать, так как каждый раз не хватало RAM("
      ],
      "metadata": {
        "id": "AIL0C9Z2aS1f"
      }
    },
    {
      "cell_type": "markdown",
      "source": [
        "![image.png](data:image/png;base64,iVBORw0KGgoAAAANSUhEUgAAA28AAALnCAYAAAAeW3/9AAAAAXNSR0IArs4c6QAAAARnQU1BAACxjwv8YQUAAAAJcEhZcwAADsMAAA7DAcdvqGQAANb1SURBVHhe7P0NfFxlnf//f5IAJWgRpRCwoANtXVm7lqokFtQMdFdUhNCqaTVLG4GvLqKGbn80FP4bx3wXauDbb+0ioi5oWrdrGzVlyuLN7rcwXYWaoJRi8Yam7CAUSGmVGyUt0OR/XedcZ+acM2cyN5lJ5qSvJ4/DzJw5OXPmnDPT6z3XzakaUWQS2L17t0QiEampqZGqqiprAgAAAIDJotrcTgpHH320VFdXE9wAAAAATDqTKrwBAAAAwGRFeAMAAACAECC8AQAAAEAIEN4AAAAAIAQIbwAAAAAQAoQ3AAAAAAgBwhsAAAAAhADhDQAAAABCgPAGAAAAACFAeAMAAACAECC8AQAAAEAIEN4AAAAAIAQIbwAAAAAQAlUjirkfart375ZZs2aZR+V18OBBcw8AAAAAxgc1bwAAAAAQAoQ3AAAAAAgBwhsAAAAAhADhDQAAAABCgPAGAAAAACFAeAMAAACAECC8AQAAAEAIEN4AAAAAIARKHt6Gh4flhRdekD/96U/W9Morr5hnAAAAAADFqhpRzP0xOXDggPzwhz+UX/7yl/Laa6+ZueoFqqrklFNOkUsvvVTe/e53S3V1eSr7du/eLbNmzTKPyuvgwYPmHgAAAACMjzGHN/3n//3f/y3f+973ctayzZkzR6644gp5/etfb+aUDuENAAAAwGQ2pvCm//Q///M/rRo3Xduma9Xe/va3y/nnny+RSMRqNvnII4/IfffdJ3/5y1+sv3nb294mX/ziF+W4446zHpdK6MPb4cNysL9fXnviCTn87LPWrJpTT5Wj3vIWOba+Xj2oseYBAAAAODKNKbwNDAzIv/zLv8if//xnOf744+Vzn/ucFc78hoaG5Dvf+Y7VpFKLRqNy2WWXWU0qSyWs4e1VtQ+fv+UW+cuWLTL8/PNmrlf1CSfI6xYskBOuvVaOPuMMMxcAAADAkaToDmiHDx+Wn/70p1Zw080gP//5zwcGN622tlZaW1tTz+sQ9+STT1r3j1TDL78sB5YvlyfPPlteWr8+a3DT9HMvqfD71DvfKX/8p3+SEQaBAQAAAI44RYe3Z555Rh577DHr/rve9S6ZMWOGdT8b3UyyubnZCnI68D388MPmmSPPa3/4gzz9/vfLC1//utVcMl8jr70mz/+f/yNPX3CBHFb7HwAAAMCRo+jw9txzz1kh7JhjjpH3vve9eTWBPPXUU+W0006z7ieTSav27kjzyu9+J0+p/fXKb35j5hTu0K9+JU+dd54VAgEAAAAcGYoOb3pkSd1drqamxgpw+dC1bm984xut+3oAkyPtGnCH9+2TZy66SIb/9Cczp3i65u3ZpiYZfvFFM6f0BnsWq2PWJX3mMVB2ezfJYvU9ob8r7GmxbNprnjP6VtnPLe4ZNHOQD2e/paZVlfTJrpKe5TXSck/p+kEjh501MvXcGuk3DwEA4VB0eDvqqKPMvfzpsKcv4n2k2v+P/yiHn37aPBo7XYv3py99yTw68kxEuLQKwC2bhNhQBjq4zWyVeEfCGuTInjbKounm+QKU8jhNhh8x9P6IdjZJ94CzX9W0ssE8O/H6b6uWK7aLtF1UksuOjqJPusY7+JsfJLoqLSXNGZY754nMX17N9xkAhEjR4U3XtulaNz3y4h//+Eczd3Qvv/yy7Nu3z7o/bdo069ffI8Uru3bJX374Q/Mo2DF/9Vf6qubmUX5evPNOeW2vr2oCGE+u2rKxFFAH798scVEBY8nooaJhpR0+NjbXmTkYXZ8kOtVNx7KignC5Dd5TI/M3iNx512GpN/M0OzQHBS07gNEqYKxGpHn1iHRsr5KZKjwDAMKh6G/s6dOnywknnGDVpm3fvt26zlsuejj/vSpo6P5xf/3Xf23mHhme/+pXzb3sXvfxj8ub/+u/pKYu/0LpyKuv2gOfABNiUDataFWhq1TmSqQCA8Zk0DQjYu5VkmpZf6PIJTcMS/PJZpZR17xREh0i8aURz48CfauiEtMhf6BdKqfuMKyG5drb1c2GKrllpz0HAFDZig5vuu/a3/zN31j3f/3rX0t/f78V5LLRA5xs3LjRGqTklFNOkdmzZ5tnJj89tP/LW7aYR6NQofbY886T0x9+WI778IfNzNxy1eiNnfNLtz0FNTlyfiVPTe7+NP1dal5m3yVHYU3c0tsSWaojQ0yi7tfN+DVehYsW9/NZtiOjr5VrPa7noroGo7dVIu5lJ7IZpbVvg2u87D5Ovv1hlk9N2fo95b1ct7T2qoL0tm5VnC4v+/2kp4z3XNLjVMB55jq/vdsYUDPk36/+Zaz3ELCuwG33fi5H+4zlw79//Z/zdPNR32fKtW3WOtS5kvo+0OfNKDWzg/dUiT5U2ZpLNqxMqD2v9n6j2U9q/+lj27RubUG1iOnvJx387ECY2n41ZXyn5Xn+j7bPUs/ppsDqcazRu2yhtdTWe7D29ejfx/kcJw/TfLJzPc0nASAMig5vuvbswypgnHzyyVatW3d3t2xRASVoEJInnnhC1qxZk2oyecEFF8gb3vAG6/6R4OD998vwSy+ZR6Mw4VdflPuU3l45satLqvLoW/ia2r+v/P735lGJLdwha1SBR7aZfjLbYr5fwu0CQmTpXEk4fWmGVIGrM5ouLEyPqIJ9XJKjFSxnRyS/+sYGaTevk1yn40LM9bp6cv8arws5EWmdne5DlVwn0jrTV8jVhUtVwJJ1yfR6BiKyximwTV8kG818XRMgC7sl6Synpw2L8tz2Mqi3C6Oxrf7Cpd1Urmlda2p/WIW6xh2ufk/mOPkKplahszEmMeeY62l+IqCwqfavWq7QgrSHq5AcGJJc2+Y0lxwayBIUS3qcCjnPtLg6r1RoFOdcS0r3QvVe3AVmfZ5tjbrWYZbJCHn2utbMcM5HdZx0EPUcJ31uq2Pv6R+4TJIrnNdzF9yDAov7M2CHgegu1/5S+1j08hmhRW9vRDY3jbJtu9ZI255l1neFdK6RxSs2y4IB/V7952mVbLtX3bSMeJpLeqnjoNejX3dVl3W+6eO6tsAms7oWL7W96nGT+7OuJncT3EI+J9FO73mxbE9bar/6z1fP50lN7dnfdHbWDxKjfR878jhOKSPSeIG62a6Oh/1PNACggo2poftJJ50kV155pXWRbh3g4vG4/H//3/8nX/va1+SOO+6wpo6ODuns7JRnn33W/JXIj3/8Y+tSAUeK1556ytwrzBu++EV5swp+R595ppmT3avmmnsl1xuXuaqgkCpo1LfahbC1ppDo1Lx4mjCZApcqLHTrQoUKb3PtJyzpX4atR5LcVZ4mXYM9a1QRRhWuXAMz1DWvVduvCsfrXYWYvUlVXG6SBee5CoQ6CJRrQIeM2hfvVNgv8g0S1UGlM+ENAP26kOp+T33SrcKRN2iZ46QK2KmCvAoYa1To0wVNT+Gyvj2jsGk1XyuiIO2h1usUZgNDUgUNqpGLFQhS21sn0Sb1fnqTkvqmyzin6mRRmx1MEv5jrkJZOlCYY7wr6QqCSdmhbmLz3etTxzMVUNW6Nzj7MSiwpAeCSX1O3OFWbetafTzc54ahz41Rt61XZEGq36IK5E2uc8693L4qiW9Xb/V9OQaxUueIFcZVULKaS95czh9L8vycmO8t6YiqZ9MaVhY3wE4hPJ9N5/s448ebPI6TS905I3KJun2Cy4cCQMUbcy/lmTNnyooVK6ymkJq+9ttDDz0kDzzwgDU9pYKLbk75ute9Tt797ndbo1TqAU50wDtSAtzw/v3mXuGmvPOdMv3BB+V1H/uYmRNM176VR0yinkJ7nUR0i1dTKO3bqouFAf2UTI3QjqQuKkQkogoY9n2R5B67hsUusKr1qMJe6Q1KIq5ex1e4Sm2/uxBjagYzauTKxRVYgqZCf5FvWKJ/2fcGAOu4LFwgUee4ZIQ5w1crag8a4j/mAZyQ1zaBtY4VZm7Euyfs2p4c/bKs/Z/JG8oCmB9EdFO8QpvfeZnPyUL1GTVzHHXnLfCcG7amjM+6VcPkDn7u807x75eUZ6pENyZ/66n2w9E0zNffJlqZ+0Tm+TlJfY8E1MiVV5bv44xQlsdxcjtZ5Gx18/BTXKoBACrdmMObpi+8rWvXrr76apkxY0bqum/V1dXWhbkXLlwoN998s3zuc5+Tj6kQcsQFOLUfxqKqpkaqjzvOPMpiHC/BEJnhK24GFPwc8T36+NoFDPu+bs4Xk+51Takwp2Ut4BXNhEJduPLVbFn9odys5na60GY3V7OX8zdlq2DTo7LA8+u73WTSHawGk7qexv3+zGT64zisYD3K8bQN2oOUdCQKDppHOn8fKf/+z1+DtFvNLu0AZ69vDD8+jNJs2f05nRh281ybbj5Zvk9mvp8TTYchq7bY9R0T1B8YAIBSKkl403Qg0zVrN9xwg3zjG9+Qb3/721azyRtvvFE++tGPWv+w6X5yH/zgB4+4AFejAmyxXlP7Zu/73icvffe7Zk6wo978ZnOv/PIr4Ns8zSH1r8O6uVdHVBZF5ko8nrAfB/xKPHZ2bZ9ufhZUu5X5C7QuDJvnnD425QpwJW02qZkmek7TSav2wPsLfZ3a3/rXeM91vlyTE8KsYO5u6hdgsKdNWntjnuaoyM3uI+U7Btn67+XF1TTSWk95ao9L/8NKYezRJdUncpsdVnVYGlttY3b5fk4c6b509rbp/mcEOABAOZUsvOXrSAxwR0fyiTmZ9AiVT51zjnWNuFyOyqNfXGmYa0aZX+qt5ky9myXhLzD6mh85tXXJ+zeL6ECnm1Wm/q64plB2QWtHloFQsjUnyoNu1mgFuMx15xNucipxs0mtrnmZFdh000mryaS/uWhGs69g9j71NsH0Ms3s1DKegUV8I+p5C9fpwTPKVej2K8lxMkY/z/JV5mut6dpjE+AK205f8HfJuwltsU7No5+VGV1S/wjTXq/C6s1m8A9n9MmC2T/q2K0AAuT5Ocmkg7QJcP51myau5anBNAMTNUWt7+Oi7RN5WN2cfVq5L5IOABircQ9v2pEW4KaoAFb9pjeZR3k4fFgOXHedPLtokQz/+c9mZnb6unBT5uriQfnZv4K7al2sDvNxaU2NcqeZZk6ugqpVAO5tlehSMYFOd6BXf9eoCv151uJlMAUtz+AjLlZfsKwjrKXpAVT8oSJbXz4n3KypuF/X7QEJYlu7VGGuKfNC16pwv0w/35ijZsYZAMG/nCpE2/vIPRCGa/KNqOcJoHsTstn0awwaWKEcSnqccpxn+TE1we6QpGtgi202qf42Y4h4c5HzQn8IcYK/pzni3k3SZg3ckR6ttOROHpEmPUT9z7P9M+Q0l3R93zgDqRR9bJ2+apkDsVjy/ZzobfMPvW/O88zBl0xgXNqdPvYl4nwfLxvLoEHK4IP59z8EAEysCQlv2hEV4NR7ff2CBebB6A4/+6zsnT9fXli71szJ7fVqH+rXKDV7wAJvDYs9nLh7EAbzi7PoIayd5aKywzPynmIVgBXXYAapQQjyvkyAj65tsEaBc/drc/0ir593hvlOPW9P7rCmmz5Ft3qfz3yfRn271c/FM+x6tusnjTNrf+oR+XwDRjjsPjr6Ugne9+rdfjucJXSwdi+3NVpUjaDF9MnTcg7EkZU9nL21Lb5avsD+iaU8TrnOs7zo/WqaszrrWBuRZLHNJtX7Wyttru1xLtdRzGiHusmw73Oi9rEeZdY9hH7pmSHqN1RJZoWsrq11mkt6P4f2iLF2E8VianIbVuoaMu/57Q7C+X1O1D67WaTN/XzWfRZw7NVUXC10ru/jYqQv2eC/UDoAoPJUjYx2Ze1xoF/+P//zP+WHP/yhdbmBM844Q9ra2uT44483S+Rn9+7dMmvWLPOovA4ePGju5U8P5f/k2WenruUW5DgVZg8+9FBBo1NWHX20nP7rX8tRb32rmQMAYVEtt5xbJZ0qOLx09fgNuhRGuoWAHdDHGtZ8dtbI1KtE7rzrMOENAEJgwmreHO4aOH3B78suu6zg4BYGR7/tbfL6RYvMo2AvqxBb6GUFpi5ZQnADEFLDsuQGdbOhSm7Zac/BeFLhWQU3at0AIDwmPLxpToD753/+Z4kUObhHGEz7P/+npEHrmL/6K3nTTTeZRwAQPnUXHZatLSKdV9VIzz4zE+OgSnqWV0nnvBEZoNYTAEKjIsKbpgOc7vs2mVWfeKKc+h//IdVvfKOZUzx9+YFT7rlHqidLLeXeTbLY1Zcj6zSuF8TFpMN5VpHqVXi4c55I/MHC+u5mXDcvcCr95RNKRTeFDN5m71Rc/7gcdlbLFdtFtq4eLq7PMQBgQkx4n7dSqfQ+b26vPfGEPPuxj8krjz5q5hTmmLlz5dTeXqk55RQzBwAAAMBkVzE1b0cS3XTyzdu2yfGf/7w6AvkfgqpjjpE3Xn+9TE8kCG4AAADAEYbwNkGqX/c6mXbLLXLaQw/J1L//+1GbP+prxB1/xRXWqJJv/Kd/skIcAAAAgCMLzSaLMNZmk0FGXntNDvX1yWtPPmld603T/dqOPvNMmfLudxdUQwcAAABg8iG8FaEc4Q0AAAAARkN1DgAAAACEAOENAAAAAEKA8AYcwazrZLVskkHzGJVn8J4ambq82nOM7OuDdQlXo8P4OiB3bzpXlm8/YB4b+++W5Xcsl7v3m8fZ7FTn8rk1Uo7L1gHAkYLwhtCaiAIsYadc+qSrtlYW97BnPVRhd+aNIh1LwnUh5bB/NgnHwXb9+GJZ9dIn5dPzTjRzjGkXy6enb5dVd90qu8ysQHPsi7HP9/0YAQDIH+ENQGH2bpLFKmjV+qdVlVDUHZRNLQHbVjHbV4B91dJylcglNwzLtXPMPGCCHNi+XD6zd56svPQLMtvMc5v94btl5dTvyWc23S2+ejmXEWlePSId26tk5m0UPwCgGHx7AihKbNuQDA05U0JinVEVkiqktqIj4do2M61sME+GQ//3q2TLvBH5vxdNigGBEWq75N8f3S7z3nG9XDzNzMpwolw8f6XMe2mV3ORvVukxLNferm42VMktO+05AID8Ed4wuoxalsWyaa95zmJqOnSthm9ZbxM4V7O4/i7X+mqlq6AOEPZ69N9FlsbV45hEXevKDA/+mhj/9hsZ79O1Htdz0U71uLdVIu5lJ7gZpdVcLGD/B+1XuzlYehnr/ZREg7QPdEuTPh6eGq7MmjD3eZHenqj6S5H40kjWZTXrvbqeL7Y2Ld0szrd9Acdy1Ne09rk+p5zz0j6/Un+Tsb70+WtPWcLuvmpZuyGf5pLe9QU1O/Ufc8/2W5/FLJ8JpbCmiGH/bBa6/Wb/uJYJ2v/+77us+yHgM+xZn+tYeV8393Z5PyfmfQbtG7Ot/u+OA9u/I9+TgOaSflbzSZHtj/57Xs0nO9fTfBIACkV4wyjUP/IrRNa6ai8SHXFpnRlQyNK1LjM3y4IBs+y2mFUQ9xcCrMJ5o0jCrC+5ThX3G7MXHjOpkOD6W13ActZlT+1qCYcupESkdXa6Fia5TjK3XxeYZraKrEum1zMQkTVOgWf6Itlo5ic61OOF3ZJ0ltPThkUT3x/Jt/+D9qsu0EWWzvXsL+v9lIraT8v0+joTqcJk36o2kZvTr+ecF06htK55o3kuYYW3JvcxUNPG5vSe1SEkMT/93JAOi/p9ewqmhdCF84hsbnJeU22DLvy71pfva25esUYiA0npXhhX9xdLVNQ5p96r9G6WhHMMrIJ5VHa43mOiQ29DZuF78MEq2aJuG0drLrlwh6xR6xOnBjTjM2eHAu8xNzWkTsF9ekQF7rgkR/v8zY7keX6H/bNZ6ParwLjL9Xrq3BD9/eY+N/T2b4261qHPkeBjnt93qP7+Va+rzy/3+lxBLPc52yCt+v25z02jb6v+FKr11duPbQfkgT9sV/v6/MDmkn6zz/ik+v/35L7f2Y+DjUjjBepme5Vs22fPAQDkh/CGUajCjK/w07BE166oAur9/t9LdUFnoyyabh7W2zUpO5K+5azCVboQVHfegtyFxyIN9qxR26C2y9Vcrq55rVXAbl3vLmAl1RY0yYLzXO9UFwrL1cwu45d47xRUY5Zbk3QPpPd/XfMy9c5dx0kVItd0qqO0zV0ALZcdqePZsNJ1Tmj1rWr/qyJoPFHwL+466LW7C5UBYbFQuulnOiA2SFSvb1cytW35vWZc4rOXpd5nvFeFpdS5kz63+9a3Slyd/2tdgbRhpQ6tMVnjqbFRBdp71U3LiHjK0H69cZmrtj+1fWbfxtaagnx/t7T26vPCfczVZ9oKlWpZfZ6p8DbXfsKSrpG0HklylzqzZkSsR6VUsZ/NPKW23/39qLZrrQ5FnWvSATRjW+tkUZsdkBIZn/P8vkOtHzhS66yTaJMOYklJOnPyOGed713v93ifJNR3RNO6Vu93xP4HJPGSyCfPyCe6KW8/X3R8S/5ptKaTahvOGZFL1O0Tz9iPAQD5IbyhML7CXsrCiHiLePav2O6aE4v/V3xduFHLeQobJTEoiXhcpCPqLYioV4/oMoirgO7UPgTWKJZDfXv6V/GAqah9sXCBRN0hSR2NiA5Je+wi3eD9m9U79P+iXnqRGbrGYjRm/5dI1tfTNQ05Q3GTRDz7TIcpdQxy1NYEvWZsvussy/gsaKZg3BT1rdt7nGxV8sR2kUsiufq6+Y+n2bemIG/XoszNeI/eUGC/vhMQknvs5oJ2sFDr6dW3pVbBn828mO0POM55/RhlvacAeX6Hzo14H9u116P/KJNxzk6PygL/jyj9+ocEX1DW9idlu8yTSNa+bn6nSmSqyPbnc6Syk0XOVjcPP1VlPwYA5IXwhlFl9JcxfZMqnyl4BhTiM/p5WQFSF1zsJkn2cgHNmpCTXfh3sZoK5tj/eTN9dVyT3TcpQMCAJcX9QFDAa45mb1J2qBur2bBnfRFpLWFAyiikBwZJmx0Y7cBk39cBMybd65o8tT3+sDB2k+SzOUpzUvf+y+h/NrNVvZtyyuecNTWArqaTVtjvSNcgAwAqE+ENWengpv/RzxhV0Dxf2ewahcBRB/WUUbuS7u9i9VVS7zKwX0oplKXZZCWwm9mlagFNf6W47xgU189OF0ijEvP1abL7JpVLCV/T1Fj7+/SlphI1A7TC8yiBzc3THFLXdumA2RGVRZG5do2MFTgzayfHroI/myXiBF4d3KKduumq6/1ZA/uUSwHnrFUD6zSdtGuGPTXIAICKRHhDFk7ToG5pLXNTu2LVqUKmu3+VV0ATrHzpZo1WITFz3VbNhqt/SVHK0WzSb29CNvemC2OB+8r0gwuUqjEroJBs9bFKNw20m2qqguuSfAqEdoHe23zQxWrSpd5P2+hNGkuqpK+Z4/15jMhb54lsSRbanMwugDs1Qg3z1dYHDErhbx7n1NYl1fESHeh0oT71dwHNLvNQ0Z/NPM7tXNtv9TML6GvpbZ5sjsd41mYVdM7aA5dYQd36uyzNqqdFZJ5sl+R+8zinZyT5ksi8E041j7PYJ/Kwujn7NC6FAQCFILwhC6f/TOZoebpwUBGc/jDuAQ5crMFVfKMHBtE1jP7armz9hexCnX+AiUozKJtW2INjpIK3+ZU9va/6pEuP4rcw4Bd5xS6EakEDKwTQtYmNap+p13QG5LD3lXtQBHv0w+Bmk+Z8cw/24Gb6CcW2po+lPXpmGRuglfQ1TTO1zmjwcPIeZiS+DVVSSCVs3yp9jNXxcmrxrAFM1DFf4R4SXh13fZxcgcI6TupzEl0qJtDpgVvU3zXqcyi/WrwMFfzZzOvczrH99oBAKuz4RpZsU+dGesAPU8PoDnn6c1LOZpMFnrNWHz19HNQ5kTFQiWPauRKdKvK9/xl18P+0390n31M3kTeOflkBZ0TVt+bIeAAAL8IbsmpYaQ99nuprMjMpyyqp2aTuD6N/hff0nXH9mu70l8kxeIXu8B/d6n3eHgI8YBCA+narCZKn71JB15IqE10AS22/GYLd0/yswb4OW2pf6KHth2RtcHYzAy9oWX6NV2KNzuupqXGH3TTM/ZoZ+yoiybbszSYzzjc1pYJOwLFeMyNZ3maTpX5NXWvkDCdv1mdPmYNxOCPxbctyEWP7+Ojmg+n1ZJ6zKjBuUPtU3OeGuVSBu5mmKfC7B72xau20vC8T4FPBn818zu2c268/T/7tV6FMj/6ZHmBE739To+Uss1Z9BsrZbLLQc9YMXKIH78kYqCTlRDn3LfNUOL1v9Gu3Gbv+R0W3qSvlU283MwKlR1RtPtmeAwDIT9WIYu6H2u7du2XWrFnmUXkdPHjQ3AMmntWvRhdoc4ySiHDpv61G5m8Q2frA4dEvGQAUTdeGR1S8z/X9sUtuveMz8r3p35IHPqyryLPYf7csv2uVRN73gHxhtPC2s0amXiVy512HCW8AUCBq3gCgAtV/wq59m38bX9MoE6dvbM4+crPlU+/QtW+fkVuzXnz7gNy9dZVsz1nrVi23qOBGrRsAFIdSAQBUopOHZcPt6nZDlbTcw7WwUGp2v1c9Gmw+gySdOG+1fGu6yPd+vlzuDhi8ZNePL5ZVL31SvrXoYsne261KepZXSee8ERm4etjMAwAUgvCGypAaAS7HlGOAA2BSmXNYBm4Q2XJv1cT1q+SzObmkjmdUYvpyDQVcpmL2h++WlVO3S2L3ATPH2H+3fGfvPFl56RdklEaVIjur5YrtIltXD9PEGwCKRJ+3ItDnDQAAAMB4o+YNAAAAAEKA8AYAAAAAIUB4AwAAAIAQILwBAAAAQAgQ3gAAAAAgBCoivO3Zs0eefPJJGR7mui8AAAAAEGRMlwrYuXOn3HfffZJMJuXoo4+WW265xTxTmLVr18ojjzwixx57rJx//vny8Y9/3DyTPy4VAAAAAGAyKzq8/e53v5Obb77Zun/JJZfIhz/8YZkyZYr1uBh79+6Vjo4O0ZuzZMkSiUaj5pn8EN4AAAAATGZFN5vs6emxbqdPny6XXnrpmIKbptfztre9zbqva/MAAAAAAGlFh7fBwUHr9vTTT7duS+Hkk0+2bv/0pz9ZtwAAAAAAW9Hh7ZVXXrFuq6qqrFu31157TX71q1/Jt771Lbnuuuvk6quvlnvvvdc8K/Lwww/Ll770JfnCF75gDVbiqK62N8dZNwAAAADAVpbRJnX/s69//evyzDPPyHPPPSdDQ0PyH//xH9ZzOtTdeuut1uiSf/nLX+Q3v/mNNR8AAAAAkF1ZwtuZZ54p//Iv/2LVrr373e+25j3//PNWcPvXf/1XufDCC+WjH/2oNDQ0yAc+8AHreQAAAABAdkWHN6e5ZFCzST14yete9zrr/t/8zd9Yt5puRvmOd7xDmpubZeHChfLZz35W3vCGN5hnAQAAAADZFBXe9HD+hw8ftu4fd9xx1m02M2bMMPfEugj33//935tHmY455hjrVveZAwAAAACkFRXe9EiTzuXhZs6cad1mc+qpp1oX39Z0kHvjG99o3Q9yxhlnWLc65O3fv9+6DwAAAAAoMLy98MIL8uCDD8rtt99uPT7nnHOsKRenaeQf/vCHVOgLUl9fL3PmzLHu6wFP9Gu9+OKL1mMAAAAAOJKNecCSoD5vbnqUSeeacAcPHrRGmRyNc7mAP/7xj9b13pzmmQAAAABwJCsovOkaNF3Tpgca0XTN2I4dO6z7QX7/+9/LXXfdJe985zvNHPsyApq+jICuyXPbvn17an0rVqyQD37wg6M2swQAAACAI0VRNW+6H5tTQ+a+yLbuq6Zr1nTTyAMHDljNK/XokldddVVq+ccee0wOHTpkNYvcvHmzNc/xxBNPmHsip5xyirkHAAAAACgqvOmmkkcddZR1/+WXX7ZutZ/85CfWtd1uuOEG6zpvNTU18pnPfMa6dIAzsMnOnTvln//5n63rvunLBbi9+uqr5l7u5pgAAAAAcCQpKrxpzsAj7gFIXnrpJev22WeftZpF/sM//IO8/vWvt+a95z3vsW5feeUVefrpp61Qd/zxx1vzgow2sAkAAAAAHGmKDm9B9GiRun/b/PnzpbOzU2bNmmWeETn//PPloosusvrMrVy50nPxbgAAAADA6Eoa3vR12q655hppaWnJ6LOmm1B+7GMfs/q/5bo2HAAAAADAq+jwdswxx1i3pWzeqAc80XTQcwY4AQAAAACMIbydcMIJ1q0eVbJU9u3bZ92+6U1vsm4BAAAAALaiw1s0GrVuf/Ob38gDDzxg3S+Wrr1LJBLWdeG0iy++2LoFAAAAANiqVHAqut3jD37wA7nvvvtkaGhI3v72t1sX1i7GzTffbF0fbsaMGfL+979f3v3ud5tn8qcv/u0eIKWcDh48aO4BAAAAwPgYU3jTdD+1vXv3WpcA0OFrohDeAAAAAExmYx4VRA8scvrpp09ocAPytneTLK6tla5+89itv0tq1XO1LZtk0MxCZdvZc4e889YHZL95nHZAem9Vz33pDln9WzNr3FRJz/Iaabmnyjx2ZJsPAACQH4Z0RA590qUCzeIe4kz+SrvP+laNd6DkmLvt37ZJhcAfyU7zOJf+26rliu0ibRf5GzWMSPMSkS03Vsst+a4MAADAhfAGOOrbrf6bQxsWSZ2ZhbA6URZ+4Up55MtXyvKzzKxxMHhPjczfIHLnXYel3szzmHNYBm4Q6byqRnrswXUBAADyRngDgJKolvU3ilxyw7A0n2xmBai7aFjunCdyRVc1zXMBAEBBxjxgSaVgwJLSGuxZLJGlcfMoU9O6pGxsTtdP6aZ90U7zQOtIyNDKBvPAMSibWiLS2mseunjWp/ulzWyV9KvHJDHULv615Uc3AYyqNXjFtg1Ju1M1ovu6NbqWCNx2h3996W0rdJ+NKmMf+CzslqSnhjD7drllbKPrvZZ0+8tEN2G84N6XzCNj2l/LvV84V6ZZD3Rft80SS3WCmyqxLyyShfaTGfzre/8FC+S2xhPVvd/L6i/9TNbZswO8Wb775Y/IHPNI07VuM1V42/pAllo3t501MvUqtftvPyzXulcCAAAwCmreEKiueaPdhHAoYQUCXXC3H9uTuxCvC/2J+ennhga6pakzKrWr+swSmgluokKHWS65rsl6Rgcpf3AT9+sNRGSNZ115sgYnicoOz7rUtpmnU5zmkkNJ6V5o5gWxBjRRAUkHHmd9Q1FJmG0rZJ/lNH2RbDR/l+hQj3VYc63L07Qz4H0mOmISre1SkS7NDmci3QPp9SRnrEkN3lLS7S8DPTjJBfdOVaHJbg6pp+++wzyZkm4u+cjiN5t5QewBTS64V51/zvJq+rLaY71W8PsrWW7m3XvBVPVYh7X0co/4gpsejGSbWpe0jOQObtqcEdGHtfPnfAUDAID8UXLAmOlCf6oWS1PBY5lVMk2kw8PehGzuVQXltnToqGteZoWE2FZXxNiblLiKVwvOcwUFHWSy1oRl17e+VeIq9KwtSehQ4XOt2tqMWrkGaS9i20op6H02rNQBLCZrXIOOJPfEVQhcINHpZoaScexKSIdFa/TOwGmxbNprFszH/gfkW4+KLF3sD01F+m2fxPZn1spNa/xI1lq6Ue2rkvh2dXq8b9jMyGVYGlvUzeP6zAIAAMgP4Q1lEZnhq9+yQlmwphkRc0+ZHlHRLS6tMwss3Gfok0SnWndTtDSDjzjhc/7EBrVM2d5nRCILReJ7kuaxOSa9rRIZp5Er0zV5QdNGWeQKkbnsf/RJ+Zm8Wf62RIOP7Pz10yqpnS4fKCaoBXmmSraom7eeaj/Mx1v1ab+9Sp6wHwIAAOREeEMJ2EPLu2tWMvpO1bdaTRJja9PBYbBnjcSCatmsZns6wDnr8zb/mxCmRjBSQOAYF2q7dqib+NKIZ//X1mb2LbTC1LaYHeCc5Yppjhp6B2SPPgnrTjT95AAAAMKB8IYxMgNl+PpkOf3Z0pKS1GHCFRzs/ldBNTAN0u6sS4cNFeX8/bfGnakRTI6pNrAM1HbNVTf+/mmpyd+kM9W/z/Sly+ibWDolbTZZUifKDP17weCBgIt7AwAAVC7CG3LIbH7n0W8PbuHuyxbErmXTIyC6w0UeTed02LAC3I4Cg1Pwdlv9w8z9gpiQ5Omfl1WOfVYgu7mjCr/msVfxr9Ww0gS4XUlfM8rSbH8pm01OO1kPGvKS7HGnLdMPrhjT69T69j8p/51Hegt8bb9TR+QSdfPEM/bDfDyhd++8EXmr/RAAACAnwhtyqJPIbHXTuSa4psSqkfKGGn3ZAH+zybqIjj65A5iurXFGP3T0bdXhbW6BTRbrJNqktsy13Xrd0V1N1vYWrkFadW1iZ1QWuwYBsWoeM2qucuyzAtn7zjv4SFqdLGpT+ydju/z0aJ/+2ku7v5zMjviCd2m3vyTOmiFLVYCK3ft7M+P3svrW36hkpYNV4aY1nm2v79YfyU4zT9u/7UdmtEmXk06Q93teO8DJI9I0T+2yvEePrJZtG9TNmXpvAwAA5IfrvBXhSLjOm1fm9dk81/zyXSdNP7dW2lSAm+u51ljGteAcvhEcM5bLuKZZ/jzrsl5HrGae4rrOW9btUjzXg9P814SzahODrkGXY58VyB7m3xWI/fsk8LpwTb5mqf5rwY22TaXd/pLY/4BcrQLbz6wH9kiRH3h0k1zwyOnp67x5lvHxXA9O818Tzn2dN5/f/kjeufFp80ArzXXe7rzr8KgX9AYAAHAjvBXhyAtvY2cHJH+YUEwYmvBgAIxZtdxybpV0tozIS1ePdsmAKulZXi1XnJlrOQAAAC+aTWIcDEpyl7rxXWPMYppdAuE3LEtuUDcbquQWd1tMn8F7VHDbLnLnJwhuAACgMIQ3jAPTh6p3syQ8fagGZdMK3dTPd7kAIKTqLjosW1tEOq+qkZ59ZqbbTrtpZcftNJcEAACFI7xhXNgjG7qv3aaniLSKvsRA/iMPjj78fHryD3pSKcK+/cit/uphuXOeSPzBKjPHUSU960UuuWFYrnV3lgMAAMgTfd6KQJ83AAAAAOONmjcAAAAACAHCGwAAAACEAOENAAAAAEKA8AYAAAAAIUB4AwAAAIAQILwBAAAAQAgQ3gBHf5d9nbWWTTJoZk0mv/33OdL52fT0/d+aJ8bR4D01MnV59aTcvxVpX7W0nJvlguEAACB0CG/IoU+6VKBZ3DOOxe29m2QxF6ouubM+tVM6vqmmm2IyzcwbVztrZOaNIh1LhqXOzCqXvlXjHcIn4HOSj5OHpa1F5IpLa4SPEwAA4Ud4Axz17TI0NCRDGxaVPVwccXQN0FUil9wwLNfOMfM0p7ZzVZ+Z4RiUTS1qfu1i2bTXzEJR6q8eljvnicynxhMAgNAjvAEou/7vV8mWeSPyfy8aMXMMFZiT65pEOqOeWqvBnjZp7RWJbdsoi6abmSjSiDS3j8gl26vkH++pMvMAAEAYEd4QaLBnsV0jUhuVmHocXxoxj+0po3mYU4PiTBk1KTarOZtrOfd6Us/NbJW4ehxr9C5bXDNKuzlbej0BNTn5bLtpyulZzkyZTeWcWiNnClvt0X75WZe7f9zn5WcHzFOG1X/u33eKHNgsX8/Vj25ftazdkL25ZF3zWuleqM+xNns/qX3dtlSdAR0Jaa+3l8mL6xhFO9Xj3laJpI6BmjKaUfrPjS41J1P6s2Am1/lR8OckF+s92OeL57Pi33brnA1YLst7cJpPbrmxmuaTAACEGOENgeqaN9pNCIcSVqG0aV3SPLanjc3pYrhVgG3cId0DzvPqbzqjGSFIFzKjnTFJuNazbI8psCsNK838gW5pUo9j29LL6amggrxFF85VoVqFgPR6lklyha8g7DSXHEpaISLQ9EWyMbUOe7JqjBZ2y1rXvrBfMyKts9OvmVwn0jozLAFup3z/s/PlvtPX2/3j1PS5xSL3XZ8Z4GTbEum8/nE5P7Xc++W3X81cbvDBKtmibhvdzSU96mTRzfqYx6V1RZd0rdDhXZ0nKxvM83lyHaNEh3qsjk3SPLYmd3NYKyRFZYfrvE50xCTqCz/63I4sFde5rY7njDWpHxIK+ZzkT+2HmeqzIs45pNatg2jGjwr+5fT5q95Dlr5+9e+zb7epzA0AAMKJ8IYx6pPupXFVaF3rat7WIO3bVFG2c40rsAxKcpe66YiqZ9MaVpaxWdzepOxQN7H5nleU9lL0abNqh1Sh/mbvugZ71qhCvDd42DVLqqC9PrBOJKuMGh/PVJ4wuP++f5XfyhL5xKfSSWva+TE5/8yfyX0/9Zf63y/n37RczjKPpr1zvkyTn8mznpENq2TbveqmZURGzd4qeK3VYbhX7T2ruWS75zwptb71KiD6gnfDSh3AYrLGVVuW3BNXIXCBRF3nqA5shf+QUCD9g0PqHGqQVqtpaSKjVs0Ki6nl6iTapPdhUpJmjsecEdGZ9uGnaDoJAEBYEd4wNv26wNskC87zxaHpEasmJZkKGHUSma1uAmrkykZtw1x1o5tflnbkykHZpGuHOpb5guegJOK6uZ83oKbe+65kYI1INulanaCpHKF3v/y2/2cijX+bCmS2aTLtdHXz5ONqCZcz58tZJ5r7WVXJE9tFLon4+roFqDtvgVXjqiKJRMoV6C19kuhUr9IU9YX4iER088096egTmaHDUKtExvnyEd4fHNS+iegzeYfr82SbG/G+A/ucyRZ8R+St80S2JAlvAACEFeENYzKY1HVbdvMtT82Q6bfmpptFOoNTOMsV3CeoIA3SbppCpvvPjb3Gyh5MI6hZX1KSverG9f6cyeqDVfH2yrOPqxvdHNLVj83qy7bNXqJ8TCC27uvmk2UMS6ZG1t8/rVY3d9XHz8UKQ7oW2d1/brx+fAAAAPAhvGFM7BqBJk+fIPfkb16Wrk2yQ5UuQJc3wNXJog1me6y+dDpojiHAmcE0gpv12TU3VpM31z5ITQU21xz/ZpPT5ZQz1U1jur+bZ2pfULbrwzmjS+pmgFZ/NRWW2sp1XpgaWX//tNTkD+WpPpGmL9141h4DAAC4EN6QQ2ZTMo+M5pH50qHKBDj/uk3hekeyxIV3PaCFCXCFb6/mNJfMNgpicc0jsxn/ZpNZmkeOSR5N9UwgdgZ/sfue6WCfHsymUHZzxyx9v3Kd06PQtcdWgMs4xsWvMx99W9Ue8fW9K1z+TVgBAEBlGnN4Gx4elmeffVYefPBB2bZtm/ziF7+Qp556ypqPycDpq+YefMRFBaJlqjAba8xVE9QnXf5+Q3sTslnXtsyImBkOUxBe2p0xQENB+rsyavUG79+soltxfaqyN5dMa1iiwmHgyIDhcNaFMZn2eEy+ri8DUBIj0niButlQlWWIeqe5ZJNr8Bcz4I2uJS1wkBeHXSPsHXwkrU4WtekBdbzXlsukL/ngH3rf7i8nsyNmWx05Pidjoc5j3ew21jbGgXZ2Vone9LNPI7wBABBWVSOKuV8Q/WePPvqofPe735XnnnvOzE07/vjj5ROf+ITMmzdPqqvLX8G3e/dumTVrlnlUXgcPHjT3jhS6EOvtD6SbnPkvFxDRtSdueqh2//Dsvr5w+nIAwbVYZph/80jLvmx2mdulL1XgbfJoX8LAPPBJvWbAtqf432fAtmvFbH/p6EsALJGgy7CJHl3ym+lRI7Mte9Y1O+UTZiF9nbfvPxmTz7mbUuprvl0fk5Ncy1n2VUvLpVVy9u2H5Vrf5QKcfe8/n7TRnstHxrHP43xUrybdA+5azcxjmX17cn9OcsprmxR9nbfGWEHnVP9tNTL/8REZWB18vT0AAFD5igpvulbtnnvukXg8PmoNW1VVlZx33nmyZMkSOeqoo8zc8iC8AZXLCg4bRLY+cHj0SwYc6Ux4m1vqoD9KgAYAAOFRVJXYj370I7nrrrus4Pa6171O/v7v/16+9rWvybe//W35xje+IZ/97GflpJNOsmrnfv7zn0tvb691H8CRqf4TI3KJup1/G91sx1+V9HRVyZZ5I7KE4AYAQKgVXPP25JNPyurVq+XFF1+Uk08+Wa655ho55ZRTzLNpf/7zn61A99hjj1nNJnUzykKbT5599tlWMMwHNW9AhdtZI1OvErnkhmHZcBE/5gQqQ80btZ4AAEweBf8MvmPHDiu4TZkyRZYuXWoFN53/nn76aWvAkscff9yqkXv9618vLS0tVmjTj59//nn54x//WNCkAyDgNvrw+emptBflRknMOSwDN4hsubfKO3BNDqE/5jqQBWxvxlSOQW72VctaFdzuvIvgBgDAZFBQzdsrr7wit956qzVQyVlnnSVtbW1yzDHHSF9fn9x5553y2muvWf3cLr30UvnoRz9q/Y0e0OSRRx6x7udDBz0dDvVtfX29/MM//IN5ZnTUvAEAAACYzAoKb/r6Ul/96letoOQEK/c8x4knnijXX3+9vPGNbzRz8venP/1JbrrpJjlw4ADhDQAAAACMgptN6hoxP/88/ThoOQAAAABAcSa02eSxxx4rn/nMZ+Qtb3mL/Nd//Zf89Kc/tUIfzSYBAAAAwKugmjcd1JyApAcm2bNnj3Vfh6xYLGYNYHLDDTfIRRddZIW4p556Sh566KHAwUj0pJtI6sCn6eaXep4e2IRaOwAAAADwKrjZ5Ny5c60RJA8dOiTr1q2TZ5991gpqb37zm6WxsVHOPPNM65IAeqTIDRs2WLVo+vEJJ5wgb3rTm6zpuOOOM2vLpNel16+X0yNWAgAAAABEamK6yqwAb3jDG6zast/97nfyl7/8RX7xi19YzR/r6urk6KOPtppW/vKXv5RvfvOb1jXhtAsvvFCWLVtm3X7wgx9M/b1e/txzz7UGNvn9739vzdNDZutlFy1aJO985zutv8+HrrXTA6WMB6e2EAAAAADGS8EX6dZ0s8Z77rlH4vH4qE0cdS3aeeedJ0uWLJGjjjrKzBXZsmWL3HXXXeaRlw5vy5cvt2rwCkGfNwAAAACTWcHNJjXdDFIPSHLNNdfISSedZOZ66aaPl19+ubS2tnqCGwAAAACgcEXVvLnpmrd9+/ZZTSRffvllmTJlipx22mlWHzgd8oLs2LFDfvWrX5lHXnpQlA996ENy8sknmzn5oeYNAAAAwGQ25vBWKQhvAAAAACazoppNAgAAAADGF+ENAAAAAEKA8AYAAAAAIUB4AwAAAIAQILwBAAAAQAgQ3gAAAAAgBAhvAAAAABAChDcAAAAACAHCGwAAAACEAOENAAAAAEKA8AYAAAAAIUB4AwAAAIAQILwBAAAAQAgQ3gAAAAAgBAhvAAAAABAChDcAAAAACAHCGwAAAACEAOENAAAAAEKA8AYAAAAAIUB4AwAAAIAQILwhP3v3y321T8lPUtPTsnOveW6y6J8itbXHSm3LMTJoZgEAAACVgvCG3HRwm3lQDnVMlQ8NnWamN8uc6eb5CTLYs1iFrS7pM4/DJuzbDwAAgPFFeENOB+5/RQ6pU+XUJW8wcyap+kMyNHRQhja8InVmFgAAAFApCG/IU428foJr2gAAAIAjGeENJXGg52lXfzg1rXrBPON4QX6h5t/X87JI/6Bn2V/0m0Xy0iddtbVSq6bI0rh6HJOoeWxPRTRDdPq6OdOqo80TLnuPkcW1U2TTXrUFq1zLFtw/rtDtH5RNLe7na2VxT8Ar9nd5lklP3vXZTTVdz6/KtrfMdrZsov8fAABAhSC8IZgrYD24dFjNeFV2uwJXOpy9LDtb9DI1MivVH26qnND5kvykZb8cMEs5Di39o/ykUVLLnrOuWp5vLGTwkwZpHxqSITUl1zWpxzFJmMf21K6WKJDTXHLoNeleaOYFqpLWmcfKmhmvmeUPS6y3WiJBYS+rwra/b1WbyM2u57fFJL404g1wOrg1xiS2zVkuodaqLOyWpGt9OrhFlop0D6TXl5yxRrqCwnO/WUfvZklMtoFpAAAAQorwhmD1dSaI2QFL5GhXOFPTStP/rf8leUYFmFMH6mSGPUd5g7x3mwo0vQdltz8YLDxWzhlKL3viecfIFBmWobAEhI7DsrH5NfPgVYl2qJtdVWWrnWpYuVEWuZur1rdaATMeT6Res2+rilkqqLXWmxkqrrXqYOgLXsk9cbXcAom61lfXvFHaU3/nUh81AdC7PAAAACYO4Q1jsmfrq+r/Af3h6o+VE9TNUPJl+7Fj9tFyorlrmT5Nzldh8L1BAaICxebr9zuR6iQy29y1DEpyl7mbYa5EXMclMkMHulaJ5NUU0tQQbljE4C0AAAAVgvCGsVtYYwW1IIf2THTYCbm9m2Sxu4+amqKd5jlLnSxqi1mhrDtVy9kn3bo/XUfU0wRT17LpZpdWgHPWl7XPGwAAACoN4Q1lNWVGIf3B4KGD28xWiXckUn3U9JTQTTVdBpM7rNtYoxPwohLTf7MyoPdffbt3PZ1RAhwAAEBIEN4wJjPm675tr8hT/j5r/QfleXV6vem848yM0quLzFX/3yHJkA6okWv7B+/fLHFpku4low3BYteyNa1LegJeYHDzaVhpAtyuZEAzSkabBAAAqDSEN4xN/VQ5deGwPLPCPbLkC/KLxldFOl4nc8o52MX0iIo2cWldH9Kaoxzbb4e7uGy+34lP9mUDvM0mIxLRA5jsSZrH2ei/9V+GoE8Sel2zI5n92hhtEgAAoOIQ3jBGx8mcDW+SU+WgPJi6lMBLMrTuTekRKctl+iLZqPtw6aZ/Th+uIq7zlr5u21HS2qtmdNaYx8cGD6NfKrm2v77dupyAvjSA/VxEkm3+ZpN1sujmbmnyrMOZFlvXpbOp5TZEJeF5Pio7dI1dYPNKRpsEAACoNFUjirkfart375ZZs2aZR+V18OBBcw+YYO5+cZ4QpmvaIiqM6uvIFXHtOwAAAFQcat6AMNublLi6ic33xzP/JQUAAAAQdoQ3IMysfnMqvG31NRbt77L7xvkuFwAAAIDwKqrZ5CuvvCI//OEP5b777pPXXnvNzM30tre9Tb74xS/KcceVb8RBB80mccRymk6ah47YtiFpD8nFzwEAAJBbUeHtv/7rv2Tjxo2Sz5+OV4AjvAEAAACYzIoKb9/4xjekv79fjj/+eDnrrLOkpqbGPJP2zDPPyP/8z/9Y9+vq6mTGjBnW/dHogPfXf/3X1nTMMceYufkhvAEAAACYzMYU3nRYuuaaa6xhx/1008p169bJ9u3bzZz8FVNbR3gDAAAAMJmVbcASXXO2dOlSmTdvnpmTvz179lgTAAAAAMBWtpq3Yjz++OOyevVqGRoakquvvlre/e53m2dyo+YNAAAAwGTGpQIAAAAAIAQIb0DRBmVTS63UrvJdY03Tw/fXqudquyTgWWSollvOrZGprumWneapQu2rlhbfunr2mecQcvZ5UvS5MRmE/rvlgPTeeoe880t3yOrfmlll1H+b+g64jaIOgMmDbzSMq75VqtDRsknFHuSrlPtssGfxuBf6Ctn+S24YlpceOGxN184xM13y2v6Th2WDWcdLt5t5mASqpGd5lXTOG5ElAefGRHy38H02sfZv26RC4I9ktCxf/4kRuWRDlbTcU2XmAEC4Ed6Acpi+SDYODcnQULs0mFkAitd/W7VcsV1k6+phqTPzjkih/245URZ+4Up55MtXyvKzzKxy0j/m3C6y5cbqI7vGFsCkQXgDAFS2fdWydoNIx+2Hpd7MAvI257BsbRHpvKpG+s0sAAgrwhvKL9VHo1ainepxb6tEzGNr8jc76u9KP2dNwc3krCZLnuXM5OmD1iddnucXy6a95qkieF8zIq295gmH671a06hNqkyfudTyrm0rdJ+NKr0PIkvj6nFMou51ZezfUbbLzf9e3euZ0O2vTNa5o89N337rcpcmrefs/e0514pqmuc/911TQD9Nu0lqepnFPd5XTDdZ9Z0fAdvmX1dgv9CM7cv+2ez/fpVsCWouWfB5lt+5Per2l/TcTsu5z3znTbbXyfq9GPA5yXXMSyvd182eNknvfvOUy84e9VzP70X2PyBXp5Z194/7vaw28y649yX1+Gm5zLVctmaUVvNJdbuW5pMAQo7whvJLNfMZkkSHerywW5LmsTVtWJRuBqULKFuj6eeGktK9UBfWvQUPXUCJdsYk4Sy3LWbNb1qXlKGVTmMiXTiMSqwj4VrfMkmuKKZwZRf6orvc2663zTzt8L/XbKyCmAp/4l7fWpH1ZtsK2Wc5NUi7+bvkuib12LXfrMnd/ErvM7Vds9P7LLlOpHWmr5Crt39mq4je3856BiKyxilwTtj2V7jOqNTOTMoy1/uJNfoDRFztb3WuiXMMEhLTASEwAI0mvd9Sk/U5Ufsv9Rmx6c9TZOnc9H4d6BZZGgkozOvPYkQ2NznH3b9t9ufEsy69jH7fnrBRyGezWrZtELnkgpHMc6ag8yy/c1sHmshSke6B9HqSM9akQ3ZJz21bztfU8vxuaViZXoc9qf2v5se2eT8n+R/zUkk3l3xk8ZvNvCwe/Zm889bn5TN6WTXde8FUWbfRCXt/Jctd80XeLN81j+3pIxLQJVLk5BFpmiey5d6qgHMMAMKD8IbKogsonoJlnSxqMwXOVEGmTxKdOqi1pgsj9SoGqSAVjyfS/zDvTcoOdROb716fKtAWUbiS/m5p7W2S7puL+NsAfetbJa4LfZ5tUe91ZWnWX6zBnjVqT3sL93XNa9W+VYFivSs8qH0blyZZcJ5razOOXchl1AB7J0/BOm/qHBpIF6Lrzlug5sQl6a/90aEmtS8bpFWH1s6EOvPHQoWXRnV0fYV4HcTXqM+TZ746lmvVa8aXdme8ZmzbkGxsdo57g0R1kNiVtD93zufE9R6tz5wOjSrkdTv7rJDP5s4q0RVcTecUfElSj3zP7eSeuApkCyQ63cxQ6po3SnsZ22uW8zX7Vtkh2bOuAo/5+JsqsS+kQ9i0d5wu75eX5H+eMzOKMiKNF6ib7VXyhD0DAEKJ8IbKNz2iCrgupuAXaHYkXfhTfzdX3cQaiy1op/VtVYVPX+GqeCZ8NkUnNKhlGpREXBUiO6KugrdWJ5HZ6sYpoGvWMdE1RNmbuoVefbuvBsM7FVWwzvMc8oYadQQi+kzekRnyCmAV4heqcOXb7sH7N6sjGZOob37wazZJxLf9Vk2PCV3W50R96vzLSL16bXWzI2nOoAI+m4NP2beRk+3b4uR/bkdmqG8bXZtYZPPHYpTtNfu7JNqpwvQS77su7JhPgGmnywemmfslVHeafZvk0iEAQozwhoqT0WdjZqsqaLhMXyTLOsT7C7H1i3/AL/mmaaMuJNrrq4CwYcLn3EhlRTdVpJGk7sOnm7i597+arL49brqWzWqOZTfxs5cLR9+zI5JTiA+oObZqfXRB3nfMaxt13CrCwohEzF2/+J6kuTfen838z21d42U1L9Vhylmu4CarhSnPa9o1rU3r1soiX5gu+TEHAIwbwhsqit2XTTe7ctVyDHR7a95kUJK79K2r8GE1BwuqDamTRRvc66mA2iJT65CqhagYqtCt+/B5+iG5powmbboAbp4zfan8fRNDrSzNJidC9kK8ZtX6qGPn7UfoTBsD/6ZYTTPcsW48P5sFntuuWlerf5kOfWUOcKV+TaemdW2qiWvaeB5zAEBpjSm8DQ4Oyvr16+WOO+4oybRlyxZ55ZVXzNoxGdnNg5Li/P7uZTcnlI5loxceUv1qvIWOnM3YdG2RKSQW2iwocLtNbV/h7IKkp3/eKEbfZ4UZvVlUQPPIfOmCpxXgMtc9fttfYuVoNlmkrM12rYFvdJjMHppHK8RrpdynDfN17dFmSfjX1a9raX19JN1G+Wzm29Rt9POs+HNbNwu1wlTA35by3HYb7TXzMkpNq1bwMc/jPJsI007WA5a8JHsCRq0MUpomuAAwsYoKbzNmzJCqqip58cUXpa+vTx544IGSTI888ogcPnxYjj/+eDn5ZL5dJyO70BCTNYEjmplfx90DM+jaj4xmk3Z/q5wFD/W3GcOdW309Mvvt5GIPLOHabl2YadwhTXp7C2YGYdFNpDy/rA/KplWZfV5G32cFcvqquQcfcWlYogrQGduVSY+O5695ytbfaTy3f1KyCuJqD7ZlFsTt81lzD+jjkqMQb7EG+9G1XiUomDvr8owaadf8eX6UKeSzOWdEdI6JPzj6EO+5zrP8zm09WqZ/P5gfldz9aY3SnNuFvWZuo9e0Wgo95tYARVqJPselctIJ1kAmsXt/b2aMpkq23atu5o3IW+0ZABBKRYW3xsZG+du//Vs56qijzJzS0cHtsssuk9NOMz+3YnKpb7eGR48vjaSboKU66etmVPoXeldzyLURSfqbTZpR0dJ9ZVyTu8O/eq210uZ53h4au4hmQbpmYFssvd3WcO8bZZn+Nd/Ffd0k/zWgPIVVXauj35enD06byJKAQvao+6xA5n14+/64CnD6eWdo99Tz9uQOa7qPTnSr93n7Mgq+kQy18dz+ScJzbjfusGqZg2r67B8VNPWZyXjehCYddlP9Ep3Jvc/s5ouJjoA+UAU329PrSkq3uPpu1UZlh+cSHkpBn81haWzJY4j3XOdZXue23v6oJDzPB2y/oyTndn6vme93i1XTqm4922Qm7/ss4Jib0XzHxH3dto1PqxkqdDnXfbv1Acmz8sxr2rlym77sgL60QI7rvMm+KolvF+lYMqzePQCEV9WIYu6H2u7du2XWrFnmUXkdPHjQ3MNEsK+JFM/s46Zrw3QtnWeYdYRDtdxybpU8fMOwbLiohF9JO2tk6lUid951WJrDUJlvzuG5gf03j2D7qqXl0iqRUp8fyFvW792Q6L+tRuY/PiIDqwlvAMKNAUsQOqmR0vwFCDMQCIBJ5uRhadO1bzdWSw/DvI+/vZukTQU3PeBLKH9U2KmC2wZq3QBMDoQ3hI41SIAKb/4+Pk5zIf81sgCEX/3Vw3LnPJErLq2RoO59KAfdH6/W6ncs2ZqOVjpda3uVyCU3DMu1zlW/ASDECG8IHd3fSvcz8fd5i3baQ1/n/ctwagS1HFPB/X7GSdi3P4CuWZl6bo013RLYcSUPurBm1qGbTGKyGJHm1fbgJduKPTfGy6T5bNp94/ToqhuzjFZa6fq/XyVbWkZobgtg0qDPWxHo8wYAAABgvFHzBgAAAAAhQHgDAAAAgBAgvAEAAABACBDeAAAAACAECG8AAAAAEAKENwAAAAAIAcIbAAAAAIQA4Q0AAAAAQoDwBgAAAAAhQHgDAAAAgBAgvAEAAABACBDeAAAAACAECG8AAAAAEAKENwAAAAAIAcIbAAAAAIQA4Q0AAAAAQoDwBgAAAAAhQHgDAAAAgBAgvAEAAABACBDeAAAAACAECG8AAAAAEAKENwAAAAAIAcIbAAAAAIQA4Q0AAAAAQoDwBgAAAAAhQHgDAAAAgBAgvAEAAABACBDeAAAAACAECG8AAAAAEAKENwAAAAAIAcIbAAAAAIQA4Q0AAAAAQoDwBgAAAAAhQHgDAAAAgBAgvAEAAABACBDeAAAAACAECG8AAAAAEAKENwAAAAAIAcIbAAAAAIQA4Q0AAAAAQoDwBgAAAAAhQHgDAAAAgBAgvAEAAABACBDeAAAAACAECG8AAAAAEAKENwAAAAAIAcIbAAAAAIQA4Q0AAAAAQoDwBgAAAAAhQHgDAAAAgBAgvAEAAABACBDeAAAAACAECG8AAAAAEAKENwAAAAAIAcIb8rN3v9xX+5T8JDU9LTv3mucmUN+qWqmtrZXFPYNmDnLpW3Ws2mfHqn12lJmD8KuSnuU10nJPlXmMsttZI1PPrZF+8xAAgPFAeENuOrjNPCiHOqbKh4ZOM9ObZc508zzKygqoLZuEeDoJHNgsX//sHPn+b83jEum/rVqu2C7SdtGImVMmezfJ4tpa6RrPxDIRr5mPOcNy5zyR+cur+WwCAMYN4Q05Hbj/FTmkTpVTl7zBzKkcDSuHZGhoSDY215k5yKVh5UG1zw6qffaamYMwG7ynRuZvELnzrsNSb+apubKpRddKL5ZN/hry/i6rtrp2VZ+ZgeKMSPPqEenYXiUzVXgGAGA88C8O8lQjr6emDagw1bL+RpFLbhiW5pPNLEudLNqQkJjEpXVml6RjWp90NcZEFnZLcmWDmYfiDcu1t6ubDVVyy057DgAA5UR4Q0kc6Hna1R9OTateMM84XpBfqPn39bws0j/oWfYXRTSHcvq6OdN4Nanyv25wXzun1sOZ/LUfqgCt5uttHuxZ7FrOVcg2TcX0/GinetzbKpHUcmoqohml09fNmYL22WDPFLXuY9S6j1bbmF52LP3j9t/3een87JzU9PX79ptnbNbzXZtlv+yU72ddzn4u8G8/u1rsVoj75Wdd9jK//XfXOn672qzz8/KzA9aChvf10utx2Ovr/HdVKjfNHZ1l/dvhf97/Ws72dF4fU2tVj7/qXjazGWWufeYYvKdK9OkR3FyyQdq3qaCmIlzU1LL1rYqqR03SffMiFe/ylzrvZ7aqOKjW2Og6F9WUcS45tXvOFFjLZ38O0st5PycFv2YO1mfN+tx4X9f7GTafXb29rs9g5nIupvlk5/pRmk8666K2EwAwRoQ3BHMFrAeXDqsZr8puV+BKh7OXZWeLXqZGZqX6w02VEzpfkp+07BdPWVk5tPSP8pNGSS17zrpqeb6x8MFPnOaSQwPdqig6PnRhMtoZk4R+XTMt29MWEMwi0jo7kVomuU6kdWZm8zVdGI3sWWaWS0r3QlXIdkLZ9EWy0fx9okM91jUl5rE1bSis8K05zSWHBoZH32e91SooqmnALL9tROJLjyoqIOvQ8vWNZ8gnvrlTOvR0kwoTG+dnhpHHYyr8/KuccpNZ7polsl8tV1TfsP6Y3HfqVvnc4vfLfnX/618V9frr5Sz5mfz6EfO6VthaIs8t3mq/npo+0bhehTl/gFO2LVGha6v8TdZtUyHwDpFmsx57XT+T+65PB7izPmWeU+9/mn58TXpZa/mz7OW0vPeZVMm2e9VNy4iruaRPfbt9/nRGpWtVl/VDQNO6tbKowFp0/+ctts11Lqqp3bUBVkhq3CHdA87zCYmp1/cGF/05UUGyI/05GRpaJskV6R8lCnnNvFk/gkTVMTXrUeE2vjSSeW7r7Z25WRY47yHbcpYRabxA3WxXx2OfPcdv8P7NVgCVzkT6BxoAAIpAeEOw+joTxOyAJXK0K5ypaaXp/9b/kjyjCvunDtTJDHuO8gZ577ajVUHpoOz2F3YWHivnDKWXPfG8Y2SKDMtQgeFt/A1Kcpe66YiKu7FZw8qNnoLwYM8aian/Eq4maXXNa1Uwi0vrel+xzdN0rU6iTaqI2puUpJkzkWLbDqXfV/2wekciO5IF1r6pgHTfNh1UlqvgZJy4QJp1qNq4LiMknXXN1+T9JzoP/tb6m+eeDa5xGs3+x8+Q88/XEUl5/Gdykuv19z9jn2i//WlM9p8Zk2ZnOeWsT+mAt17uywhJS1SQGm3b5sgn2hdYocxx1oU6pLnCYr4K2Wf7qiS+XZ2S79M/rmTXsFI3n1THtFP9X51za8vaP7RPupfGfQHR1AB2rkn/gLE3KTvUTWy+59Mk7UX8KFEoHQJTwa++VX021byt/kilf6RxfbbrdY2l/gwE163VnTMil6jbJ56xH/vVnbfA/sHE9/0BAEChCG8Ykz1bX1X/D+gPV3+snKBuhpIv248ds48WpwxsmT5Nzldh8L3F/Io+ruokMlvdZNQguA1KIh4PKKCZv92V9DSramqKlr2gWpwRiZbgeOx/ZKvsV8FndiqF2Kadcob6///Ifk+1bOZyRWu0w5Xt/XKKpy+YtlN2qYA0rf79nsClTkY55cx0wEs580w5ydy1qbD2zZ3yOVfwy3Ci/2/yU9A+e6ZKtqibt55qP8yuQaK69k2bHSnvOdevg2KTLDjP9yrTI2puXJLOrlWP56obXftcTI1u8WK+czv4sykLIxIxd20qWA6NMjCSOsfOVjcPP5XlUg1OTTr9DAEAY0R4w9gtrLGCWpBDe3S4mxx0M67kuiY7wAX2g0lKslfduJ53Jqvf2hHmuWd+pv6vmyJ6+3d1fnW9vcBEOfC4PKdudNNHz3Z9dr7c97i9SKH8fdQ6P7sks/llHsqyz/rt5pIWdW6WMywNJnV9mh4kxXv+O/3W0nQY0k2F7QBnLxcwMiYAAPAgvKGspsw42tybHOqaN5o+N3bBU/eDSQe4iETUPPH043FN49AkrJKcdOr71f91k0Nv/y57cjVDHG+mVmyaq7+bZ/rUHHu5POng9vWNP/P1Y9NNMAtX+n3WZ48uqZsBOn3HGt2jT5ZWXUTXpzW5+rt5J28/NT0ipnnO2jYd+ghwAACMhvCGMZkxX/dte0We8he4+g/K8+r0etN5x5kZEyg1alwpC6264GkC3B6nl1qWJlhjFJlROX3hChHcPLKU9stv+3VNVaGyNI8sitmGM2Nyfj5pzQTHbH35Ctpnp47ez0qzR5dUgW1buzRMXyRrdc2xbjpY7KiHprljtr5fGc0j86WbFZoAl/G3uV5zTPokoQdxGWsT5n0iD6ubs0/LcpF0RpsEAJQI4Q1jUz9VTl04LM+scI8s+YL8ovFVkY7XyRx/X7iJsDdpmmzFZE224b5z6pMu//D8exOyuVcV/Gake8c0LFEFUD2iXQkLaXZtxli2fYKctVTOP1OPuhgwgmPBTOBSQcmOPXoY/2KbOU6T91+yxBpFMtsQ/PmbJtNOVzePb5XfOh8AM5Jl8Hs27yNgwBZLIfvs5BFp0kPU/zzL17jTXLIjkarxsgfPUXfcg4cUxK5dji/tDv4hRIWwZR26di9HDZraNv/Q+/aIjE0SyfjOyPGaY2CH25gsG+MgLoMPjt7/kNEmAQClQnjDGB0ncza8SU6Vg/Jg6lICL8nQujelR6QsOdd1mjKuARVQu2ZGlBubBmm/WaTNeV3z2nO3+QYxsAYmMEOju5dVU9F9jerbrb52uolman0FX+fNdd22mdVmnznXcZtSpgKlCkntzhD8vj5c+tppBdHrWi9nWZcU0OuYL7+u32oN21+Us5anhuD3bFfGteByO+tTW03gMuu4/nE5P2uzSfM+fP3avp9KaoXsMzNE/YYqyTi1dE2P01zSM0hGnSy62WmiWExNtHPx75hEs5zbdt9QfXmM9PMZ56w6p9dKm+f5yNK53hEeU3K/Zv6864ju0pfgaPcNMFSo9CUbvBdKT2O0SQBAqVSNKOZ+qO3evVtmzZplHpXXwYMHzT2Ehb72VGRp3DtMOBB61XLLuVXSqYLDS1ePfsmAI539HaAD4ljDms/OGpl6lciddx3OGt4AACgVat4w+e3dJG0quLmbjwGTw7AsuUHdbKiSWwqtzEQJqPCsgttotW4AAJQS4Q2T2KBsaqm1mjfKuiTXWMKkVHfRYdnaItJ5VY307DMzMQ6qpGd5lXTOG5EBaj0BAOOE8IZJLD0UedaL6wKTQL0KD3fOE4k/mOUi0Vn0rUr3/8o+Ve7w/RO6/Tur5YrtIltXD49tpEoAAApAn7ci0OcNAAAAwHij5g0AAAAAQoDwBgAAAAAhQHgDAAAAgBAgvAEAAABACBDeAAAAACAECG8ACtff5R2OfVWfeaII1roqdzj6SWVnjUw9t0b6zUNk8l9+oGvUnWWuJZlzuQL97lY5945bZZd56PUrue8tb5EfvOVW+a2ZMxa/XavX9Ra57yEzw2fXj8+Vc38cvCUp+6qlRZ1XXGcQAMqP8AZoezfJ4lIXwCaz+nbr+nlDQ0npXmjmZWEVhls2qWIuJvQ80wXsq0QuuWFY6s2sidUnXWpfLO6prDOjYaV9bcihgW5pMvPGpNBjvv9uWf7z78m8d3xKZptZE2n2OStl3t7PyPLtB8ycACcPS1uLyBWX8sMAAJQb4Q0AJr1queXSKtnSMiIbLpoUl/asEHWyaIMd9tpLkoh3ya13rZLt078lq+edaOb5vUVed5G6ueh0ybZEIU6MfFj9/8PyulPtxxmmXSyr3/dJ2f7oxXLr78y8AM6F4ucvr+aHGgAoI8IbAExyg/dUSae63aoK2KhcB7Z/R74nn5RvfbgS6txc3v4F+dZ0ke/9PFtTTm1EmttH5JLtVfKP6nwDAJQH4Q3jw2o6ZPdr8vQpCWpOZ5oZpZap7ZKgHlWDPYtdy6ipiH5XqW2Z2Spx9TjW6FqfmrxNndL9W5wpsMlXxvY7k7dfVym2v9SsbbKOid2kzdm2gpu2ufZBVKeG3laJuNaXqxllet8EH/usOM/U5O8/WC3rb8zdXNKzv9QUfMy950XmPrOf1+/Hu9/Sy6XnRyWmHseXRlzLFd+MMtf2l+zctviPUWafzcKOubZL/v3R7Xk0lzxJ6m//g3z89kvlZDNnLE5u+qZ8/A/flPpsNW+G1XxSRcvv5NF8csuN1TSfBIAyIbxhHMWldaYqzEvC9JdKSEwX6l2FYauApQo7c7eZfidqSnTEJBoQfCJLRboH0sslZ6zJv1+J4e/fEnO9rp7cTaH6VrWJ3Ox6flvMKnh6Cn+6QK22X9YlzXJOn7CYJIY2yqLp1lIl2/6ysILWGok422beZ0HbNn2RbDTvK9GhHi/slqR5bE0bFkmdvWQGe9/Epcnah+3SYObnj/PMOc8sO+1at6ZzsjeX1EEj2qn/Nv26y/a0eQOJFRajsiP1ms4+ywy9OqhE9iwzy+ltU8uZAF3XvNHMV8dFPbaPc/p1NzZnOzOyy2v7Nevcjoo4+7+Yc9uSbi6p1xGkkGNu+d19KhrNk+isUjSGLINp50p0qsj2Pzwgo8Q3qX+ffbttp30LACgtwhvGV4cqUK90iuMN0rpOFWs6E6bw1yfdptDuLtg0rNSFPFUgX58uIib3xFUgWCBRVyFVFwpL0+8kWMNKX6G4vtUqMMfjiVStzuD9m9WWxmRZqgCqCnltunCnCpauAmLptt9fE+KbiqzNi21zvdd6u4ZkR7KYGooC9XelglsxhfgUzrOU/p+r/80bkcas1TSDktRt4TqinqDs346+9a0SVyF8reu42PssJmv8tVc6rKf2f51Em9T+701K0swprfy236FDVOr4mX0b21rc56SUdv3P90SmRuXcaWZGxTlRzn3LPJGXkvKMmRNozojo32sefoqmkwBQDoQ3jKvYfHfxShXrInPV/3dIUv9C3m//Ej834i+0N0hUlwZ2JVOF18gMXRhslUiO5nflVScRX/smq7AfqEkiroJk6ba/Qdpdv+ZnTKkCdCFiEi1jOMnq/i6pbYyNPbgpnGeOKkk+rm7O1GvJxqy/MzpK2O+TRKdae1PUt56IRHSw3OONZZnLlVM+2+/wn9vmb13HfGIckP95Ud0cf0ZJBiEplxPfGFH/T8r/7LcfBxuRt6qMtyVJeAOAciC8ocL4C58url/uraZXurmS1QxqbLVMeQvoY2T153JpWKKbSLlrIgZl01q1nQG1N+O+/RUtLq1LdaQKClXlcGScZ/nSTfySVu2kCkDmNb3NNJMq+qqj5OufVlsbkdZee5GJlHP7AQCYJAhvCI+FEdG/+6akrjVm+lXl9ct7kUwfo7hujueq2bJe100VcnWdSLqQqwq30i3JoD5eJdn+8jSbHH9NVr8yvR90f6kJ7fs32c6zPFlB1Xo9u/+cp5/d9Ijoukt//7TUVFQNb2mNuv0AAEwShDdMqL6trtoCq29VXDbf7y9wZWuylaZ/ebcKuMU2fzKF02z9uuw+RipgLBmtkGpqP3wF79EG53AUv/3laDZZWnbTw/z6OzWstAvescbM0fsczih+hRTMj9zzbEQiZ6qbx/Vf5UsPxmECUKo5ZHDzyLEpYJ39XXZIzav5atD2Z5P7mI9ZjmNuO1HOOF7dvPg/ow4GMtEO/Envz4icMWq/vCp5YrvIJRGuJwgA5UB4w8RRBTLdHCzW5hQ67YEl4ku9o8T1rdKFbffgDHqY7swhynUhTGZHiiyEmYLk0m7fem12nyl3gV9vg785W779Z8qx/ZXL3ncBg1oE0gVvM3DIzMxRDFP7SXEP4DGqI/Y8s1mj/22vkm377MeZ+qTLH4r2JmRzrwo1M5w6SDMgSme0hLVZTl+1NVmDusMK31rvZklkLJvP9gfLPOblMPoxd8w+45MiLyXkgVH7k02kA/LAH1QqmxqRUa8qYEY3Pfs0whsAlAPhDePKc62jxh1WUzn3yH266VNynVhDvTvLRXfpYebdQ8brAn5UEs56rMkMYV50TZMTGvTQ5+n1pprv1bdbfWrczdSSbZnN2azR99z9o1xTuilgObZ/fKWvqWX6PLn6GmU0eczYd2oatQalQdqt4dX1sfDXwJlBRZTRaks4z1zM6H/xB7MNIKH2980ibe71mMsoeAaO0c1H1XER93G0puy1pLnYNa32pR2c9QWFw4b5JrwF9unLc/st3v2eecxdzZB181U1J30uuYK8u19io94213vIOLdzHHPH28+XT8p2Seyu0Lq3/Q9I4iWRT865eNRBVZzRTZfMsR8DAEqrakQx90Nt9+7dMmvWLPOovA4ePGjuIW+mL48uUJVzmPWJpQt+UYnpYdJ9Tdjs61Dpfl3Bw5ejRDjPAs+zwXtqZOaNInfedViaS3Fl5xCyr9k3VxJFXTtwfBzYvlwuflRk5aWr5eIKu2TArh+fK595caXcvWiU8LavWlourZKzbz8s1xLeAKAsqHkDSsWMyBdUI2T1+wJKoYjzrO4iu/btiq7qvJpaYmKcOO/TVu3bqq13V1bft9/dKp/Zm6vWrUp6uqpkC7VuAFBWhDegVMzABBl9sfZukral8SxNvoACFXWeDcu1d43IJdurZOZtfO1XrtnyhUtXyryXVsnFP9ZXHq8A+++W5T//nsx7x93yhbebeQH61Xl1xXaRrauHM35UAACUDv+KYxJy9VsZbcpr5LpC6JEfA/oizWwV0f2kxjCMOypRyM6zk4dlw+3qdkOV+LtboYJMu1hWv++TKozfJ5UQ33Y9uEq2T/+WrJ43Sk+3fdWydoPdLHfStlYGgApBn7ci0OcNAAAAwHij5g0AAAAAQoDwBgAAAAAhQHgDAAAAgBAgvAEAAABACBDeAAAAACAECG8AAAAAEAKENwAAAAAIAcIbAAAAAIQA4Q0AAAAAQoDwBgAAAAAhQHgDAAAAgBAgvAEAAABACBDeAAAAACAECG8AAAAAEAKENwAAAAAIAcIbAAAAAIQA4Q0AAAAAQoDwBgAAAAAhQHgDAAAAgBAgvAEAAABACBDeAAAAACAECG8AAAAAEAKENwAAAAAIAcIbAAAAAIQA4Q0AAAAAQoDwBgAAAAAhQHgDAAAAgBAgvAEAAABACBDeAAAAACAECG8AAAAAEAKEN0yAl2Vny1Pyk9r0dF/Py+a5SWLvMbK49liprZ0ifWYWAAAAMBaEN4wzHdz+KM/0Hi2zhk6TD5np/ObjzPOYbPpW1UptyyYZNI8BAABQHMIbxtfel+WPvSJT1k2VGWbWpDT9Fdk4dFCGhg5Jg5kFAAAAjAXhDROiNkJNGwAAAFAIwhsqz979cp+rP9xPagdlj3nKZvrMrXohY9li+s5ZzfpW9al1bZLFteq+mbr6zQKFSPV1M1PLMQHNBY+WLvWcXv9gz5T0skX2jytk+wd7Fqeetyb9dxn61Pa5lqldLJv2mqfy5dqWaKd63NsqEfc6/c0ofdue7TWt9+pZzky+9+FfbnFPlkabzusG7gcAAIDKQnjDOHhBfuEErJkH5ZCa83xjOnC5w9mBnqetZWq3pfvDzep4VXbXPi07/YX5zpfUsq/ImwbMstuOlkNL/yi/KCZ0dUalduZmWTAwJENDQ5Jc1ySxxiJCS6q55EFJdJh5WcQaj5XInmFr2aGh16R7YZVEA8NeHnJu/6BsaqmVyNK5klDP62WGhhIS03/nCVI6uEUl1pEwy+hpmSRXFNhnbfoitR/sv7f2w8JuSabWp6YNi6TOXlJRr7lCZK3r+URHXFpneve/DmTRzlh6+7fFrPlN65IytDLdODVjOTUt29MWeCwH798scX2nM8HAMgAAoOIR3jAO3iDvNUHsQwPHyhQ15wRXOPvQUJ3p//aC7F46LFPWvUneW2/NsMxYOVVOkGF5Zv0LZo5DD3ryZpkz3TysP1YtJzKULGbkyibpHtgoi8y66pqXSUwV6zffX1SUys/CYUmufNU8eE2iTSMivVWSNHMKk2P7+7ultVcv0+7qg9cg7ToA9bZKtxN49yZlh7qJzXf31FPLecJWqWWuv2FJt3pH7v3fJ4lOHdRa09tfr7Z7oUg8nnAFy0FJ7lI3HVHX+1TrW5neN2515y1Qr6P4lgcAAKhEhDdUjv6D8ry6yewP9wY5Sdfe7HpVDtgzbAtrrLCWZofEokauXLhAop7CfUQiOhjsKS5K5aOpabh0gSjH9vdt1bVUcyXiDzD1URXyRHYkTfyZHlFL6VrBIpuNlorZjhQTKgPNjrj2Y51EZqsbXaOYT1NIp4bQVXMHAABQqQhvqDDVUhtQQ2LpPWyFOxRpoQp05q5fOqQ2SPtQ0qrR0gHO7jNWRPPRAmX0xdNNN81zFhWylqkAH1/anW7eaNUm+msJdS2b3WzUCnBmfVn7vAEAAIQI4Q3hkVHThlJpmuGOdXWyaIPpLzZgN1/09z8rJR3cIkvjEtuW7qNm9cczz9tMc0g1N+oEvMaY9Tftria2jrrmjWY9dhCNL40Q4AAAQOgR3lA5rD5rw/LH+/191l6Q5zpFpjQdJyeaOWW3NyGbA2p1QsO3/Q3zdd+2zZLwB7B+HZKaZMF5WRpw6maFJsAliwxvkRlN6rWTWfryDUoiHlfBvFtaA0JYSqrPnjvgBQc3Lx1ETYALagLLaJMAACBECG+oIG+QWeuq5dDS5z0jS+5Z9ZI8L0fLW4rpy1aUQdm0olXiuQJFxQrYfmtwj7i0ekaN7JOuRhXqOpalB/Po78qoobJHZGzK7C+Xp7qI1YtO1gTWfJk+au5gaQUqf7PJSJ4BUr2njMsQ2EHWW7toY7RJAAAQJoQ3VJQTm98s56wTeWZm+lICu3cdK+ekRqQsE891yCLSOjvhG84+P+7rttnXN6tW67UfL+45yl6oHHJuv6mBEvdyUdnhG2Zf6ttlrbSZ5+3JvrxA8GiNeVHr1H3QdNPF1HpdAathpa4Z000zzXMzk7LM32xy+iJZa13+wCzjnjxhrUHabxZpcz8/s1XmbhuSjc2ZR5PRJgEAQJhUjSjmfqjt3r1bZs2aZR6V18GDB809TAbWdcF2dUuyrMPhl0/Ytz8f7n5xnqaSupZOhbO4vi4dI0YCAIBJjpo3ABUvuUc3boxJ1N+M1X9JAQAAgEmM8Aag4lmDnqjwlvBde65vld03LrQDywAAABSA8AYgf87ojLmmEo/eqIf+1/3m/H3eop0q0OU16iQAAED40eetCPR5AwAAADDeqHkDAAAAgBAgvAEAAABACBDeAAAAACAECG8AAAAAEAKENwAAAAAIAcIbAAAAAIQA4Q2oEH2raqW2ZZMMmsdpg7Kpxb6uWZfvItUI1n9bjUw91zXdVvxX3YHty+XcO85NT5vulgPmuULt+rFrPXr68S7zjMu+amlxb7uaevaZ5zyq5RbfcrfsNE/5WOeWOn8W92SeXZa8XxMAAEwkwhtCa7BnsSqQdklpLwc9uZV0n5kLdo9noCxo++eNyMADh+UlPV09bGYW65PyrSsfkAf0tOhiOdHMLdTsD5t1XHm3rJxqZvqdPCwbnO2+3cwbxSU3DNvLqunaOWZmoQp8TQAAMDEIb0DFq5NFG4ZkaGhI2uvNLFSewXvkyraL5c1t18rmLBVcE6VhpX3+bGyuM3Mmo0HZfJPe/xfLlT+tsAMAAECJEN4AYExMaLhT5KqPvN3Mw3ja99NrVWj7PyIf/Qf5iJkHAMBkRHhDyPRJV63dfyeyNK4exyRqHtuTr0mdadqXfn6xbNprnnPr73It456863P6DjlT1j5EebCbAKbXFe00T6Sk+7rZU5ZtN/zrS29bgfssh9Q+mNkq1toa3evKbEaZfbvc0ttoT+73Wtrt16z3sEr9le/8KKYJ6K++c6Xc8+475OnrL5LTzbxK4T9fx7XPpPWZGv2cLYlHviFn/yoqD6+9RRZM5opFAAAUwhtCpkHah+wmYMl1TepxTBLmsT21qyUcqtC/QmSt6/lER1xaZ/oKlLqQ2RiT2DZnuYRaq7KwW5Ku9emCcLTT+3rL9rQVVTjV64osnetZV6LDPJmSbi45tM3aoizskBdZKtI9kF7fWuk221bIPsvNaYI3NNAt1tpS+82e3E07M96n+htZGvEFOB3OohLrSLjWs0ySK5zBW0q7/SmdURVAN8sCs8/0umONhYeNd3/6brnjwspMDf5jNSm98x+s4HyyeQgAwGRGeMMkpgr9GxapCJTWsEQXYuOy+f50eOjbqoKRCmqtqdDRIK06JPRulkSqID8oST0wYEfUExQaVm6URdPNg3zt3SRrOnXoKTJ0+PWrbe9tUsHNuy11ze2Fb1spBb3P6Ytkrdq38aXd6dqyvUnZoW5i8z17NuPYlZ53n9U1L1Ox0HtuoBz8Ncq+KXDEVQAAoBHecGSZHpG55q7NhLJAcyWSCj91EpmtbnRtjW5uNwaD929WESEm0RINPmKHzwUSncigFiDb+6yL6COwQ5JOMDbHRDe/HNdmfRn7LCKRhSLxPUnzGOXhqlEOmsoe2gEACC/CGyY1f3+rWt08zzxnUwXJNjWnt1W6U8GhT7p136qMWjbTbE8HOLO+sfR5Kw0TPmdHKq7Am9wT1D9NTY3+JqC6WWRSulVwSvefG4e+UigxX42adZx1M2XXvDH+8AEAwJGO8IZJSwc3PcCFt0+W6c/mMpjUjfbcwcH0v1qZ2aixrnmjWY8dNuIZ/bfGm6kR3JWsuKZmkRlB/dOcyd/c1FUbY/XPCuibiArnq1Gz+mnqpqmuedZnimaTAAAUi/CG0MpofucxKIl43NeXLYhdy9a0LpkuYKYKmaPRBVUT4ApsZhe43aZ/WDGskOTpn5fd6PusQKa5445kcFG76Neavkg2mgDn/9uSbr/f3oRs7lVx09P3DqVHs0kAAIpFeEN4qfBg1dCsD2qKZWqk3KHGGhbe32wy335OfdLlrxEwhf2mGREzI0/1ehvc263WPbNVBc3ixgN0BtponekdMn+wpyuz5mrUfVYos+/cg4+41beqcJu5XRn6uzJqL+3+ck2uPodGSbffbVA2rWiVeM6wDwAAMHEIbwgvXUOjm2a5+qC5r/nVsFLXjOnwYJ6bmZRlGc0m62TRzd3S5FmHM7mb7TVI+80ibe7nVeCau21INjYXWk+g1qVrllKvuUYiA0Oy1p/d3Ncg8/cf8gRJp8+Yt39Zm7RmjjaZY58VRteg6P3pfd30oCN2DUuiI6Dfm7vvU327rFVb637evrxAwEiepdz+3laJpNYRkdbZiaJqfewLRF9sTWf/6Hdqzu/kan3Rbj3vpntkn73YBEhfHy/zmnzFHvMKNHiPXGn2/5tv+ob8SM360Y+uNMfkWtlMG0wAwCRSNaKY+6G2e/dumTVrlnlUXgcPHjT3EHo6IOmCbUYfN90vRxXoe3WfrRIN6Y9x039bjcx/fEQGVg8HhjHrmn27uiWZR1g7sH25XPxoRL515RdEV+aWxgG5e9PFsur4b8kDHx5lrTtrZOpVInfedViaMy5kVi23nFslD98wLBsuKuHX+KivCQAAJhI1bziy7U3aNRIZ/ZxMs0sAAACgQhDecGSz+lCp8LbV14isv0uiegAR3+UCAAAAgIlCeMORzRnZ0N/nrTFmX2Ig56iTDlf/otGmih0GPezbH2B7lcw8t0am6um2sX7VfU8+c8e5cq6eNt0tB8zcQu36sVnHHRfLqpfMTL991dLibPdVZt4ottxYbS+rplt2mpmFKvA1AQDAxKDPWxHo8wYAAABgvFHzBgAAAAAhQHgDAAAAgBAgvAEAAABACBDeAAAAACAECG8AAAAAEAKENwAAAAAIAcIbAAAAAIQA4Q0AAAAAQoDwBgAAAAAhQHgDAAAAgBAgvAEAAABACBDeAAAAACAECG8AAAAAEAKENwAAAAAIAcIbAAAAAIQA4Q0AAAAAQoDwBgAAAAAhQHgDAAAAgBAgvAEAAABACBDeAAAAACAECG8AAAAAEAKENwAAAAAIAcIbAAAAAIQA4Q0AAAAAQoDwBgAAAAAhQHgDAAAAgBAgvAEAAABACBDeAAAAACAECG8AAAAAEAKENwAAAAAIAcIbAAAAAIQA4Q0AAAAAQoDwBgAAAAAhQHgDAAAAgBAgvAEAAABACBDeAAAAACAECG8AAAAAEAKENwAAAAAIAcIbAAAAAIQA4Q0AAAAAQoDwBgAAAAAhQHgDAAAAgBAgvAEAAABACBDeAAAAACAECG8AAAAAEAKENwAAAAAIAcIbAAAAAIQA4Q0AAAAAQoDwBgAAAAAhQHgDAAAAgBAgvAEAAABACBDeAAAAACAECG8AAAAAEAKEN+Rn7365r/Yp+Ulqelp27jXPTRb9U6S29lipbTlGBs0sAAAAoFIQ3pCbDm4zD8qhjqnyoaHTzPRmmTPdPD9BBnsWq7DVJX3mcdiEffsBAAAwvghvyOnA/a/IIXWqnLrkDWbOJFV/SIaGDsrQhlekzswCAAAAKgXhDXmqkddPcE0bAAAAcCQjvKEkDvQ87eoPp6ZVL5hnHC/IL9T8+3peFukf9Cz7i36zSF76pKu2VmrVFFkaV49jEjWP7amIZohOXzdnWnW0ecJl7zGyuHaKbNqrtmCVa9mC+8cVuv2DsqnF/XytLO4JeMX+Ls8y6cm7Pruppuv5Vdn2ltnOlk30/wMAAKgQhDcEcwWsB5cOqxmvym5X4EqHs5dlZ4tepkZmpfrDTZUTOl+Sn7TslwNmKcehpX+UnzRKatlz1lXL842FDH7SIO1DQzKkpuS6JvU4Jgnz2J7a1RIFcppLDr0m3QvNvEBV0jrzWFkz4zWz/GGJ9VZLJCjsZVXY9vetahO52fX8tpjEl0a8AU4Ht8aYxLY5yyXUWpWF3ZJ0rU8Ht8hSke6B9PqSM9ZIV1B47jfr6N0sick2MA0AAEBIEd4QrL7OBDE7YIkc7Qpnalpp+r/1vyTPqABz6kCdzLDnKG+Q925Tgab3oOz2B4OFx8o5Q+llTzzvGJkiwzIUloDQcVg2Nr9mHrwq0Q51s6uqbLVTDSs3yiJ3c9X6VitgxuOJ1Gv2bVUxSwW11nozQ8W1Vh0MfcEruSeullsgUdf66po3Snvq71zqoyYAepcHAADAxCG8YUz2bH1V/T+gP1z9sXKCuhlKvmw/dsw+Wk40dy3Tp8n5Kgy+NyhAVKDYfP1+J1KdRGabu5ZBSe4ydzPMlYjruERm6EDXKpG8mkKaGsINixi8BQAAoEIQ3jB2C2usoBbk0J6JDjsht3eTLHb3UVNTtNM8Z6mTRW0xK5R1p2o5+6Rb96friHqaYOpaNt3s0gpwzvqy9nkDAABApSG8oaymzCikPxg8dHCb2SrxjkSqj5qeErqppstgcod1G2t0Al5UYvpvVgb0/qtv966nM0qAAwAACAnCG8Zkxnzdt+0VecrfZ63/oDyvTq83nXecmVF6dZG56v87JBnSATVybf/g/ZslLk3SvWS0IVjsWramdUlPwAsMbj4NK02A25UMaEbJaJMAAACVhvCGsamfKqcuHJZnVrhHlnxBftH4qkjH62ROOQe7mB5R0SYuretDWnOUY/vtcBeXzfc78cm+bIC32WREInoAkz1J8zgb/bf+yxD0SUKva3Yks18bo00CAABUHMIbxug4mbPhTXKqHJQHU5cSeEmG1r0pPSJluUxfJBt1Hy7d9M/pw1XEdd7S1207Slp71YzOGvP42OBh9Esl1/bXt1uXE9CXBrCfi0iyzd9ssk4W3dwtTZ51ONNi67p0NrXchqgkPM9HZYeusQtsXslokwAAAJWmakQx90Nt9+7dMmvWLPOovA4ePGjuARPM3S/OE8J0TVtEhVF9Hbkirn0HAACAikPNGxBme5MSVzex+f545r+kAAAAAMKO8AaEmdVvToW3rb7Gov1ddt843+UCAAAAEF40mywCzSZRUZymk+ahI7ZtSNpDcvFzAAAA5EZ4KwLhDQAAAMB4o9kkAAAAAIQA4Q0AAAAAQoDwBgAAAAAhQHgDAAAAgBAgvAEAAABACBDeAAAAACAECG9Aheu/rUamnuuabiv2Y1stt7jXo6ZbdpqnUFr62nu1tdLVbx679XdJrXqutmWTDJpZRyyzn2pru8R3mfmC8TkBABwJCG+ANlphu0wGexbnX2idNyIDDxyWl/R09bCZ6ZLX9g/Ltc467hqRS8zcytAnXWr7F/cc8XGmAKXdZ32rJkGgzPU5yWufVfLnBABwpCO8AcB4qm+XoaEhGdqwSOrMrCPW9EWyUe+LoXZpMLMAAEB2hDcAAAAACAHCG8bRoGxq0f1b0pO/+VK6KaFvWU9zLvPcqj5Xnxl7KrQJmdVUTP/tzFaJq8exxvS69ORvhmhvX/r54Nezm2all1ssm/aap1zPRZZaryhRz7KF9f0pdPsrTXp/RtWeEIkvjXi2379/U+/XmfQ5kCHzPHMmz/p8587Y+l35jrk5Hh5OXzdnCtx2h/8cSm9boftsVK59EO1Uj3tbJeJal/tzl99n05bzOPn3fZbmmtZ6Aj7nhZ7XJd1nAABMIMIbxk3fqjaRm3UTKTNti1mFqMyCkw40EdnclDTLJiSmC5X+AmBnVBWSN8uCAe/6CinYNaw0fzvQLU3qcWybeWym9np7OU0XJCNL50rCeV79jWRsvy50qwJiR8K1nmWSXOEUThuk3cxPrrNeMb0+ayqs+Vgh21+J6po3mm1Vx1g9blrnHHN72ticblioC+CJ+ennrPeszwHPeaGDRURapVuSZjl7P9v7JrU+HQZUwBL36w1EZM2ogSoLK1hEZYdnXfbx8HCaSw4lpXuhmRfECnn+cygqCbNtheyznFLNFock0aEeL0zvN2vKaNqZ+7OZ13Hyv+5orM95UpaZ5fXxjDW6fxDJraT7DACACUR4w7hpWLlRFk03D7R6VcRWhdh4PJHxq7unoK3iTFQX8HYlfcvp4ONaZ739q/qOpH9tJaAK6Gs69Xa5wpUqgK5VBcn40u5UrYjsTcoOdROb745gKrBNqv5N/loh31RMAMqDLoB7wqja/8v0edGZcO3/hGzuVfu/Lb2/65qXWedFbKtru9Rxiqt4teA811HRgWJl4T2v+ta3SlyFnrUlCQAqfK5VW6uDm2db1DlUxLaVQ67PZl7HqSBN0j2Q/tzVnbdAzYlLsoDwBgDAZEF4wwSqk8hsc9ejSSLukKdYNUz+ALQwIhFz12bXapXjV/TB+zer4mJMor6arLrIXPX/HemC5PSI6Dm6+WKlN1ksXrr2MHAax5ARmeGr37JCWbCmGa6zRR0nHQBaZxZWg5OpTxIq1Dc1RUsTzp3w6Qn/lSTPz6ZPxnEqxMIFEvW9JgAARyrCG8aPv5+Lmqx+NiGQ3BPUP01NjbpOx00HG7tZXLr/2VgDAmyZNX52v0EXU5sbW+vuq7VGHbmAWjarCZ0OcM76xtLnrURMjaA/IIVLHscJAAAUhfCG8WH6GMU9/Xjy6O9SIeyaA3//NGfyNQeVOlm0wTxn9X0qRQ1PJZmIZpOmL6GvT5bTny0tKcledeMaeCOyVKR7wH+MNFcN4jarYaUK5xMc4EyNYHibBOZ7nAAAQDEIbxgXdrPDJuleUqHNwUxzx2z95TKaR+ZL1/CYAOf/26LXGSTH9pdWOZpNRiSi+z/uSZrHPv32QBPuvmxB7Fo2f8gOCm4+ejARK8AVejyCt9vqB2fuF8Rpduvun5dVjn1WIOsHil4Vfs3jouR5nCZOafcZAADjjfCGcWEHlbhsvj/VmM0abrxymk2aQp178BE3qzmerkHLUTPT35UxeqYTXDOawjn9rtaXoq4nx/ZXPNP/sXNNcA2lta+8ocYe/dMbkfINxHpERH+fxL6tOnbMLbDJYp1Em9SWubZbrzu6q8na3sI1SKuupeqMZo5imlGjmWOfFcjedzFZM5Zh8/M8ThOntPsMAIDxRnjD+Khvt5pOpa+vFJFkWyU1m9RNHXWtgbdfW7qAbzeFTHQE9HtzF6rV+1wrbZ7n7csLBNT+6Fo5Xdujh0JPLV9ss71c21/5GlbqvoLuPmiu628F7Ks1M5KZzfHU/k90eNeRmlzHSY+IGN3qfT66Szf1K+xSDZpel/s1I3uWydCGZVYNmlv62mcRadVNO13vxX2crGHtzWUvnOdraxMSDajRHHWfFSrjM6qmLNdfyyrP45S+7lrm9eWK3v48lXSfAQAwzqpGFHM/1Hbv3i2zZs0yj8rr4MGD5h5Qfv231cj8x0dkYPWwimglsq9aWi6tkrNvPyzXzjHzJgEdkKKdemh5X1jW105rjFnX9+KaXpMTnxMAwJGAmjcAk8SgJHepm6Ch5U1zPgAAgDAjvAGYJEx/pt7NkvD0ZxqUTSv0ACK+ywUAAACEDOENk1COoeydqdD+PBNpe5XMPLdGpurptmI/ttVyi7OOS6tki5k7megLRmf2eYtIq+j+bHmMOmm4+2SNNlVqn8Kwb3/R+JwAACY5+rwVgT5vAAAAAMYbNW8AAAAAEAKENwAAAAAIAcIbAAAAAIQA4Q0AAAAAQoDwBgAAAAAhQHgDAAAAgBAgvAEAAABACBDeAAAAACAECG8AAAAAEAKENwAAAAAIAcIbAAAAAIQA4Q0AAAAAQoDwBgAAAAAhQHgDAAAAgBAgvAEAAABACBDeAAAAACAECG8AAAAAEAKENwAAAAAIAcIbAAAAAIQA4Q0AAAAAQoDwBgAAAAAhQHgDAAAAgBAgvAEAAABACBDeAAAAACAECG8AAAAAEAKENwAAAAAIAcIbAAAAAIQA4Q0AAAAAQoDwBgAAAAAhQHhDKPWtqpXa2vTU1W+eQIUblE0t6pit6jOPJ6m9m2RxBZ2Xzudlcc+gmTOOdtbI1HNrJOeuqLB9hiMH/55MtCrpWV4jLfdUmccARkN4Qyg1rBySoSE1DXRLk5kXrE+6Slhotf6Rb9mkIsj4mYjXPCIQFspvX7W0XCVyyQ3DUm9mlQufE5cJOLcHexar4NOlvnHDJ/9/T8KvMj8nI9K8RGTLjdVyy04zC0BWhDcAmOScwunG5jozZzyogtilVbKlZUQ2XDRi5gFAgDmHZeAGkc6raqRnn5kHIBDhDQBQcoP3VEmnut169bA9AwBGUXfRsNw5T+SKrmpq0IFREN6QXX+X1NYulk17TVML0x8gsGmMtaxrmSx9mrzryWzOGNiko4gmQHYTHv0aUYmpx/GlkVFfd1Tm9fXfRXVptLdVIq51ZTZBMf26UsvY+9AvvY1mcu+zgl9zfFnHSW+vazv1FHSMvMc8Iq295oki+M+f1OQ73/z71n28U+uY2Spx9TjWmF5OT8U1NbOb56bWY9btlvvcts8bva3ONlrbnfpsmfPI+ht933lN32fU9Rr+/TXaexttn6X4jnf2ZnLVsv7GXM0lc+8zi/+7xf2ahX5OMrY/+LOZH//nPHOfpZsS+pb1bJerH6hv+wKPwSgKPbfHfszTxzCy1HpFiWZdthx851Dg6/mXKfKYm/3g34eez7V1rqptSO0z37FPfU/Z26TX5T0GZdp+1zEs5efE//2Smnzfx/7lsp/XdvNJ2V4l62k+CWRFeEMOcWmdqb7wJWH3CRhKSvdC9Q+068ve+sencYd0D5h+A0MJiXVGA7/Ao50xSVjL2NOyPW1jKDxlV9e8Mb0t6nHTumTqNfVUUPOx6Ytko/m7RId6vLBbkq51DW1YJOm16X9oVUCZ7eyvIUmuE7UPvf/46X0WWSqufaaWm7EmXTAo6DUniD7GMzfLAvMekuuaVGHR/T7tQkt0l3vb9fljni5QxvmzTR9Zc2xXNlj3Nb1cZOnc9HID3SIqvDsFBn//ltg289hM7YV2zrIKOlHZ4T7HxtJ3Jt4ma2Ykrf0ZV/cXN4p6L/o8jsvm+9OFns0r1khkQO9PNX/FYvszqvdJ72ZJmGOQb1+eXPvMot+nCgXieZ8RWeP7nFt22rVuTedkaS6Z7z7Ty22Nppdxvn+cQm6hn80VImtdzyc69PdbcYX5vlVtIje7Xkvte/0jUWbBVG9vRDY3Oe9VHUtdePbvN9/nyVnfaIHbr5BzuzTHvEHazXx9vur36v5+HxpqV0uUiRWUohLrSH/XDg2pT4F7v5pl3OeZ/X08+g8ZY7ND1qxIyjLrMxuTNS1t1rG39k9nwhPOdLiO7Flmti3z31brnM14j8skucIXtnIpw+ekkO/jgv7dnzMiehM7f07xFMiGTwdy8n4Z10m0Sf0j1Kv+MbIe90n30rhaZq0smm7NUNQ/6PqLvHONpyCf3KVuOqKef8wbVm50/V34Dfassf7BTrj+8aprXmsVsFvXp//ZTu6Jq39AF0jU9d514Cw4OOQro/bCOxVXkGlS4TN9/Oqal6l37goY/d3S2quWubkUQbNPEioNNK1rTZ8/9a1WEIzHE+mCjCpsrlHLxba5Co2q4LJWB6Gl3Z6CU6n0rW+VuCoMrS1Rf7J471xZ5qyrNy5zXe8lvsf+1OkfVeKzl6X2vf6b9DkXl2QhYSTffbY3qdbcJAvOc71PXSh0neuO/p+r/80bkcaT7cd+ee+zjPXXyaI2XUhUn7GCz1n1veT70aNhiQ457nM2/89JxndX0Plo6BCV/sGoQaK6dLor6VtOF3Bd66y3Ww3sSPrXVgJlOObja1A2rVV7R4caz7aoY5x6nF7G/WOd/X2s3vvaAgNQ3tR3e1P6eyouC1zn+Q7vZ1OHqNT2+v9tVdT+36FuYvN97zHjB8Pg89Wagn5cGVUen5N8v4/VvcL/3R+WxhZ187j+awBBCG/IaW7E/TVuh4zUL6r9+tdF3z/u2vSI9WWf/oeqTiKz1U1AjdzkMSiJuPqH2/cPVeq9uwprkRn6H+lWifibq5RLfXvqV8+gqajQ6Auf6l1JRP/jbQJG31ZVcMpYpkimEBNodiRV0Bi8f7M662IS9b2fushc9X9fwakkTCGmKeop7IyJ5/xpkkiW/ecp0C1U+97cLVTe+8x8pnPXVFVJUhW85Ex95gcZ4z6ztqNE1Lr0u0wZ0+fEfM4zZB5Dq4bMV0DOPIaqEK1esxyDzJT+mI+zvQnZ3OsPNT5mmaYZ/k9GQEgqKd+/h67vJ7+cnwFzfuoauuw/sNnnSdD5ak2lCNr+z0me38epz0SB/+6/VR+y7VXyhP0QgA/hDWMymNRf4fofd9+vfQH9V3SBxW46or7IzXLZ276HkSoM6P5crvfnTFY/AxcrAFtN3Fx9DyZtqC2B6YtkWYc609y1AlbNnrcAZ9Vo6kKpa99bU6Ouw0CQvPeZrnExzTfTn/egPjqlpZtdebYrW9+4PPj7eDl9YouimxR61pX5Oa9UlX7MczI1gtl+2HDz//iYVo4fc0pNBzO7qXm6/2L5g3TOz0me38fa5P93Hxh/hDeMif1LrW4+F/CLn5r8v1Sn+6LZ/yAF9xEJK7vmyWrK49sP1uT/pd31K7/VD6GctZJlaTY5nkzzG3eBUxU0dXM09zlm1WiqZbz9bpxpcjXRLZXC9pnrV36rj4s+HuUrzNv9ZXzfLzn672Vj9zONW+dM+v3pYOKS7+fE9AWL+z7r1uc4BCr5mOfF1AiOLXzNzSv8Tbw6WbTB7H/r3PfXhJa22WRen5M8v48dk/vffWD8Ed4wNkX/I6r/QTJf5Kl+PMHsJj7F8jblGyu7uWO25jaZzSPzpX+dtAp+AX87+mvmqRzNJv18TZkCt9v8OhsoVZMRUDB0+s/5fiTI+HGgkOaRpinQ2PoUBZ9fVp8uc380Yzu3S6PoJqX6nLIK8/6/HZHImeoma5+VfPeZ3bxSOtJ9+0Yz+ufENGleqM6j0c71PD8n9nFT5+OSEjRJK4cc53bpj3kB6xztc54v8/5iW0dZw/SoLFDnWeYy2Zq3F8Oco+NF14SaAJfez4U1myzJ5yTP7+NM+f27/4R+at6IvNV+CMCH8IaxMc0nvKMMBumTrozhiDP7JNj/sKRHy3N+BSye0+bePXhK8ewCSkzWZPnV0OrYHTSSnIcehdFfcDGFgID+EbleszKo97RCFb5d/+jXnbdAFTJc260LbY07pEn9wx0kHWQCBqPI90cCq9O8/mU6n4KhCRFjGsjE9J9xnV/6nI3ualLb61X6c7tE8txnenv9NbRWv8aAGoz696n/ba+SbYEX2813n5mabPcIfbpmLEuzydE/J+Z7wLX/7RBRXLNJ+7XcAziYkVUrptlkjnO7DMfc+Yy6B2YKZDV51MbyndYgraYpnrcGR/07k/ruNYPbqGXc72Gwp80OHoUG74zAqGu8xtDsNh/qfPfXUDk/HBRba1iSz0m+38d6H+Xx775XtWzboG6y9pkFQHjDmNlt2u3hlz3NNTxf2g3SfrNIm/t5VQib6xmFTX1ZN280wxLby0TiCySZ0WTD1UzEFOTS/QEyCyMNK/Uvfel16qnoJhv17Vb7fc9149zv0+kjEtDvLV2A0L8+RiXhed4MZx3UuTzXa04Uz7WCzOUR3E1D9b7YZg93bi0zUw+fvVGW6cJBADvsabGMgRT0uvRIeP7rVlmTZ1/YTYwSHa7mPM6UEaj1svrc8i7rL6zmknHO6qG/NyyzCnpu+Z3bpZTv5yS/faa3P7rV+7x9GQjXiIUOM9x3/MEq+7FPfvss4PisjUgyW7PJHJ+TjO8B63wscv9nvJbarrZKajaZ69wuwzE3n3dvn9+AcGhGJRwrvW26FtBzvGsTEnV/h5qaQvf3hn15BHfT0Hw/J+rfMH3upd5fVET9+2X15yoXtf1rpc28nj1lbn+BSvE5yfv7OL9/9z3MZUbu/AQX9weyqRpRzP1Q2717t8yaNcs8Kq+DBw+ae8CRyeqLpAtx/n58ZeLUUmX0qdC/CusCV8aQ4Zhog/fUyMwbVSHsrsPSnOWSATgyZf08IxTK931cJT3Lq+WKM0fkpasJb0A21LwBqHip0fEyauR8Q1ijYtRdZNe+XdFVPfG1xKgcqoDfppsLqwI+wS2cyvV9PHiPCm7bqXUDciG8Aah4Vn8xVVjw94XrW2X3xRj1ek+YIMNy7V0jcsn2Kpl5G//UwO4XqJvNSbYm4giFsnwf77Rr6jtup6YeyIVmk0Wg2eQk4TTxMA+zoklehvFuNqk5TXW89HDnAf1vxij4tTLR7CsPqlA29SqRrQ8cFnZVMfIcGGPh+H4ecWQr7fex3VwyfsGwbLhoUhRJgbIivBWB8AYAAABgvNGWBQAAAABCgPAGAAAAACFAeAMAAACAECC8AQAAAEAIEN4AAAAAIAQIbwAAAAAQAoQ3hJK+zlhtbXrq8l0sFGXW3+XZ/7Wr+swTCB9z8eTU8Vwsm/aapzAu+D6bzKrllnNr5Jad5uFE0tdcVNvC6QWEG+ENodSwckiGhtQ00C1NZl4wfYHbWlncM2gej41VyGrZpIq742ciXjOn+nZ7/w8lpXuhmYeQqpNFG8znaVuOS0HrC9uXLFyU9rOZn4l4zdzy/z6DW0V+N3roi09XSee8EVkyx8wq2O9l9ZfukKu3HTCPx2DOsNw5T2T+8uoK3mcAciG8AQAAlFj/bdVyxXaRrauHpc7Mm1gj0rx6RDq2V8lMtW0AwolPLwAAQCntq5a1G0Q6bj8s9WZWZRiWa29XNxuqKqMpJ4CCEd6QndWvye7/4u2T0SUZPZzy7APl79vhb74U2AymiKZagz2LzWtERTcEiy+NjPq6ozKvr/8u2qke97ZKxLWuzGY7+fUhSm+jmdz7rODXzFc+22Y3LRt9mTxkOW6eY2wto9fvvKbvfEu9T/t5vS7vfgs4F5Vc59lEsLdbb6/vGAQcS/+5Ebz9uY5TcBPB9HbkL7U/Z7ZKXD2ONbpft9yfTf/7LPyYF/6a+cpj21yf5azL5CH4uHmPsbUP1PdI6v3q7xTX66eOU+pz59tvQd8rJdp+S8a6sny3jPaarudG/W40/yYFHVv7PTvrtPdhvt8t3mWynzv936+SLTmaS+7ftkne+aU70lPP780z7ud+JuvU45/du9mzrLsZpb3sj2SnHJDeW9PLvPPWB2S/WcbDNJ/sXE/zSSCMCG/IIS6tM9U/kpKQdB+nmERd/8hb/5g17pDuAdNvYyghsc5oRoDT/2BGO2OSsJaxp2V72oL/8R6juuaN6W1Rj5vWJVOvqaeNzQU0Ypm+SDaav0t0qMcLuyXpWtfQhkWuJjG6IBCR1tnO/hqSpPqXt3Wmt5Ci91lkqbj2mVpuxpp04aqg18yTVehR2ybuda0VWe8qsFkFnqjscO0ve/sLK6AXavOKNRIZ0OdWXN1fbJ9vuv9V72ZJuPabDg2RPcvMtmWei9p4nmeFU9urjsHmJmf/qvNTFz5dnxW9/ZGlc9PbP9AtosKGt5CozzMVRDrS59nQ0DJJrggofJeAv09WbJvzmvbUXkDVQkGfTeuc9Z6PiQ69D70F61zHvKTfBw7zWfEeA3Xmuo6l9d2oAu9c1/6ytz9LaCmFXWukTX9G9Oenc40sXrFZFlifLXXctrr3mv3dvmZG9nPR2v9q+8W9vwYissb33Z4fdc6uEFnrrEdNiQ69Db59kes18/1urFffdOo9x+MJ32eiTxI69HVEpcGeYbG+W+ILzLqyf7fk/mxq1bJtg8glF4xk/Z7WgeuCe9XrfuFKeeTL9nRv3cOy+rf289MaF5n57xf1T4W8/4IFqeX0dFvjifaCKU/LZV/aLFvf6Syn/m7/b+QCVyBMG5HGC9TN9irZts+eAyA8CG/IySrorHT+mauTaJMqvvUmJWk97pPupXG1zFpZNN2aoTRIuyk4pP9RHpTkLnXj+wezYeVG19+F32DPGlU4VIXI1P7SBce1VihpXZ8u8CT3xFWhY4FEXe9dFzALKQQXqm99q8R1QccT/Opk0Urn8aBsWquOmyqMuguz9varQsba8gQDXYiMz16WOg/ivapwlNp/cUm6C3Z6+7Oei1oJzzN/bbJvKjbM6uCT3r8NEtUF0F1Je9+qgusaVbCMbWtPb78qrK5d1yTxpd3pwLI3KTvUTWy+511KezGhvoI55+xa1/nYsFIHsJisSRWYJ+K7Jf1ZSX83auoYpB47341Jz+fa3n7v90FJ9YosWOJsg/qeaXJ9NzvnmcPzWfedi5o6z9Q7kAXnuc4qHZ487zlfmednwxL9Y0BcNt/v2qqSvabz/eD9AUj69f5vku7UPjI8343qe7FNHV/33+b72dR2VonOh03njNiPA+wdfEkltNPlA9PMDEUHtuVnmQdFWLrYHer+Sv72Hepm8EBg7Vud2rZL1O0Tz9iPAYQH4Q05zY24/7nVhXn9K7b5B8z8Q+j5h1abHrH+UU4XvOskMlvdBNTITR6DkoirwpKvEJl6765CUWSGLlS0SiSomVJZ2L82NzVFTeEkwN6EbFYFv6YZETPDERSSSssTQhZGxL8FjlG331LC8yw1ombwVFzQbpKIL1BYtVqm0Dh4/2b1qYlJ1Lfuushc9f8d6c+T+nzpObq2oJw1ohMr2zmrzg9do7LHORsn4LvFfFa84dnH+m7M/P4MDEml5PtRKPP100bdfs18j2fUjpWKOY89SviadectsNblDod9W9VR8e0jLeM88/0blvdnUxl8yr6NnGzfBpleN1VE14xla9pYsKlyxknmrjGn+Up55AvniisfpqltO1vdPPxUlf0YQGgQ3jAmg0n9+7/+h9ZXM2H6xrjpQmpynQoBupBllsvWXyCcVLhRBTr3+3Mmq2+GixWArWaBrv4a5Sx4mpqa0QpyjuzLeAsolSrM55lVI6sLiM454UyNOga4NUi7uUxDuv9ZGZviTQRzzvr7p9Xqpr/6c+Yy7sfc1A75g3imUZYp448hJWM1UTQ1hanv+OL7vPn7izl9ED1K+ZpqXctUUE43nbR/EIi1FV5Dnf9nMz9Ws8jFb7YDnNNHLbCJIwB4Ed4wJvavjk2evluj1U6k+57YBU9dMJs8Ac6uEbCaUvn2gzX5m7S5anasvhvlrDkwv3DvSI5lX8/No7BaGUpynpWp2eRorBpZVUB0991KT/5mgK7rs1l90cpYQzIRzDnr75+WmnzN6Mb1u8VXK1OUUWqYK4v+ocDsc+s6gDrAFB6m7H6+cV9/Sbt2MlNpXlNrmK/+3mn+aNWGZtae5aOwz2aezvpIqg/bd3UTx0d/RoADkBPhDWNTdCFGFzxNISvV/CmY3VylWP4mVmNjN3fM9ot5ZvPIfOmaAyvABfzt6K/p4oSNwKaYZj9kdN53mR6VBWoZ76AGWrbmoMUwgwWMm/zPswxlaTY5uqAmWHnRtRUmwI3+t+ZYFqskPwI4cn02i/3sjnbM81+nHpxCf54CA6DZD5mfFZd6Xavk689lyaMJc75M08xxoz8TVpgKPkez7zNz3i3sltZCPzejvGZe343WwCX2cbCaTOb5PeZvJlnIZ7PuNPs2WcBgILqJoxXgMvqoTZMzpon8bLA0jStT1LY9rG7OPi17vzwAlYnwhrExzVJijbl+8e+TLn+oCOhjZf9jnO4k7vxaWzynP4x78JTi2f+AuwdL8LI64PtHbMugh4r3/4psQs3sSEaBLtdrOqyCiebvoG9xOuD7t01tyyrnuJhlOqOeWqXBnjZp7Q3o4J9LRgHXjJBoHpVHfudZxTIFzdaZOWoZVFD3F5Dtwqa7mZ4/sOvzLrPJYWHMOv0DNBQl12czfT6OXoNWyDHP9/sg/SND8A8eDdJqmml6t01tS+rzZS8TX+od6bRvlf4MxGRZgSNcOt8DCeezqX+sKbLJXr7096+/htn+ngmqhR9tn5n97hsARI8k6n8Hhbxmft+Ndp9dXRMb7czze0xtW5s12ExrOujl+9nU5oyI/i0u/mC2/mR6SH89tL/b7+X/Papu6k709VE7UWboU+XRh6W3hPltUG3bFnX71lPtxwDCg/CGMbP7m9jDyTtNyjJrgBqk/WaRNvfzZght78iGG83w0fYy9tDN/l+XdQhIr0NHu3S/n8x/WBtW6l/h3f0nxtAfpr7d6lvj6Yfjfp9Ofw1X3xtnShdIdM1AVBKe581w6EEjquV6TcNqHqQFdMa36F+wde2MZ9vaRJa4mnOaX7nT+9MZGtvbLMj5hT3V/8i1zvT7VMfc83pREXW8rb5JZZPfeVa59LnhDCfveg96codudZzWSpvn+czjpNelzsVUv0pziQKrFsPFKkSb9VhhwPVZyTjPzDrVf+7t8xe285Xzs2nOWT0cu/O8Pbl/LCrsmOf3fWAGFVGy1ZA5/VY9n8vahERdn2G9jP+7MbpLD23vGrEw3+8z8z2Qeq5R1PG2axjLRW9/dKuzLfaUuf2O0fdZxn6fmZRlAc0mC3pNs09yfTfaA5co2b4bFc86As+fPD+blmFpbBHZcm9VxrbYTpSFX5gh/8/p62ZNP5PH9eUAmv/KLJM2p3mBxKa9JDHXNdzc13krXJVsu1fdtIxI8yiDqgCoTFUjirkfart375ZZs2aZR+V18OBBcw8AAFQ0/QOFCmT62nGZgV6HZ/vHs5L+wLOvWlourRK5YVg2XFRhxaydNTL1KpE77zpMeANCiJo3AAAwaTn91wptqjomJw9Lm659u7FaeirqQtjVcosKbtS6AeFFeAMAAJNTf5cZ5TKoqWd51V89LHfOE7ni0hopsmVxiVVJz/Iq6Zw3IgNq2wCEE+ENRy53X5/RplEHHwGgZV7DK3gqtn8cUIjU+dgYsy5PUI7RYXMbkebV9uAl27yjk0yMndVyxXaRrauHA/txAggH+rwVgT5vAAAAAMYbNW8AAAAAEAKENwAAAAAIAcIbAAAAAIQA4Q0AAAAAQoDwBgAAAAAhQHgDAAAAgBAgvAEAAABACBDeAAAAACAECG8AAAAAEAKENwAAAAAIAcIbAAAAAIQA4Q0AAAAAQoDwBgAAAAAhQHgDAAAAgBCoGlHM/VDbvXu3zJo1yzwCAAAAgMmFmjcAAAAACAHCGwAAAACEAOENAAAAAEKA8AYAAAAAIUB4AwAAAIAQILwBAAAAQAgQ3gAAAAAgBAhvAAAAABAChDcAAAAACAHCGwAAAACEAOENAAAAAEKA8AYAAAAAIUB4AwAAAIAQILwBAAAAQAgQ3gAAAAAgBAhvAAAAABAChDcAAAAACAHCGwAAAACEAOENAAAAAEKA8AYAAAAAIUB4AwAAAIAQILwBAAAAQAgQ3gAAAAAgBAhvAAAAABAChDcAAAAACAHCGwAAAACEAOENAAAAAEKA8AYAAAAAIUB4AwAAAIAQILwBAAAAQAgQ3gAAAAAgBAhvAAAAABAChDcAAAAACIGqEcXcD7Xdu3fLrFmzzKPK8dwPLpeGFQnzaHRX9jwu17/HPAAAAAAAF8JbmTnh7fT5l8klf328mev14m+2yHe3Pkl4AwAAAJAV4a3MnPAWvblPvv3xk8xcL2cZwhsAAACAbOjzVqEe+sqZcuaZN8n2Pz0qPf/0cWmYrR+fJQ3NX5Kexw6ZpbwOPbZFbrrqg3L2mXrZs+WDV90kWwKXfVRu+4BeJmC6vEeeM0ulHH5Otn/rGvn4uWfZy7z7g3LVV7bIwMvmee3ZHrlcP/eVh8wM4+WH5Ka/U/NnXy49T5h5mlrnQz+4Sa76u7Ptdc5ukIuvuk22P2ue115MyJf0+559jfz0T2ae9subrL+5/AeuLT38pPT8L719H5Sbful9z/nsF3t/q+kDt8mjh81Mv1/fJo3WOtR7cW8nAAAAMA4IbxXtu3L5+z8uq599hzRfcbVc3fIuOfTL78p1Cz8ud/zGLGIcUoHm4g9dIz1/mSefv/mr8pXrmuSk/jvkmg9dLKt3+APcIXnhKXVzWlQu+4JarzVdJtHT7Gc9dCj6hw9Iy1d+KofOuUy+vPar8uWPnGSFuQ823SQPuQOc38sqJLa2yB3PROXLvbdL81vNfLPOj6/okRffu1y+un6DfHXlh+T4/tXS8reXyxYnGB0fleu7r5SZL2+Ra2I/lRfN7CBPfv9Lct3WQzLz2jVy/XummLmF7hflqa9Jz/agwPuibPnmannSPAIAAADGnW42ORk89thj5l5l2ff9T4+cccYZI5/+/j4zJ5OzzI0PmhnKr1adoea9feTT3/uDmWM7+OCNI3+nlj3j6vjIC2beyF/uG+l4xxkjH/jfD4y88JqZp/3lgZEb36+WXbh+xLuWX43cqNfx6U0j6a3aN7Lp0/55zrap7fi+bzseuHHkA2odH/s3M/+ZTSOf1utc9Sv78Wt/GNl05dvV3/6del8H7XmOR/515GOXfHTkH76328wwfv+vIx9V6/jA13eZGdrBkV/937+zt6HXbJnaB559+qR5bbXtf/C8//z3i72/zeTet47k+pGPOc+f8emRTc+Y+QAAAMA4oeatos2TD0VPN/dtU97zefn8R9SdH90r201V1IuJu+S7L79DrvzkPDm+xp5nOU79vV52x6/kN6NVW2X1nNz3o4TIaZ+X5Qt82zGvWa583zvk0O9+k9nMUg7JQ7dcIddtPV2av3anpybM8jdXyg/id8vti2eaGcbb3qXesciTL7hrvqbIu774dfny3EOS+Kf2dK2c4/CAfLftOkkcF5WvdDbL6a73X/h+icplS9+l9u16ibubeCqPbrlDHpIL5UL9dwAAAMAEILyFzvEy93064vxUdu2x5ww8skX9/1H5ku5bZvXJSk8f/5Ze4kV5wd288bAJR2+bKcFDqDielAF9lYO5Mz2hyDZTLlt/t9z9vy/0ruNbH1eve5Z63QGZed0a+cpHvKEvxenz9tEGOSu1vR+XO8zTHjXqtf7vl2Xeywm55ly1XLO9VGJFg5w564PypR0iF676qjT7mn0WvF+UdyxcoiLaQ3LHlkfNHOXQdun55pMyZekSWRTUtBQAAAAYB4S3EDr2KF2TdUgOeQbWuFCu//YG2bA+aPq8zHujWUx7ToUyczcvp56kImOe5l4iV3+hWd51nApP/xaX7UF94pw+b7HtMuWSG+TbPf8pfb96WB7+1bflMrOI33MP3acilci7FlwtVy94lzVPX37h6ssvVDFSBbn+h9QeCVLAftFOulCWLJ0iT36zR5yuby/+53r57suny+cXzst/PwAAAAAlRngLoRf+ohsqTpEpntqwQ3L82+fJvPcFTe+S090tF58akO3qJvpXWWrF/J55btTBQjzOWSLLl31FNnztMpny1B1y+crMgUZe/OlquW6ryGVf+4F89TOXyLz3zJST3ni8HK8mXwNL259+Kjf+U0IOzVguX755uSz/pB3eZlz4eVn+//uqXN8yRQ5t+JKs9o0yaStgv1imyLyFn5fTX/6urP9PveVPSrz7pyqUXimX/I29BAAAADARCG+h86L85kHdpO9CmT3DnnP8qe9Q/0/IfQ/mF7Ee3f5TFWneIee/c/RGkyKny8youtkxIE9mDJ//nCS+tVpWb3goMNhNiV4v3778dDl09zVyzWZvr7iB36swJPPkHW/3JadDLwbUnh2S7bfdJFteniKX3XClvCOj+eYUiV79ZYmqkHXHyjs8w/wXul9S/uYyWf4RkZ92x2Xg11vkjh3qtZc1q70BAAAATBzCW0XbLj/5uXdw+kO//Jp87UfqzkcukHmmDd/MCy9T4UWFjVu+lhrExPHiz1fLdRsG0qHoTz+Vf/2mWufcZoma8JfdSXL+R9San/qarN7s345/lZu+cpvawmxNKqfIvH/8ilx5mj3QSI++NIFx+um6z54KVdvd12l7UbavuUm+ax6m/OYO+dK31WtHvyyfjwbWy4mc0izLr50psme1fOnf0g1CC9ovHsfLhYsvkyk77pDP/ePX5MnTPi/N87K8NgAAADBOCG8Vbnvsg3Jx22rp2ZqQnjXXyMdb75ABPbLidZekQ5MKL19efaEc/9Qd0nJ+i3zpWz2SuPu7clPbxdKw5DZ56MnnrP5xLz6WkNtWXCNbXha58MLT5amfb5ftrmnggFrXgQH7vrko9kkLvixfma8HB7lYPr5cb8cW+e4/XS4fUNvx5F9fLdf7RqH0OG6eLO+6Uk5/OSHXdfSkau9Omr9ILjlOharlf6fWeZOsXvMlufz9DdLy/X32e3pswB7BUo8k+U+rZUBOlys/1zTq4CrvWHq9XKbW+dAtN6VHpMxzvwTRo2l+/rQnZWDPIXnXZy8JqPEDAAAAxhfhraLNky/3/EAuO367rG67XK679aey768vk6/oC177Rj08fcHt8t//8VW5sv45iX/lOrm87SaJ7zlNPr++T/7zOnuo/IHey2X1Vruu6adfuVxalrS4pmvkjl+rJ359h1yjHveYkSyl5nRp/sZ/y4broipJ3iHX/a9r5KatL8q8L26Q/44vtwYmGc2UectlzWdmqvR3nVzxdTOC4xsvlK/et0GWX3iyDGy+Q2678yfy4rzr5Qdq3v/S76vfbqb55PdvskaSnHLx9fJ5/+UG/FSg/XxMbaMKiu23JVI1avnsl0A175BLPqv71l0oS7KNmAkAAACMoyp9sTdzP9R2794ts2bNMo/C76Gv6OHso/KVB74tzaeYmWOUzzqf+8Hl0rAiIVf2PC7Xv8fMBAAAADDhqHkDAAAAgBAgvAEAAABACBDejiDvuu5xefzx0ZthnvTxb6tlaDIJAAAAVBr6vAEAAABACFDzBgAAAAAhQHgDAAAAgBAgvAEAAABACBDeAAAAACAECG8AAAAAEAKENwAAAAAIAcIbAAAAAIRAycPb/v375eWXXzaPsst3OQAAAABAicPbwMCAdHZ2yr/8y7+MGszyXQ4AAAAAYCtZeNOBTIexP//5z/L444/Ljh07zDNer776qtx7773Wco899hgBDgAAAADyUJLw5g5uRx11lHzqU5+Sc8891zzrdfTRR8vll1+eep4ABwAAAAC5jTm8BQW3xsZGqaqqMktk0su1trYS4AAAAAAgT2MKb8UENwcBDgAAAADyV3R4G0twcxDgAAAAACA/RYW3UgQ3BwEOAAAAAHIrKrwNDw+be7ba2tqigpvjtddes0ahdPO/BgAAAAAcyYoKb29729vki1/8orz+9a+3gtedd94pfX195tnCHDx4UL7zne/Igw8+aD12rxsAAAAAYCu6z9vMmTPHHOCyBbfjjjvOegwAAAAAsBUd3rSxBDiCGwAAAADkb0zhTSsmwBHcAAAAAKAwYw5vWlCAu//++82zXnpgkvXr1xPcAAAAAKAAJQlvmjvAnXnmmTJ37lzzjNfRRx8tF1xwgbUcwQ0AAAAA8lM1opj7JbF//34rjOUKZPkul6/du3fLrFmzzCMAAAAAmFxKVvPmmDZtWl6BLN/lAAAAAABlCG8AAAAAgNIrebPJiTKezSYnyS4DAAAAECKEtwK4dxUBDgAAAMB4IrzlydlN+taZnMcAAAAAUG6Etzw4Yc2ZhoeHU7fO8wAAAABQToS3HJzdo4OaMx0+fNianBDnLDNJdiUAAACACkR4y8EJZ05oe+211+TVV1+1boMCHAAAAACUA+FtFM6ucQe3V155ZdIEtdraWnMPAAAAQKXjOm856KDmTE6AAwAAAIDxRnjLk659c2rgAAAAAGC8Ed7y4DST1Lc6wAEAAADAeCO85cndfBIAAAAAxhvhrUCENwAAAAATgfBWAIIbAAAAgIlCeAMAAACAECC8AQAAAEAIEN4AAAAAIAQIbwAAAAAQAoQ3AAAAAAiBqpFJMoTi7t27ZdasWeZRaehdo6fDhw/Lq6++KgcPHpShoSE57rjjzBIlpF7jlV/+Ug7/4Q8yPDhozao+5RSpOf10OeY97xGpqbHmlVJtba25BwAAAKDSEd5GMR7h7bU9e+QvX/2qHPyP/5DhF14wc72qTzhBplx8sbx+2TI5KhIxc8eO8Aa3v7xaZe5Be93RXBoEAABUFppNTpARFQJfvO46ee6975WXN2zIGty04eefl6Hvflf219fLS52dMvLKK+YZAAAAAEeKktW8TXQFXphq3g4/+aT8cfFiee13vzNzCnP03Lnypn/7N6tZ5VhQ8wY3at68qHkDgExVVfxbAUykMdW8OeFmooNbmLz22GOy//zziw5u2qs7dshz8+dbIRAAAGC8UPYDJlZRNW/uP8n25+P9oQ5Dzdvwc89ZoWvkmWfMnLGpedvbZNpPfiJVU6eaOYUJTc3bgzfL689/WL79+3+X5ulmXsj1d71eLvjf5oHScd+fZcU55kGgQem5bIZcvtk8VC75zh7590/UmUdjV1E1b3s3yeWzL5d3/tdf5Jr3mHnGL295nVx0k8hFdzwu3/5Y6d6/X2DN2yM1csLnRP7r54dl1MNVIQo/zya3B79eI38nI/L854bNHAC5ZKtpc8+nNg4YPwXVvDlhxn3fmYaHh1OTDjvux+Mx+behXNNYXuf5666Twyq46WJDKaZXH3tMXvznfw58rck16XNOn2dBz4Vzes+1L8qLL6rpd3fKxfrdBSyTnp6VTX+vg9s/yf/Tf2Omf/vYSQHLTpJJfc60wP3iZKqxfuaf2iiXv/F1sqY/4Lmg6f/f3pnAR1Gk7//JRTijouAFHoAnohBcMagcHsCqwKoYdRGPLB4cKphVAcUYD0T9IaDwR7k8MO4a0VVQF1QEz3hAxANUBFeNB4d4RAWGXP9+arqSZpgkPUMIGfJ8P5/+zEx3TXdVdXX3+9T7VvU64GLH6D97dDE6h9teB5dI2tm745ui6cVPYW2YbZEua3MvQtOm9+DdMNt21uIn/53PK8HZT5bh4hdr53mhRcvusITadF7bj0vwdlzxXQixc/HtefMmsxdpuMXi/V4brF69Gu3atXN/1Qy2TNbzFggEova8FX/2mfG6VUWik3/OPukc1F1TPXFJSWjx7rtI2H9/d41/GjZs6H6r4yydgOa9PsL0Tx/HgAPcdR7WP3MJjrziBefbzVj4c2ZMeETK+WEuLjnmShz38s/IDPEwleOmwYzP8fh5Ld2VleCmNbVR1T7DsKkued5+eBpXdLoSHV76Bdd2dtfVNNUco/E2nrd4TOwZh7svLMP6q9h1EmP4aGcf/F9z9F4xHZ8/MgDVtLJqCV6Tx9Xq9eg7/58koOW1wOgHSjCyg7tOCFEpoR62yhaL97sQouaJWLxZQePtgQntibHpapM1juhp27at+6tmsOWheCsuLt6hsMnfrr8em595xv0VnmYjRiDppJPw69ChJsTSL02uvhrNRo92f/knZsTbsknY98yPMW35bJwbqlF/fBYZHYfgRfNjNF5cNwIR6JVdj5v/Y19ahxGViRQ/aQwb8OzgYzBkfvDX6GrTb8um4rok3p7BkL8MQfv56zE81V1X01RzjMaJFfewDS8noON9wLxXSrCztOROxUcbWnr/vjhr5TR8OvNctHDXRcuG/2TgmKuPrdXrMZL8L5uRgH65MXw+hahFrBjzCrX4+PjyT/udi00nhNh5+BJvNokVMxRrFDQUTPfddx8++eQTs10IIYQQQuzetG/fHiNHjsShhx6KhIQECTghahHf4i1UuHEZNmyYhJsQQgghRD2DAm7ixIlGvIUKOIk3IXYe1U5Y4tV2VrxZASfhJoQQQghR/1ixYoWxBa1dGGovCiF2Dr5mm+RF6F14sXIMmBBCCCGEqJ/YSKxQO1EIsfOI+FUBXs+bEEIIIYSon1TmeRNC7Dx8izdvj4rEmxBCCCFE/UZeNyFqnyrFW+hFaC9MXqwFBQXuWiGEEEIIUd+wHje7eAn9LYSoGSLyvJF169YhOzsbEyZMML+FEEIIIUT9I1S4SbAJsfPxPWGJZeHChdi4caMuUCGEEEKIeoxXuFlkHwqxc4lowhLy008/mc8DDjjAfAohhBBCiPqLBJsQtUdE4s17cTZq1Mj9JoQQQggh6jMScELUDhF73oQQQgghhKBgk2gTonaReBNCCCGEEEKIGEDiTQghhBBCCCFiAIk3IYQQQgghhIgBJN6EEEIIIYQQIgaQeBNCCCGEEEKIGEDiTQghhBBCCCFiAIk3IYQQQgghhIgBJN6EEEIIIYQQIgaQeBNCCCGEEEKIGEDiTQghhBAixmjRogX23Xdf91f1JCUl4cgjj3R/CSFiFYk3IYQQQogYgqLt7rvvxl133eVLwDVo0ABjx45FdnY2jjvuOHetECIWkXirJ1x99dWYN28e/vnPf7prdn969eqFF198EY8++qi7pua54YYbsHjxYvO5ozRu3Bi33347FixYYPY5depUd0vsUBfbWadOnfD000+bhd8J2wTbBtvIrobnfeLEiZg7dy7++te/mnXRtKtw5QyH33Si9rhyREP8Z3EKrh/byF1TP6gL5c50jv3qsj3MZywRHx9vlubNmxsRV5WAa9iwIW677TYcc8wx5j8UckKI2CVi8WYv+u+//9581jY0dB566CG89tprGDVqlLt2WyZPnmy2Z2VluWtEcnKyqTvdtOsuV1xxBU466SQUFhYaw/3NN990t8QOamfR0ahRI7MwrCmWoAhmW/UuixYtMkJ06NChpi2Ew96jR44c6a7ZFrvfxx9/HK1atXLXbs+NN95o9lNXhDhp3DgODz7aFAvf3wNXjWzort2WozokIOeFZpj/Zgr6nd/AuW7i0LhJnHPdxLkp6gf1tdw1wY8//oibb77ZPC/23HNPI+AOPPBAd2sFFG7sFGS4ZGlpKe6991588MEH7lYhRCwSsXhr166d+dyyZYv5rG02bdqEl19+GYFAAJ07d96u57h///447LDDsHHjRuMBEEFoLJ1++ukYN26cu0bUNdq3b4+tW7fiX//6l3nY/vvf/zbr65KXqDrUziKH9zR6LM8666yYvGexzb711lvmvsyFhiGF6HnnnYfrrrvOTVVBjx49cOihhyIuLg7HHntspQKP0JvQvXt399e2UNTRk8D91CU2bSrDR8uKUVYGdDw+0V27LVy/197xWPdjKV59sQgP3rMZvU/4DePHbnJT7H7MeroZ5jli9YyzKjoo6kO5dyZWwP3xxx9GwDGE0ivgeG3xWUK7jcJtwoQJEm5C7AZELN74IP3b3/5mDM1dxbPPPouVK1di7733Ru/evd21wRsVDUf2/tOY+PDDD90tQtR96K3iA/bPP/901whR9ykuLjZeYvb8c2FExP3332/acWpq6nYdbPxNcUfDk+LsjDPOcLdsS5mjfuiJpEALB59F/D/T1TWWvVuMX38uxX4HxKP76dt7U4/pmIgkR9d98mGJEXtCRAujoDiWjQIuJSXFCLjWrVujadOmuOOOO4xw4zVC4ZaXl+f+SwgRy8Q5F3WlTw67iQYlFz6ki4qKjNeLnjeKuF3F2Wefjauuusrkg738FGrnnnuuCT376aefcMstt+Cbb74xac8//3yzrWXLlqaXlje5V155BbNmzTK93jQmxowZY9LafRF6OthzvGHDBlx22WVm/MmZZ56Jd99913j3GGv+3//+F/fdd59J7+Xoo49GRkYGOnToYIxy9k6vXr0aM2bMwPLly91UwEUXXWR6qLkv1vcPP/xgQoWYP4s3Dfnll1/MdoaPWqpLY/P+0ksvlef34IMPNj3+HLxMY6qkpMTkkfVie+fs/xiaxB49PggYM8/90zPEcTOVEa4OPv/8czz88MNGfFdVn1zP8jCPCQkJ2Lx5M95++20zNojnrLL9e+vYe/6+/PJLE5LIcrL90tisal/hjtexY0dTX8wr29HPP/9s2hgNVG+9hsIZwdguTzzxRPNADT3Pl19+Of7+978jMbGil57HXL9+PQ455BB3TRAej22RsI543g844IDy/Dz11FPl54QPa3o23nvvPfPJsj/55JN45JFHzHZLuLZB7P+9/4m0nUXSfmjEX3LJJSadraNvv/0WJ5xwQth8W6prK+Gub3ozeV7oKaS3KBzVnTf+l6FI/J2Tk+P+C8Z46tKlC5555hlMmzYNf/nLX8w5Y9ltO/34448xZcqU8ntUaH7CnZPq9mPLybbw2WefmcgE2955PT/wwAPmWqjsfsfjVdWewlFVPYbbRm8Zj8n6ZB3yGbJ06VLjPfDC/+6xxx7lz6B77rnHtGMvtv55nbA9hsvDruSuyU1wQtdEzJu71XiYLJ3+koibbm+E5IZxZv1rC4rMeKu//q0B/vvcVky4I5i2xb7xuPK6hjjxlEQ0ahznnG/g4/xiTJuwGRvWluH+mU2w/4HxmHx3cB+EYZrnXpSMNxcV4c7RwfvWEe0TMHZ8Y+f+4tTjrZvx4QfFZr3lvmlN0KFTIt5/uwgdUp1jNYrDkleK0PH4BLPd+x96za4Z1cgc/x/n/17++6d1Zfjy8xJ07R7Ma2BLGd5aXIzJ4zYje0JjdDphWw/kN1+Vmv+Hltv+fuf1Ihx0SAIOaB3vtEVg44ZS5MwKmDo7/+IGaL5PvNM2gB8KSvHEzC149aVg+cmFlyXjnAurTuMlXN0f3IZ13wjHpiaY8jiPRqz5ogSz/98WLM2rqL/jOifiqhEN0e7IBJPPn38qNYL85J5JeOXFiv1580R++bnMyc9WTJ9UcxFM9GZTrLETmzYOo494TyS8Nl5//XXzvabhPYKhmbwnsbOFzzE7Ho/wXiKEqFki9rzVFV544QVjuND7xnAj3rB69uxpbhzsXbJGEY2dwYMHo1mzZmb9kiVLyoVnuJAeP9CY5HH+97//GcMhFObl2muvNUYSRQMNCn7S0OAYDQoFwnwxfxTGzBfzRyPkmmuuwamnnmrS0Ki/9NJLzfGYhgsNVApSm38/aUKhEcXeOhqZ7AFnHlesWIG2bdsaw5HrvVD4sFeP+/7kk0/M9/T0dFPGcPChkZmZuV0dsBed6+1DhYTWZ79+/TBkyBDTq05hxzE0v/32m6mT4cOHm//4rWNCMcDy5OfnG9FGo5ehWxdccIHZbvNKEUtxyX2tW7cOp512WrlRyTQ8L4cffji+/vprY3jSuKWgqwrm86abbjIeYRrO/B/zsd9++5nzz/xT2IwfPx7fffedER4UKRROFAX0ZHjXW5Fk64gGLoUKzwvr8B//+IdpDxa2g7S0NGPAf/XVVybP0RJNO7NU1354fiiU9t9/fyPsOd6JhjuFU1X4aSvR4Oe8sYOABoq3rfG6Ylv5/fff8dFHH5ly8Xqi4OL9im2LApDCKpL8RbIf3kO4nulYjxwTw/ofMWKEm2J7/LYnv7BOaNCxQ4jXm4X52meffcy1Pn/+fFO3vOd469DCzkK2Beapa9eu7tog/H3QQQeZ65SddXWRT5cXo8ix848+NiiCLMcdn4g994rHt/8rLRddoXDc3A1ZjdDt9CR8922pIwSKsNoRR6mOCLopOxhm+tWXJWjoCK3DjqrYf7vDE5xrEjikbbzZBzm0XQL22DMO634s2064WRIcbXVityQjur5aXYLCX0vdLf44oFU8TjgpER++X+yItiIjNOlxTL80GU/ODjgCcBO+d8qxeVMZHntoC6ZPrhCz4ehychKKisqw6L9OuR3RRNFztSNMLx+ajJ83UvgUYc2qEiPuLnCO0ergoCmTMawhLrmqofNMBV53BOi7bxSheYs4DLuhEXr29jeelPsac1djU561PwTrfsVHxWhzWIIRelxPKPCG3dDQ1P83X5WYPDFvp5yWZOrTQuE26MpkJCbFmTxx4TkaMDAZ19xUc5Ok8Jq69dZbjX3DzhHeh3gP5cRXO0u4CSF2DTEr3ghn5aOhRs8HDXEaNuypt+NGaEjRiKO3kN4YeuMY/03DmL1SNGppoEcKjXcaqzRsHnvsMXdtBdwvj02jm0KCBjg/KQxouBx//PHG+GPIJ4085of5Yv44tom95TZfTEcDmYYO03B54oknTJnoFfGbJhT2svPmTgOUooR5ZJkoJCiIQ72qDM0YPXo07rzzTpPuiy++MEYVPVXhYNloXHH/NC65f36+//77Zr0VpyS0Plk/fOjk5uaaOuExZ86cacKwWB7WrZ86tvBhxv9zX3y40bvH3kBrMNLbwLqgwcp8cF+cmYtlZvko9Pr27Wu8YBS4tr6uvPJKE55bFRSm3DeFpf0fjXB6G1jPFCfsaKDooKHLcq9du9acBxreNNK96ylQWG6O7WQZ6CVlmXjOKfaYjvn1Qs8KRRc91c8//7y7NnKiaWeW6toPvW48bxTXbCdMRy8njfeq8NNWosHPeWPb/vXXX9GmTRvTaUAoTiieeB965513zH6aNGmChQsXmv9zP/SksZOC96tQUVIZkeyHYonnheGLPEe8v1C027YcSqTtqTooNCkEGelATziveQvLwTZEIcxrl9cr6/Pkk092U1TA++CqVavKzyUFtYXHYIcc2zY7v+oib75WhA3rtg+dbE8x5+iqTz4ML6QIRc+xqYnG05Z5xZ9G/Iwa9ic++6QEBzvCrO/5DYz3qri4zIgzwklQKGYCgTK03C/eiAhy2JEJaJAcZ0RQVSx3hF3GeX9g6MV/IO+NyvMWji2O6Js9dQtuzdyE2/65CQvmbUWcY10ceUyCEYwUQI4WB/2oFETvvVX1/lnu6y4Plpvl/2JFifG6rfy4pLw+7hqzCT9+X2rKergjoOjR7HV2En7/rRQT79psPI/Mz0vPbjXeM7/irU+/Bo4wS8DypRV5uN455uKFW7F3i3j0T0826c44qwEOOjTB5MmmGzLwD7zlnHcvHZ18JcTH4YVntpo8cXlyVgBFW8uMZ68m4bOU15SF173GuAmx+xHT4o2GHkNpaASyF5/GB41gGgWEYUYM22EPtddo5X8+/fRT0ztV2XiKquDN0Xr2wsGQBRpQNC6s4cPwrWHDhplQPhpF9NhwgDGNWG84EI1VelnsoGOKU/buMySCZSGcya1Pnz5G7BA/aUKhMURRQMPKhgUS9tCxp55CxRqkJLTMrGPWNw2xcNj9hz446DGlF4PePkvovmk80hPAerLwIUTvEcczsox+6tgSOnkNH3D8L+uMBuERRxxh/kuPg4X5oQFOA5L1SgOdRiKNTm99MR9VQUFIzxSFk/d/LA/rjm0wUthm6QEKbddsOxQTe+21lxFahOeAgtN77GiJpp1Zqms/FCAU2V5Dn3nmOagKP20lGvycNwoHihNex0cddZTZzrbE0CHWOXnwwQdNZADHgFl4nlhWhhn5Pf+R7IcdQgybtPD+wl5525ZDiaQ9hYPXEIU5Oxu40IvMjhH+n+Fatv64jl421uGyZcvMOophXovhxlCzfbDDgnmnZ9WOjaPYZH5YTpaN9V8X+e6bUiM6mjSNMwY8ocBofUg8fi8sMwKlMijwSkrLTIieHRPHTwqwBklxaHVQPFatLHGESpkJnaS3iGKv2R5xyH+v2LlOgcOPDl5bBznHo0eN6SujxMnKSkcYRjv+buOGMsyfW+FhpbDc6ojIhCgtjLWOKPOWe8vmMhQ7mohCya5n/a7/sdSIRN5GrEfzC6ec779dUbcUvPT4Hdjan1BiCGlJybZ1T95YVIzCX8uMx42hqEewfp3NFHnedAVOvlifFv4n3kl6qCO6GQpLnnkygLNOKsQVF1T9/IgE3pcYQWKjQXjdsWOEYdx19RoRQkRHTIs3wp5oGgMM0aFR/txzz7lbYG5YDP3hQz6UgoICY9iyd7imoUFBI4ZGDd93ReHA8SYcp2ehl4F5Y4+5NXq48PUGFCQWih0asEzHWQjZo86ed3oFLH7ShEJjj+Vn3Xmht4BGOnv5adBVBv9bFZXtnwKJUxXTa1oV9IZxnNOrr75q6oVGK+vM4qeOK4P5okeB0NhmXlnnrHvvufB6M+hNoZEZzSsyaLTSoKVX1XrU6PmMFoYW0mDn2Dtvfjm+qqpztqNE084qw9t+aIizvdHDQmM9UqprK9Hi57yxE4iCll4ttkWKUBsyaeF/6NGiF9Weq2jqbEf2Qw8d7zfh6mVH2xOvCzvb5BtvvGGMRl73zKtXsNO7RmOSwtZ6B5ie1xRFZWUePno4KYhtCK2dqIRtkferyjqQ6gIMnaRwoleMYYydT3QERvOg8PIKjFAYJshp9K+4tqF5B5ld+qc3MGKF0KPFUMg994oznid62CgaPninGH/8XoZ2RyQYUddy/3gzxmrFx5Ufr6YpKS4zXraaxr1th2XvfeKQmAR07Z60TZ2NvacxmqX4H3fVtFlwjBvHr3nJe6MIvzlCjGJ8P6dOeY62FpU5IrLqZ+GLz27Ft/8rQZqTryfmN8NjzzUz4ZcUgTUFrwF62hmRwmcb74HsUGHnIjuC6amXgBNi9yHmxRt7v/kQ5/gIenm8veRVQYNrZ8Keco4xYYgZDRmKhOuvv95MLuAN5WLvNI2e0MWG49FwoTeJPdgsK41cvsiXcewDBw70ncYvNEDZ470rYcgVJw9hPjhZAh88rM9QIei3jv1Ag5veltDzQC8hQ7eihcY1x07ZMUiTJk0y5eGxdhS2+9D8cqH3lGOJapqabGc1hd+2Eil+zxvrgZOvULRRnFDssGPIetPPOeccU2cULQzX5T642OgAv9TUfqoi2vbknW2SHSCsL+bTOxMwoXeNApIh4VYgUhhTNLIDpTLvHuuS3nNe3wyXtNESXi9tXYWvAfi+oBT7Osb+id0S0f64BDMei6KuOhxNjLeXFJmQw9Dl0+VBwUBPHEXeUR0S0dYRa/bVAwVfl+LA1vE4qUeSEXcck0VPVX2AnrZwdcZJUHYEiu9ozAa+NuLay/7EA+ODE780aRKHPv0b4IFHmuLvGcEQzB2Bwo0h47xXMTqEEzXRfuB9yL4Hjp0dvD7ZCSmEiH1iXrx5CR37wJAfGhZeT5aFvVG86YWbcGRHYbihfScXb6SclIQvo6VxxAkvTj31VNMjRu8Db6zWEPMuHLdDIdWtWzczrocigl4OGnEc38OQMO7HT5pw8Pgsf+jNnCEXnEwiWi+IhcYzBTINfC80imm8eUMyQ2FZ2JvP8W+cmZIGJEOnvOfXTx37gUYpQ+wIH3ih54FeQnoLWR72/kfq2aKXgJ4NGrTsCaWHkOXx28kQDtuumW8KqdA8U7zWpFFPom1nfqAA4nXAY9DIiAQ/bSUa/J43dr7weBQrHM9FD5YNmST0UnIdwxHZTrkPLtV5rkPZ0f2w3bLNhJvco6bbEz2gvL/QmLSCjNc8vWu83mze7UJBzPRMG67ThXVMDyfv46eccooRcZyoJBYmYWA4HcUEX0R94ilJaHVwgvHo5L9ftXij54x8/mmJGUsVuiycHwxRpAdv69YyE2bZfO84M6kJj8nQwYaNYGZ5dPQyvvpy9xduf/xRZjxmhb+Vha2zWVP8zezIuqcz184MaWFYJj14fzrHWeuI5A3rS00I64EHVe75peDj2MPOaYlY9FKRGbc44IxCPP0Ew7r9j8OrDD6TKNw42RbvBRwH6x2HHU7ARRtKLoSoO+xW4i0UeuJoLHDqaw7It9jeWxoMNAo47oxGWajxyJsce4ojhT3ODGHgJBEWGiCc7c+O8+FxKZDYG+19zxHzQG8SZ4fjxB70LDAskOEQFhqUVnz5SRMObuc2Gpw8poVGK8Vb6MDnSGFZaWxy/14oslg3FAKVwXyxnrweQJaTY3YsfurYDzRK+R/2/HNmQW9d0KvESTO4jnXB/VLcetNU15MZriz8P4VBtHA8E8Uk62TAgAHu2iCcsdHb1v3AfdF49wpT5tHb6RFtO/OLHZPFa9PCPPC4VeGnrURDJOeNIZJMz3qhB9c7ztN6+L2efpaR7S0SItkPr18KJwvTsdOEeeM1EkpNtyeOO6aApaDlOD3CMbDsyOEYt1BxmJ2dbTpdGNLpzbcXzsTLscDsJGD5KPhruoNiZ8GJQDb9WYa/dHWM/2bBSTc4Fq4qvlhZbEQXZ5u046QIZzq8bnSj8nUMhWRIJL1uDKe0k5Ks+KgEWzYDR3dIwOZNzv6qOV4oTM//UXRyQhDLPi3jnXzt2siMylixvMQIK87uefqZFaKIAuraUY3QtYc/ocSJZBIS4nC8I7jsjJ2k22mJSNmTXszgWEYKZU48w3GM3nStD44vn22y9aHx5lUC19/SyHheLZ/klxiRGB8ffV3y+coZo61wY4i39fh7YVgyBRw7aWjTSMAJEftU3JV3Q/hw51gV9k7RCOFMdJzggIN6aVjQIKChQeHGWeVo8FEMsCeLYVJ85xT/Gykcx0HRyAlT2GvNnnv2iFGQWQOKYUacOZAGDWez4+xuPC6ngue4Lb72gILBhqdxBj7mnWn4nZO0cLIEP2nCwfdHcTwKxQjDzJhH9rrTOGKIknfsYDQwlJECkOLN1gE/2XNOQ41jFSuDeeYYRk4WwXphWN7QoUO38eL5qWO/MHSLHgnmleed++KDkK8ioMeABiXzy3x762v69Onm+Hb8XDiYD+aHxivTszz0EtlB5X7gGETWB8UkzyvFEkPOKCw43ot5tfnhrKsU4JE8nNmRYPPIOmQb4msJOLmEJdp25hd683gO2D54Pu21YGcErQw/bSUaIjlvDCdl6CTFHdsI68nCjiHC90zyPHEsCuuO959IiGQ/vGdxshV7LtnJwU4Gisxwxh3PbU22J2K9b5wJmAKOXjVOrkKxHw6KPRqjlb0agvdpK/B5XsKVw8L2w/vbhRde6K7Ztbz+ahG+XlNivDac/t5PyCTHSfE/HLd277QmZur62/6vMUbf2Rin9knCST2DQoChkAyJZN/JLxvLsPTd4L45PoueIYovfvJ3JNB7x/e2cZZGTnPP498/vYnzvaF5uXg0FP5W6lyrwZDBof9sWD69f03BVxS892aRGZPGVwOwvpjvqU80xVnnNkCPM/w9yzlTJuu04/GJmPxIE9x0u1P2GU3Qs3cD876553ODkRp8jxvHslEs2nTTcpri5FMrjkORR/HOPA3NbIRb7g7mieXn6xv4uoNo4SRanCiJwo2CzE4CFA4r4NhJw3uBdzy3ECL22K3FG+HLXhmCyAc+e8Y5KJ7GHsUJxYplzpw55ubH3l8a7Ay945gK3uwihcYbb6Y0uDieg+F9NF4oJjkJgDU8mIbjdDjVOsfLUDjR6Hz22WeNcUYYtsc0DANj3pmGve00diNJEwrzwhd6Mi/0JjCP9AKuWbPGGH1VGUd+oDDkFOWsC1sH/KShy/XeiQxCYZ5prPE80ZhnuBXFLg1j1g89RH7r2A9MyxcH04ilh8Luix451i2PzfxStHH8G2fipLeUD0GKyKpC17hv5oeza3JcFMUljVhO2EJvlx8PHNNSHLCHle2Ex2Wb5sLeVApI5of1ws4K1guFrV+YR05AwtAaClUa6wxFZOeCl2jamV+YB77Og/VEwcbOC4qJ0DyE4qetREMk543thm2F6ymEvVAA8V7DNkIPGK8xCkOKGIqV1q1buymrJpL9sPOF+Wca1iMFD+uI13Vl1GR7IjweBRknSeBrRyj+GKLO6yUcFJa8R/P8VSbYee9gHfPccqKSymC7oYeSbaKuQE+Yk/XyMWnVQe8Op8LnpCb7tIgzgi2tWxJ+coTYQxO34Ll/V8zsyJBIzsQYOq6NHj5GD/Pl0tGQM2sLlr3H48eb4/N9Zh+8w3eZRReCuXB+kSMwS82smByLt1fzmjc/7snajLk5AeeZCnMMhiVSOD337wAm3VX1u+UsrMNxNwfrnq954IvI2x+XaN6rx5du24lmeI6m3rcFX35WYl4tQG8fQ1f5gnTvbJP/d3swT6VlQHdHQDJPnBSFL+n2m6dw8L7D5xYXzoJcHbyXUcDRJvLOKiuEiD3iyqpwG9hNNNa48MFJocGxETRkQt8FJoQQNQkFB71dnE2S3kAhhKjLjLy5Ec48pwEWPL/ViL3dnaeeesp0lLATiV5/DjVh54kN8faGngshagaJNyHELofepIsvvti8foBeI0IPDMP+GI5ID1tNzNApRG3w3JIU410Ruyend/7NTPXPsXRLXi4qf8cdx77dP7OJeZff4w8H8NRjAfO6gqqYNG6zeYF3rCLxJkTtI/EmhNjlcIwWJ7NhWCDD4xi2SfHG0D2GM3N2SyGEqCuc3DMJ145u5Ag24OP8EvMOuHZHxOOQtgkmxPKOUZvqxesZJN6EqH0k3oQQdQK+hPq8884z4w754OeEF5xUiGNTd+TVCkIIsTPgjJSXXtXQzPbpaBds3lRmhNz0yZvNmLj6gMSbELWPxJsQQgghhIgYiTchap/g1SWEEEIIIYQQok4j8SaEEEIIIYQQMYDEmxBCCCGEEELEAHGrVq3yNeaN3znmjQtnguO4t5EjR5rtQgghhBCifjFx4kQkJyebMW8c78aF49w05k2InYcmLBFCCCGEEBHz3HPPmQlLKOA0YYkQtYPCJoUQQgghhBAiBpB4E0IIIYQQQogYQOJNCCGEEEIIIWIAiTchhBBCCCGEiAEk3oQQQgghhBAiBpB4E0IIIYQQQogYQOJNCCGEEEIIUcfZgNyMNmiTket8233YMDcDbdpkIHetu6IaJN6EEEIIIYSoRQpXzsO4IX3R5RhHjLRpg45nDETW3BUoLHETiLrB2lxkOOeH52ibpXMvDMycibxdoCKjEm986aJevCiEEEIIUX+pV/Zg6Q9Y9MwSfFvq/t4BCv4zBN3OHoHcP1Mx/O4c5Dw+G2NOA56/0RFzV+eiYHcRcK7wyZhbmwpn53jn2mdMcs4Tz1VwmT26B7BkHAb2zEDud24iH+SPp/gbh3z3dzREJN4k2IQQQgghRCi7tY1I4TYrExd/OhrDZr2D9e7qqHAETVbmQuyRkYM3HsnGoL5pSDu5B9JH5eC92YOARVmYsLDQTSzqCi2O5HmqWHoMGIOc58ejB5Yga1YeAm662iBiz5sEnBBCCCGEsNQL4fbD147V3BWXn9EVLd1N0bDiP1Mdc783MoelISXBXemSfEo6hrcKYN7CPJTLt5INyJs+AgO6HmXC9Y7qOmC78MryMVOrViN37AA3FLMjBozNxepNbiKPR2r1KkdApnfBUSb8j/tbvb34WJuHqUN6oSPTHNMlZF8u3jTO8XoNGYcl33BDPsZxXddRTlmBJTd2CebPO6bLx/4DzOd5Hbctt7stHEGvVheMMgcdhS7O/7xev8Aqhqp68zsVeT7HmYWlVX9cco6z38cWY8XScaY+R7wUksOVU9Gd+bjlElOOAdO5ciYGMA/jQ/xvhVWdP5cNef7EW+hFyd8ScUIIIYQQ9Zdw9uBuZR+GCLepgybg3EPcbVGxASs+KADSeqLTXu4qLwntMfiF5Vh+Rw+kmBUbMO/qbhj4wBq0GzbNhOvdc1kL5N3YFwPuyw8RXGswc9hAPN/yEkx6KAeTRqWhMGcU/vFASLrVMzH0sufRctAkzH58EsacUIg5N/4DE5Z6Un2Xi4zTnX0hHbczTHDycLR7dxR69Z+KFVY0ummmbOwdTPP47ei9cQ4yzmIYYSoylznleCEbaU7StKz5WL5sEvq3CP7V7/6HnDsKuYE+yJ6Rg9l3pCM5dwjGUZhVQuq1zjGXzUe2OWg25jt5mNQ3eNDAhxPQtw9DVfsHjzljDHpsnIKBp0cW9rgtyUhp4n7t1N8R3thWeDus/mABCtAPF1w3xcnbcsy+lGsHYTbr59pUkyaIj/O3dh4yeg7073mzF6O9ULkceeSRZp0QQgghhKg/0Ab02oTEfu4W1LhwIwVYTfGRDDQMrtiO5JQUpKQ4CRwCb03BTYtaYvCMuRg/sIcJ1+t35TTMurcHCqaPxMxPTDKX9Wh11VzkXNPPTecIs4HOEZ9YjBVuCsPPrTA4NwfDTLhmPwyeNMaREgWY86ZNtQG5t47CkhPGY9aUwejHMMHTBmH8Q9lIXTMBM0xIZwB5s7KwpPlg5MzJDKZx9pX5r7nIbL4EWU/kI3kvpxzNk1lUJDdpiRTnd7LxNPrZfyEWPuDs38nZtNzxGHQa06RjzL/mY0wH7qMSGjvH3Kslks1Bk9GSeTBVWYDcO6didY/xmP/IMPeYzv4ezcHg/Zdg1Ph5VXr0KqfAEePOR4fWSHGEd4/zWwPz30F+udoqQN48p177/hVpLZg3mx9H9PF7Y5PIpbrz59T5wzeZOq9SvIVehN6LND4+HkOGDMERRxzhbhVCCCGEELs7tP1oA9IW9NqGXkJ/1x224tP3V4V4rULYKcItUhxjfeEcBFqlo39aUMxZWve9BOkUJG95ZVka+pzsiIdyktG2fRqwKaSkJ/RBz1bud5LcFkwWsMnWLsYCR2D2G9AHrb1hnW1Tzf/mfbzaSZyHBY8F0Pqi/kj1Zs0RMINm5mB27xaV16+f/ZeswLK5ASRf3B89vAInYQ+k7O1+j4Q1S5D7YZhjNk5F+sXtgZdeQ16k6i3gCLOJIzHuw2T0uKwP2jmr2juCsDXmYHGeW/q1eVjsHLf36WmuJ7Uqqjl/njqPK3MIrg0PN9ulpKQExcXFKCoqwtatW50THTCfXLie20tLS81SzW6FEEIIIUQdx3bYc0lISEBiYiIaNGhgluTkZPOZlJRk1nN7ZWKubrAVS+dcir5ffY3j28zA3EHHGM/QNuxU4caxYAMws8d4vDc7HTaKMDwco9YFoxAurbut2TQsn9wbgbkZ6HIjMP6d2Ujfz03iwLFwXW5sh7lfjUFqpftz1x8+F1+NSgWWjkOb9JnutjBc6aS7bDUyuo4C7n0PswdUUQrONhmabof2X1WdWMKkcY85OPcrjDneJKrAbFuIzBdex7Cj3XVe3DKEj9ZMQdooR6xe2d5tRyswtVtfTOg+G5/d0QOBl0ag4/AAJi2bhn5umCzH5Q2YPtg9J0GC56ma8+epy4jEG0UZBRrFmxVw9rtXvNn0QgghhBAidrFCzCveKNa4WOHGhduq8sTVFQL5D+PiFx/FW6XYXsDtdI+bKywC4/F6Dr002xMoLETAyVFKSmEVQqUAuQO7Y9Q+O0+89b4lB5cc7ibx0rI90lIW7LB4i27/O0G85TnbBlYv3jZkTMKYHp4j7tEK7Q9v7YZBVrD6sb7odV8qcpZlovDGjhhSMgnLp/Qr97zVmnizn1a8eT1wocJN4k0IIYQQYvfAK97CCTjrcfOKN/u/ukpYAVdLoZIrpnVH3/uO3sYbU07JCkzt2RcTOlGU9UD+2KOQ8Xom5r8xDO3dJIbAEmQdlYElN8zH60Pa+zP+/Yq3NXPQ94wstJq8HNP6VhLsV5KHcYcNRF7Wy5h/KQMGPWwqRGExxaejasKJtwj2P+eaufhspJU4JErx5h6z7ZTlmHTmtsc0Yiu7LaYtn4Te4bITrgxVYY41DqnT7gGGjMD6kHJGLd4857xa8UasGOPiFXBWxNnvocLNfgohhBBCiNjCK8SsgLNCzSvavMLNLnWdbQXcGFy+5UkMq40xbq4YWJORg5dvSdsmbDOwJAsdM3LRe8p7RmQE3nJ+X7IEg3JexhjPuLcCx6jvdeMaDH/+dQzr4NP49yvesBozz+iFcXBE4wJHNHrGiBXk5QEnpKF1QiEW3tgFQ94djvmLPWlKVmNOuvPfY3OwPMspW1jh42f/AeRld8TARYOQs2AM0uy4Nytu20Uo3lCAOed1R9Ye4/H6jPSKcW+b8jGu/wDMPGJb79g2RCre3GON+9rZ2y9puCdEpEct3jgG0q0T3+LNfnKxAs776RVu3vRCCCGEECL2sCLMK8q8Hjjvp91u08cCXgFnqKXJSYLiawmSTx6MMZf2ROvkAAremoFx0x3xcuYkzJ/czxUYGzDvim4YkdcO6aMz0f/gZGxY+TimjF9oxobNd8QWJV3NijenXpaOQ9/0mSg4fjCyr3Lzt2QKsmYXOkJyriMkHWHC6f77jELe0cNwz7Vdnf1tQP70WzEhPxXjFzj54KQogTxkdR6I3LRMTLs0Fa3ap6GdI2Qi2v8h6Rgzsj/aOaJo8cPjMGdlIQInVCXeXJHzdBoyJ1+B1NbtkXa4I4T5qoDzpmL9yZm4/cpUtAhwf1mYuTKtIr/hiFi8Oec3ZwC6j8035zJUFAa3OeW8Nxt92rZCaqfWKPR1/hz4qoDTR/gTb8QryLh4BZuEmxBCCCHE7odXkNnFijUr5Ox6my6WKBdwqB3hZilcOQ9THpyC3IWrUehIsBZH90D/q4Zj+Jntt315N1/SPesuTHh0IfLXBpC8XyrSr89G5jkV6WpavBG+0HrCRJu/FLTrnY7h1wxHv6M9UoQv2s7OwozyNFcgO2sY0jx5KHgpCyPHzkH+LynIfGY5hnUKrvezf76ke9xoR7B96NSQKfd49FzdCxmrqhJvDt8tRNZ1N5n/pYyci+XXuKJ0u2Nun9/tiEK8UXgO7DYKKeFCQzetwMzrMjBh0QYj7t5wxB38ijeyIS9y8Ub4vbLF4v0uhBBCCCFiD68YsyIt3GLxfo8VAvnzsah5X5xZS8JN7N4Ew13XbxcyWVP4Fm8knDgL/SQR7FIIIYQQQtRhwomz0E8Si8JNiJolgCVjOyLjl3sqH0e3g0Qk3ix+hJoEnBBCCCFEbFOZIJNoE8JLIVa/lY98d+ze4GfmI7NTyHsEaoioxJtFAk0IIYQQon4i0SaEJR9TOw/ABKRi0G0Tkd033Fv8aoYdEm9eJOSEEEIIIXZvJNiE2LXUmHgTQgghhBBCCLHziHc/hRBCCCGEEELUYSTehBBCCCGEEKLOA/x/1ebTa8b4ddEAAAAASUVORK5CYII=)"
      ],
      "metadata": {
        "id": "y5x2ufm-u41C"
      }
    },
    {
      "cell_type": "markdown",
      "metadata": {
        "id": "PPX4jUoaSeT_"
      },
      "source": [
        "## 2.1 LSTM + предобученные векторные представления слов"
      ]
    },
    {
      "cell_type": "code",
      "execution_count": null,
      "metadata": {
        "id": "4yp2JPs7WNkB"
      },
      "outputs": [],
      "source": [
        "from keras.preprocessing.sequence import pad_sequences\n",
        "from keras.models import Sequential\n",
        "from keras.layers import Activation, Dropout, Dense\n",
        "from keras.layers import Flatten, LSTM\n",
        "from keras.layers import GlobalMaxPooling1D\n",
        "from keras.layers import Embedding\n",
        "from keras.preprocessing.text import Tokenizer\n",
        "from keras import utils\n",
        "\n",
        "from numpy import asarray\n",
        "from numpy import zeros"
      ]
    },
    {
      "cell_type": "code",
      "execution_count": null,
      "metadata": {
        "id": "UzOMhiKiLVEe"
      },
      "outputs": [],
      "source": [
        "# Токенизация\n",
        "tokenizer = Tokenizer()\n",
        "tokenizer.fit_on_texts(X_train)\n",
        "\n",
        "X_train_prt = tokenizer.texts_to_sequences(X_train_pr)\n",
        "X_test_prt = tokenizer.texts_to_sequences(X_test_pr)"
      ]
    },
    {
      "cell_type": "code",
      "execution_count": null,
      "metadata": {
        "id": "wNhrTv9aLmai"
      },
      "outputs": [],
      "source": [
        "vocab_size = len(tokenizer.word_index) + 1"
      ]
    },
    {
      "cell_type": "code",
      "execution_count": null,
      "metadata": {
        "id": "x_BdUn4PLseJ"
      },
      "outputs": [],
      "source": [
        "# Выравним все отзывы до фиксировнной длины 300\n",
        "maxlen = 300\n",
        "\n",
        "X_train_prp = pad_sequences(X_train_prt, padding='post', maxlen=maxlen)\n",
        "X_test_prp = pad_sequences(X_test_prt, padding='post', maxlen=maxlen)"
      ]
    },
    {
      "cell_type": "code",
      "execution_count": null,
      "metadata": {
        "id": "rANbhd5WUlmq"
      },
      "outputs": [],
      "source": [
        "num_classes = 2\n",
        "y_train_k = utils.to_categorical(y_train, num_classes)\n",
        "y_test_k = utils.to_categorical(y_test, num_classes)"
      ]
    },
    {
      "cell_type": "markdown",
      "source": [
        "Скачиваем предобученные векторные представления слов GloVe"
      ],
      "metadata": {
        "id": "oobKtGDURISv"
      }
    },
    {
      "cell_type": "code",
      "execution_count": null,
      "metadata": {
        "id": "Jb79_H6LaFMs"
      },
      "outputs": [],
      "source": [
        "embeddings_dictionary = dict()\n",
        "glove_file = open('glove.6B.300d.txt', encoding=\"utf8\")\n",
        "\n",
        "for line in glove_file:\n",
        "    records = line.split()\n",
        "    word = records[0]\n",
        "    vector_dimensions = asarray(records[1:], dtype='float32')\n",
        "    embeddings_dictionary[word] = vector_dimensions\n",
        "glove_file.close()"
      ]
    },
    {
      "cell_type": "markdown",
      "source": [
        "Создаем матрицу, содержащую 300-мерные векторные представления слов GloVE для слов в нашем корпусе."
      ],
      "metadata": {
        "id": "NpSu8kjYRlR3"
      }
    },
    {
      "cell_type": "code",
      "execution_count": null,
      "metadata": {
        "id": "-j9QZrkDMFyu"
      },
      "outputs": [],
      "source": [
        "embedding_matrix = zeros((vocab_size, 300))\n",
        "for word, index in tokenizer.word_index.items():\n",
        "    embedding_vector = embeddings_dictionary.get(word)\n",
        "    if embedding_vector is not None:\n",
        "        embedding_matrix[index] = embedding_vector"
      ]
    },
    {
      "cell_type": "code",
      "execution_count": null,
      "metadata": {
        "colab": {
          "base_uri": "https://localhost:8080/"
        },
        "id": "C8YjGc68vkm_",
        "outputId": "7c8edde1-d1d2-4160-9ebc-a80c305e9e98"
      },
      "outputs": [
        {
          "output_type": "execute_result",
          "data": {
            "text/plain": [
              "(14403, 300)"
            ]
          },
          "metadata": {},
          "execution_count": 47
        }
      ],
      "source": [
        "embedding_matrix.shape"
      ]
    },
    {
      "cell_type": "code",
      "source": [
        "model = Sequential()\n",
        "embedding_layer = Embedding(vocab_size,  output_dim=300, weights=[embedding_matrix], input_length=maxlen, trainable=True)\n",
        "model.add(embedding_layer)\n",
        "\n",
        "model.add(LSTM(256, return_sequences = True, input_shape=(maxlen, 300)))\n",
        "model.add(LSTM(128))\n",
        "model.add(Dropout(rate = 0.2))\n",
        "model.add(Dense(128, activation='relu'))\n",
        "model.add(Dense(2, activation='sigmoid'))\n",
        "model.compile(loss='binary_crossentropy', optimizer='adam', metrics=['accuracy'])"
      ],
      "metadata": {
        "id": "irds3nxgSvWZ"
      },
      "execution_count": null,
      "outputs": []
    },
    {
      "cell_type": "markdown",
      "source": [
        "Обучим модель"
      ],
      "metadata": {
        "id": "a00WpyPJbBvt"
      }
    },
    {
      "cell_type": "code",
      "source": [
        "model.fit(X_train_prp, y_train_k, batch_size=128, epochs=1, verbose=1)"
      ],
      "metadata": {
        "colab": {
          "base_uri": "https://localhost:8080/"
        },
        "id": "2048nWahRdSk",
        "outputId": "96c81c64-6014-42a7-cf28-4e0efde77e4d"
      },
      "execution_count": null,
      "outputs": [
        {
          "output_type": "stream",
          "name": "stdout",
          "text": [
            "427/427 [==============================] - 2017s 5s/step - loss: 0.6871 - accuracy: 0.5576\n"
          ]
        },
        {
          "output_type": "execute_result",
          "data": {
            "text/plain": [
              "<keras.src.callbacks.History at 0x7db5354fbc70>"
            ]
          },
          "metadata": {},
          "execution_count": 65
        }
      ]
    },
    {
      "cell_type": "markdown",
      "source": [
        "Получим предсказания"
      ],
      "metadata": {
        "id": "5hZ0F86TbHSd"
      }
    },
    {
      "cell_type": "code",
      "source": [
        "predictions1 = model.predict(X_test_prp, batch_size = 32)\n",
        "pred1 = np.argmax(predictions1, axis=1)"
      ],
      "metadata": {
        "colab": {
          "base_uri": "https://localhost:8080/"
        },
        "id": "7HDiQB_KZTOu",
        "outputId": "13f3508c-868d-4772-ca38-909df6ed641c"
      },
      "execution_count": null,
      "outputs": [
        {
          "output_type": "stream",
          "name": "stdout",
          "text": [
            "427/427 [==============================] - 253s 587ms/step\n"
          ]
        }
      ]
    },
    {
      "cell_type": "code",
      "source": [
        "y_test_arg1 = np.argmax(y_test_k, axis=1)\n",
        "\n",
        "print(y_test_arg1.shape, pred1.shape)\n",
        "print(y_test_arg1[:5], pred1[:5])"
      ],
      "metadata": {
        "colab": {
          "base_uri": "https://localhost:8080/"
        },
        "id": "RuoZZ8nbZVvz",
        "outputId": "842f62fb-c168-4b3c-a468-37a15f83ec53"
      },
      "execution_count": null,
      "outputs": [
        {
          "output_type": "stream",
          "name": "stdout",
          "text": [
            "(13645,) (13645,)\n",
            "[0 0 1 1 0] [1 1 1 1 1]\n"
          ]
        }
      ]
    },
    {
      "cell_type": "code",
      "source": [
        "print(classification_report(y_test_arg1, pred1))"
      ],
      "metadata": {
        "colab": {
          "base_uri": "https://localhost:8080/"
        },
        "id": "jU0D7hedZX9m",
        "outputId": "8002f730-3b7a-4541-99f8-dbc56a331ce9"
      },
      "execution_count": null,
      "outputs": [
        {
          "output_type": "stream",
          "name": "stdout",
          "text": [
            "              precision    recall  f1-score   support\n",
            "\n",
            "           0       0.00      0.00      0.00      6059\n",
            "           1       0.56      1.00      0.71      7586\n",
            "\n",
            "    accuracy                           0.56     13645\n",
            "   macro avg       0.28      0.50      0.36     13645\n",
            "weighted avg       0.31      0.56      0.40     13645\n",
            "\n"
          ]
        },
        {
          "output_type": "stream",
          "name": "stderr",
          "text": [
            "/usr/local/lib/python3.10/dist-packages/sklearn/metrics/_classification.py:1344: UndefinedMetricWarning: Precision and F-score are ill-defined and being set to 0.0 in labels with no predicted samples. Use `zero_division` parameter to control this behavior.\n",
            "  _warn_prf(average, modifier, msg_start, len(result))\n",
            "/usr/local/lib/python3.10/dist-packages/sklearn/metrics/_classification.py:1344: UndefinedMetricWarning: Precision and F-score are ill-defined and being set to 0.0 in labels with no predicted samples. Use `zero_division` parameter to control this behavior.\n",
            "  _warn_prf(average, modifier, msg_start, len(result))\n",
            "/usr/local/lib/python3.10/dist-packages/sklearn/metrics/_classification.py:1344: UndefinedMetricWarning: Precision and F-score are ill-defined and being set to 0.0 in labels with no predicted samples. Use `zero_division` parameter to control this behavior.\n",
            "  _warn_prf(average, modifier, msg_start, len(result))\n"
          ]
        }
      ]
    },
    {
      "cell_type": "markdown",
      "source": [
        "## 2.2 Усложнение. Имплементация двунаправленного LSTM в качестве классификатора"
      ],
      "metadata": {
        "id": "oXlm7yCKTwKM"
      }
    },
    {
      "cell_type": "code",
      "execution_count": null,
      "metadata": {
        "id": "WvT7PdoVvuOL"
      },
      "outputs": [],
      "source": [
        "from tensorflow import keras\n",
        "from keras.models import Model, load_model\n",
        "from keras.layers import Dense, Input, Dropout, LSTM, Activation, Bidirectional\n",
        "from keras.layers import Embedding\n",
        "from keras.preprocessing import sequence\n",
        "from keras.initializers import glorot_uniform\n",
        "from keras.preprocessing.text import Tokenizer\n",
        "from keras.callbacks import ModelCheckpoint, EarlyStopping\n",
        "from keras.regularizers import l1, l2\n",
        "from keras.optimizers import Adam\n",
        "\n",
        "import string\n",
        "import nltk\n",
        "import re"
      ]
    },
    {
      "cell_type": "code",
      "execution_count": null,
      "metadata": {
        "id": "vwENME_6WrN9"
      },
      "outputs": [],
      "source": [
        "def build_model():\n",
        "    sentence_indices = Input(shape=(maxlen,), dtype='int32')\n",
        "\n",
        "    embeddings = Embedding(input_dim=vocab_size, output_dim=300, weights=[embedding_matrix])(sentence_indices)\n",
        "\n",
        "    X = Bidirectional(LSTM(units = 256))(embeddings)\n",
        "    X = Dropout(rate = 0.2)(X)\n",
        "    X = Bidirectional(LSTM(units = 128))(X)\n",
        "    X = Dropout(rate = 0.2)(X)\n",
        "    X = Dense(128, activation='relu')(X)\n",
        "    X = Dense(2, activation='sigmoid')(X)\n",
        "\n",
        "    model = Model(inputs=sentence_indices, outputs=X)\n",
        "    return model"
      ]
    },
    {
      "cell_type": "code",
      "execution_count": null,
      "metadata": {
        "colab": {
          "base_uri": "https://localhost:8080/"
        },
        "id": "asA_rGvXW9Ml",
        "outputId": "80202082-549b-4c71-8d17-da3ccae32119"
      },
      "outputs": [
        {
          "output_type": "stream",
          "name": "stdout",
          "text": [
            "Model: \"model_1\"\n",
            "_________________________________________________________________\n",
            " Layer (type)                Output Shape              Param #   \n",
            "=================================================================\n",
            " input_2 (InputLayer)        [(None, 300)]             0         \n",
            "                                                                 \n",
            " embedding_4 (Embedding)     (None, 300, 300)          4320900   \n",
            "                                                                 \n",
            " bidirectional_2 (Bidirecti  (None, 300, 512)          1140736   \n",
            " onal)                                                           \n",
            "                                                                 \n",
            " dropout_5 (Dropout)         (None, 300, 512)          0         \n",
            "                                                                 \n",
            " bidirectional_3 (Bidirecti  (None, 256)               656384    \n",
            " onal)                                                           \n",
            "                                                                 \n",
            " dropout_6 (Dropout)         (None, 256)               0         \n",
            "                                                                 \n",
            " dense_8 (Dense)             (None, 128)               32896     \n",
            "                                                                 \n",
            " dense_9 (Dense)             (None, 2)                 258       \n",
            "                                                                 \n",
            "=================================================================\n",
            "Total params: 6151174 (23.46 MB)\n",
            "Trainable params: 6151174 (23.46 MB)\n",
            "Non-trainable params: 0 (0.00 Byte)\n",
            "_________________________________________________________________\n"
          ]
        }
      ],
      "source": [
        "model2 = build_model()\n",
        "model2.summary()"
      ]
    },
    {
      "cell_type": "code",
      "execution_count": null,
      "metadata": {
        "id": "HQKaXca7XMva"
      },
      "outputs": [],
      "source": [
        "adam = Adam(beta_1=0.9,beta_2=0.999,amsgrad=False)\n",
        "\n",
        "model2.compile(loss='categorical_crossentropy',optimizer=adam,metrics=['accuracy'])"
      ]
    },
    {
      "cell_type": "markdown",
      "source": [
        "Обучим двунаправленный LSTM"
      ],
      "metadata": {
        "id": "om38I9TYbt9-"
      }
    },
    {
      "cell_type": "code",
      "execution_count": null,
      "metadata": {
        "colab": {
          "base_uri": "https://localhost:8080/"
        },
        "id": "2AgTW0V5YN11",
        "outputId": "08314997-752f-4158-970b-c3e5d4a2c47f"
      },
      "outputs": [
        {
          "output_type": "stream",
          "name": "stdout",
          "text": [
            "427/427 [==============================] - 4608s 11s/step - loss: 0.3322 - accuracy: 0.8578\n"
          ]
        }
      ],
      "source": [
        "history2 = model2.fit(X_train_prp, y_train_k, batch_size=128, epochs=1)"
      ]
    },
    {
      "cell_type": "markdown",
      "source": [
        "Получим предсказания"
      ],
      "metadata": {
        "id": "kY7VgUVubxVn"
      }
    },
    {
      "cell_type": "code",
      "source": [
        "predictions = model2.predict(X_test_prp, batch_size = 32)\n",
        "pred = np.argmax(predictions, axis=1)"
      ],
      "metadata": {
        "colab": {
          "base_uri": "https://localhost:8080/"
        },
        "id": "2ceaGl4_tvQS",
        "outputId": "1299f71b-5d0c-4d9e-f9a6-736097f87aab"
      },
      "execution_count": null,
      "outputs": [
        {
          "output_type": "stream",
          "name": "stdout",
          "text": [
            "427/427 [==============================] - 480s 1s/step\n"
          ]
        }
      ]
    },
    {
      "cell_type": "code",
      "source": [
        "y_test_arg = np.argmax(y_test_k, axis=1)\n",
        "\n",
        "print(y_test_arg.shape, pred.shape)\n",
        "print(y_test_arg[:5], pred[:5])"
      ],
      "metadata": {
        "colab": {
          "base_uri": "https://localhost:8080/"
        },
        "id": "IdJ6fMEyEAoT",
        "outputId": "7d7440e8-2f49-4e9c-e449-12e1ae0e2cae"
      },
      "execution_count": null,
      "outputs": [
        {
          "output_type": "stream",
          "name": "stdout",
          "text": [
            "(13645,) (13645,)\n",
            "[0 0 1 1 0] [0 0 1 1 0]\n"
          ]
        }
      ]
    },
    {
      "cell_type": "code",
      "source": [
        "print(classification_report(y_test_arg, pred))"
      ],
      "metadata": {
        "colab": {
          "base_uri": "https://localhost:8080/"
        },
        "id": "1GlGvelWECbF",
        "outputId": "ae1b1468-1026-4ca7-806b-c0e8a9284db6"
      },
      "execution_count": null,
      "outputs": [
        {
          "output_type": "stream",
          "name": "stdout",
          "text": [
            "              precision    recall  f1-score   support\n",
            "\n",
            "           0       0.90      0.86      0.88      6059\n",
            "           1       0.89      0.92      0.91      7586\n",
            "\n",
            "    accuracy                           0.89     13645\n",
            "   macro avg       0.89      0.89      0.89     13645\n",
            "weighted avg       0.89      0.89      0.89     13645\n",
            "\n"
          ]
        }
      ]
    },
    {
      "cell_type": "markdown",
      "source": [
        "Двунаправленный LSTM дал результат лучше, чем стандартный LSTM"
      ],
      "metadata": {
        "id": "IcjBUIS9b01N"
      }
    },
    {
      "cell_type": "markdown",
      "source": [
        "## 3.1 BERT-based модель + линейный слой"
      ],
      "metadata": {
        "id": "hZSQ9JzbWd7z"
      }
    },
    {
      "cell_type": "code",
      "source": [
        "from transformers import AutoTokenizer\n",
        "tokenizer = AutoTokenizer.from_pretrained(\"distilbert-base-uncased\")"
      ],
      "metadata": {
        "id": "Fi6oBdrAWf94",
        "colab": {
          "base_uri": "https://localhost:8080/",
          "height": 145,
          "referenced_widgets": [
            "fc9380d25a62429ea9637ec9d9b9746e",
            "b290c4ffc1c2483b848a08018cd1277f",
            "1f190031d9a94dcca8e141daa3df3abd",
            "c74487c085e844edad411416f4415cdd",
            "56bedde3b5514504a5ea8f8eec21c4e5",
            "52f8066abf9d4fe4a4eec39807e9990f",
            "93780d470e3f4c698ee0171338179262",
            "6054caab0a9b43039605f5869925df59",
            "696a996b91a64938b81e965913d4971a",
            "f154bf4ec1874decb34b163fb946e349",
            "01b25070a8e14404a584a85180ef8339",
            "0287a2fceb22423cadebc34be1286975",
            "634a88001012479780010d43ee9492c1",
            "8335e179044640c8b66e02f1db1649e5",
            "79b06f165c314339b037e789b4caa019",
            "9f04e8dbdc6c45abb63789c77af4d1e8",
            "27a83e44e5c34b75be0c9acc5de01a56",
            "f4d9e397300e497f90576b0cd86985d8",
            "713059b77ba047e7a26fd47f76c4d7da",
            "c4b321e2e262416cb433e3feae3cd3a4",
            "ad2530fd59d14479b27e86086c6e255b",
            "fcf27b188a984676b843470f79ab43d7",
            "11e5ea3c6048400c9c1d95cd8d249ccb",
            "e29dcc21439946cb919218e37f6e2924",
            "772ee6c436954425a6be355d3f036b6a",
            "bb6a54935d9d46d88920273e08aaefdb",
            "ff52478ab98448ce8194773ecec8105a",
            "d63f2f40e1814d3e982578afbb9f4587",
            "417e24ff60d24f79a9a10067b7e7c4aa",
            "ffc7036898394ef9ae1b56a942306914",
            "a8ad78825f034f8ba0fa2171b616b28f",
            "ecc365793fad4aee910770974672f455",
            "2abb41ee62674bde8f06391a48d27f81",
            "3a55b8933027451ea0e5c79779579355",
            "a663de78f1784f848b922f39dd067a52",
            "4a759a212e664ca98f832271edc5bb58",
            "c1c92e60e90e45788ad68dfe911d3e65",
            "3f36d1e4b8a741a696ae3b197e81a9a3",
            "a60363966ac34d35bab354428f655bab",
            "e52764f342134f24ac2dcaf71e90da1a",
            "768e13a886634060a1023e69ebfc27ae",
            "13e561678867419b846bb3535c924f4f",
            "e47fdec67dcb4899ae5cb0644c30249c",
            "06e1e47c71c4425080114383c15f364f"
          ]
        },
        "outputId": "4abb21ff-ac48-4538-94ac-57c352d0354b"
      },
      "execution_count": null,
      "outputs": [
        {
          "output_type": "display_data",
          "data": {
            "text/plain": [
              "tokenizer_config.json:   0%|          | 0.00/28.0 [00:00<?, ?B/s]"
            ],
            "application/vnd.jupyter.widget-view+json": {
              "version_major": 2,
              "version_minor": 0,
              "model_id": "fc9380d25a62429ea9637ec9d9b9746e"
            }
          },
          "metadata": {}
        },
        {
          "output_type": "display_data",
          "data": {
            "text/plain": [
              "config.json:   0%|          | 0.00/483 [00:00<?, ?B/s]"
            ],
            "application/vnd.jupyter.widget-view+json": {
              "version_major": 2,
              "version_minor": 0,
              "model_id": "0287a2fceb22423cadebc34be1286975"
            }
          },
          "metadata": {}
        },
        {
          "output_type": "display_data",
          "data": {
            "text/plain": [
              "vocab.txt:   0%|          | 0.00/232k [00:00<?, ?B/s]"
            ],
            "application/vnd.jupyter.widget-view+json": {
              "version_major": 2,
              "version_minor": 0,
              "model_id": "11e5ea3c6048400c9c1d95cd8d249ccb"
            }
          },
          "metadata": {}
        },
        {
          "output_type": "display_data",
          "data": {
            "text/plain": [
              "tokenizer.json:   0%|          | 0.00/466k [00:00<?, ?B/s]"
            ],
            "application/vnd.jupyter.widget-view+json": {
              "version_major": 2,
              "version_minor": 0,
              "model_id": "3a55b8933027451ea0e5c79779579355"
            }
          },
          "metadata": {}
        }
      ]
    },
    {
      "cell_type": "code",
      "source": [
        "tokenized_train_bert = tokenizer(X_train, truncation=True)"
      ],
      "metadata": {
        "id": "Zu-vgDSlYxJI"
      },
      "execution_count": null,
      "outputs": []
    },
    {
      "cell_type": "code",
      "source": [
        "tokenized_train_bert['label'] = y_train.copy()"
      ],
      "metadata": {
        "id": "z5GDV5zDdKKe"
      },
      "execution_count": null,
      "outputs": []
    },
    {
      "cell_type": "code",
      "source": [
        "train_tokenized_dataset = Dataset.from_dict(tokenized_train_bert)"
      ],
      "metadata": {
        "id": "_ow5F4xpdDmW"
      },
      "execution_count": null,
      "outputs": []
    },
    {
      "cell_type": "code",
      "source": [
        "train_tokenized_dataset"
      ],
      "metadata": {
        "colab": {
          "base_uri": "https://localhost:8080/"
        },
        "id": "1GzleBaLdIIe",
        "outputId": "f7d60034-6307-40ab-eb28-4cf73d2be2a3"
      },
      "execution_count": null,
      "outputs": [
        {
          "output_type": "execute_result",
          "data": {
            "text/plain": [
              "Dataset({\n",
              "    features: ['input_ids', 'attention_mask', 'label'],\n",
              "    num_rows: 54576\n",
              "})"
            ]
          },
          "metadata": {},
          "execution_count": 37
        }
      ]
    },
    {
      "cell_type": "code",
      "source": [
        "from transformers import DataCollatorWithPadding\n",
        "data_collator = DataCollatorWithPadding(tokenizer=tokenizer)"
      ],
      "metadata": {
        "id": "k_Tv4W2mZWqL"
      },
      "execution_count": null,
      "outputs": []
    },
    {
      "cell_type": "code",
      "source": [
        "tf_train_dataset = train_tokenized_dataset.to_tf_dataset(\n",
        "    columns=[\"attention_mask\", \"input_ids\", \"label\"],\n",
        "    shuffle=True,\n",
        "    batch_size=16,\n",
        "    collate_fn=data_collator,\n",
        ")"
      ],
      "metadata": {
        "id": "kLv2BIrlZuj-"
      },
      "execution_count": null,
      "outputs": []
    },
    {
      "cell_type": "code",
      "source": [
        "from transformers import create_optimizer\n",
        "import tensorflow as tf\n",
        "\n",
        "batch_size = 16\n",
        "num_epochs = 5\n",
        "batches_per_epoch = len(train_tokenized_dataset) // batch_size\n",
        "total_train_steps = int(batches_per_epoch * num_epochs)\n",
        "optimizer, schedule = create_optimizer(init_lr=2e-5, num_warmup_steps=0, num_train_steps=total_train_steps)"
      ],
      "metadata": {
        "id": "QNSdYiIZeTIe"
      },
      "execution_count": null,
      "outputs": []
    },
    {
      "cell_type": "markdown",
      "source": [
        "Используем BERT-based модель с линейным слоем для классификации последовательностей текста."
      ],
      "metadata": {
        "id": "sd9tQm6BvYU8"
      }
    },
    {
      "cell_type": "code",
      "source": [
        "from transformers import TFAutoModelForSequenceClassification\n",
        "\n",
        "model = TFAutoModelForSequenceClassification.from_pretrained(\"distilbert-base-uncased\", num_labels=2)"
      ],
      "metadata": {
        "colab": {
          "base_uri": "https://localhost:8080/",
          "height": 156,
          "referenced_widgets": [
            "525d4acbaded4dfea6708afb04240ead",
            "caed816f58e84bc480a6d7c6e45dde90",
            "e056e3781ded4763b562f03ba6e2f606",
            "d2e28f4aa33347ffa27d73bb2166d3aa",
            "999022ee4041419aad5934175d2de042",
            "1248bc67b2d5496f910ab41132aba8be",
            "b0a6b4fa007d45e1bf3faebd531ff738",
            "a66bd022af6f4a54ba699d2990e759b6",
            "db7555fedb674b83bf311482106d0c3b",
            "943b6eeadbe94a59b895856cf694e425",
            "f3ef6d032ed04107a6787b4116d07c05"
          ]
        },
        "id": "cTRbrgVcZkoW",
        "outputId": "16b6402c-296b-4be3-b802-fb717af62359"
      },
      "execution_count": null,
      "outputs": [
        {
          "output_type": "display_data",
          "data": {
            "text/plain": [
              "model.safetensors:   0%|          | 0.00/268M [00:00<?, ?B/s]"
            ],
            "application/vnd.jupyter.widget-view+json": {
              "version_major": 2,
              "version_minor": 0,
              "model_id": "525d4acbaded4dfea6708afb04240ead"
            }
          },
          "metadata": {}
        },
        {
          "output_type": "stream",
          "name": "stderr",
          "text": [
            "Some weights of the PyTorch model were not used when initializing the TF 2.0 model TFDistilBertForSequenceClassification: ['vocab_transform.bias', 'vocab_transform.weight', 'vocab_layer_norm.bias', 'vocab_projector.bias', 'vocab_layer_norm.weight']\n",
            "- This IS expected if you are initializing TFDistilBertForSequenceClassification from a PyTorch model trained on another task or with another architecture (e.g. initializing a TFBertForSequenceClassification model from a BertForPreTraining model).\n",
            "- This IS NOT expected if you are initializing TFDistilBertForSequenceClassification from a PyTorch model that you expect to be exactly identical (e.g. initializing a TFBertForSequenceClassification model from a BertForSequenceClassification model).\n",
            "Some weights or buffers of the TF 2.0 model TFDistilBertForSequenceClassification were not initialized from the PyTorch model and are newly initialized: ['pre_classifier.weight', 'pre_classifier.bias', 'classifier.weight', 'classifier.bias']\n",
            "You should probably TRAIN this model on a down-stream task to be able to use it for predictions and inference.\n"
          ]
        }
      ]
    },
    {
      "cell_type": "code",
      "source": [
        "model.compile(optimizer=optimizer,metrics=['accuracy'])"
      ],
      "metadata": {
        "id": "73gPd77SaLsc"
      },
      "execution_count": null,
      "outputs": []
    },
    {
      "cell_type": "markdown",
      "source": [
        "Обучим BERT"
      ],
      "metadata": {
        "id": "R4nUaWPEdK5N"
      }
    },
    {
      "cell_type": "code",
      "source": [
        "model.fit(x=tf_train_dataset, epochs=1)"
      ],
      "metadata": {
        "colab": {
          "base_uri": "https://localhost:8080/"
        },
        "id": "8O53HmaYeomm",
        "outputId": "7224fb0a-1014-4c1f-cb9d-c6178526df02"
      },
      "execution_count": null,
      "outputs": [
        {
          "output_type": "stream",
          "name": "stdout",
          "text": [
            "3411/3411 [==============================] - 15526s 5s/step - loss: 0.2209 - accuracy: 0.9131\n"
          ]
        },
        {
          "output_type": "execute_result",
          "data": {
            "text/plain": [
              "<keras.src.callbacks.History at 0x7b318983caf0>"
            ]
          },
          "metadata": {},
          "execution_count": 45
        }
      ]
    },
    {
      "cell_type": "code",
      "source": [
        "x_test_tokenized_bert = [tokenizer.encode(x, truncation=True,padding=True,return_tensors=\"tf\") for x in X_test]"
      ],
      "metadata": {
        "id": "ae4HgLNXhDDe"
      },
      "execution_count": null,
      "outputs": []
    },
    {
      "cell_type": "code",
      "source": [
        "def get_prediction_label(input):\n",
        "  prediction = model(input)\n",
        "  prediction_logits = prediction[0]\n",
        "  prediction_probs = tf.nn.softmax(prediction_logits,axis=1).numpy()\n",
        "  return np.argmax(prediction_probs, axis=1)[0]"
      ],
      "metadata": {
        "id": "Wqu2fqIth0rJ"
      },
      "execution_count": null,
      "outputs": []
    },
    {
      "cell_type": "code",
      "source": [
        "preds_bert = [get_prediction_label(x) for x in x_test_tokenized_bert]"
      ],
      "metadata": {
        "id": "Q0QGtJ9xiKeR"
      },
      "execution_count": null,
      "outputs": []
    },
    {
      "cell_type": "code",
      "source": [
        "from sklearn.metrics import classification_report"
      ],
      "metadata": {
        "id": "QyCO5gfRurzr"
      },
      "execution_count": null,
      "outputs": []
    },
    {
      "cell_type": "code",
      "source": [
        "print(classification_report(y_test, preds_bert))"
      ],
      "metadata": {
        "colab": {
          "base_uri": "https://localhost:8080/"
        },
        "id": "ej1po4d-iRg8",
        "outputId": "2077bd74-4241-4450-d602-041b6345459a"
      },
      "execution_count": null,
      "outputs": [
        {
          "output_type": "stream",
          "name": "stdout",
          "text": [
            "              precision    recall  f1-score   support\n",
            "\n",
            "           0       0.94      0.92      0.93      6059\n",
            "           1       0.94      0.96      0.95      7586\n",
            "\n",
            "    accuracy                           0.94     13645\n",
            "   macro avg       0.94      0.94      0.94     13645\n",
            "weighted avg       0.94      0.94      0.94     13645\n",
            "\n"
          ]
        }
      ]
    },
    {
      "cell_type": "markdown",
      "source": [
        "Лучшие результаты у классификатора - BERT"
      ],
      "metadata": {
        "id": "M-IB7DqKxAUM"
      }
    }
  ],
  "metadata": {
    "colab": {
      "collapsed_sections": [
        "6sBvrPtwpQ7B"
      ],
      "provenance": []
    },
    "kernelspec": {
      "display_name": "Python 3",
      "name": "python3"
    },
    "language_info": {
      "name": "python"
    },
    "widgets": {
      "application/vnd.jupyter.widget-state+json": {
        "fc9380d25a62429ea9637ec9d9b9746e": {
          "model_module": "@jupyter-widgets/controls",
          "model_name": "HBoxModel",
          "model_module_version": "1.5.0",
          "state": {
            "_dom_classes": [],
            "_model_module": "@jupyter-widgets/controls",
            "_model_module_version": "1.5.0",
            "_model_name": "HBoxModel",
            "_view_count": null,
            "_view_module": "@jupyter-widgets/controls",
            "_view_module_version": "1.5.0",
            "_view_name": "HBoxView",
            "box_style": "",
            "children": [
              "IPY_MODEL_b290c4ffc1c2483b848a08018cd1277f",
              "IPY_MODEL_1f190031d9a94dcca8e141daa3df3abd",
              "IPY_MODEL_c74487c085e844edad411416f4415cdd"
            ],
            "layout": "IPY_MODEL_56bedde3b5514504a5ea8f8eec21c4e5"
          }
        },
        "b290c4ffc1c2483b848a08018cd1277f": {
          "model_module": "@jupyter-widgets/controls",
          "model_name": "HTMLModel",
          "model_module_version": "1.5.0",
          "state": {
            "_dom_classes": [],
            "_model_module": "@jupyter-widgets/controls",
            "_model_module_version": "1.5.0",
            "_model_name": "HTMLModel",
            "_view_count": null,
            "_view_module": "@jupyter-widgets/controls",
            "_view_module_version": "1.5.0",
            "_view_name": "HTMLView",
            "description": "",
            "description_tooltip": null,
            "layout": "IPY_MODEL_52f8066abf9d4fe4a4eec39807e9990f",
            "placeholder": "​",
            "style": "IPY_MODEL_93780d470e3f4c698ee0171338179262",
            "value": "tokenizer_config.json: 100%"
          }
        },
        "1f190031d9a94dcca8e141daa3df3abd": {
          "model_module": "@jupyter-widgets/controls",
          "model_name": "FloatProgressModel",
          "model_module_version": "1.5.0",
          "state": {
            "_dom_classes": [],
            "_model_module": "@jupyter-widgets/controls",
            "_model_module_version": "1.5.0",
            "_model_name": "FloatProgressModel",
            "_view_count": null,
            "_view_module": "@jupyter-widgets/controls",
            "_view_module_version": "1.5.0",
            "_view_name": "ProgressView",
            "bar_style": "success",
            "description": "",
            "description_tooltip": null,
            "layout": "IPY_MODEL_6054caab0a9b43039605f5869925df59",
            "max": 28,
            "min": 0,
            "orientation": "horizontal",
            "style": "IPY_MODEL_696a996b91a64938b81e965913d4971a",
            "value": 28
          }
        },
        "c74487c085e844edad411416f4415cdd": {
          "model_module": "@jupyter-widgets/controls",
          "model_name": "HTMLModel",
          "model_module_version": "1.5.0",
          "state": {
            "_dom_classes": [],
            "_model_module": "@jupyter-widgets/controls",
            "_model_module_version": "1.5.0",
            "_model_name": "HTMLModel",
            "_view_count": null,
            "_view_module": "@jupyter-widgets/controls",
            "_view_module_version": "1.5.0",
            "_view_name": "HTMLView",
            "description": "",
            "description_tooltip": null,
            "layout": "IPY_MODEL_f154bf4ec1874decb34b163fb946e349",
            "placeholder": "​",
            "style": "IPY_MODEL_01b25070a8e14404a584a85180ef8339",
            "value": " 28.0/28.0 [00:00&lt;00:00, 377B/s]"
          }
        },
        "56bedde3b5514504a5ea8f8eec21c4e5": {
          "model_module": "@jupyter-widgets/base",
          "model_name": "LayoutModel",
          "model_module_version": "1.2.0",
          "state": {
            "_model_module": "@jupyter-widgets/base",
            "_model_module_version": "1.2.0",
            "_model_name": "LayoutModel",
            "_view_count": null,
            "_view_module": "@jupyter-widgets/base",
            "_view_module_version": "1.2.0",
            "_view_name": "LayoutView",
            "align_content": null,
            "align_items": null,
            "align_self": null,
            "border": null,
            "bottom": null,
            "display": null,
            "flex": null,
            "flex_flow": null,
            "grid_area": null,
            "grid_auto_columns": null,
            "grid_auto_flow": null,
            "grid_auto_rows": null,
            "grid_column": null,
            "grid_gap": null,
            "grid_row": null,
            "grid_template_areas": null,
            "grid_template_columns": null,
            "grid_template_rows": null,
            "height": null,
            "justify_content": null,
            "justify_items": null,
            "left": null,
            "margin": null,
            "max_height": null,
            "max_width": null,
            "min_height": null,
            "min_width": null,
            "object_fit": null,
            "object_position": null,
            "order": null,
            "overflow": null,
            "overflow_x": null,
            "overflow_y": null,
            "padding": null,
            "right": null,
            "top": null,
            "visibility": null,
            "width": null
          }
        },
        "52f8066abf9d4fe4a4eec39807e9990f": {
          "model_module": "@jupyter-widgets/base",
          "model_name": "LayoutModel",
          "model_module_version": "1.2.0",
          "state": {
            "_model_module": "@jupyter-widgets/base",
            "_model_module_version": "1.2.0",
            "_model_name": "LayoutModel",
            "_view_count": null,
            "_view_module": "@jupyter-widgets/base",
            "_view_module_version": "1.2.0",
            "_view_name": "LayoutView",
            "align_content": null,
            "align_items": null,
            "align_self": null,
            "border": null,
            "bottom": null,
            "display": null,
            "flex": null,
            "flex_flow": null,
            "grid_area": null,
            "grid_auto_columns": null,
            "grid_auto_flow": null,
            "grid_auto_rows": null,
            "grid_column": null,
            "grid_gap": null,
            "grid_row": null,
            "grid_template_areas": null,
            "grid_template_columns": null,
            "grid_template_rows": null,
            "height": null,
            "justify_content": null,
            "justify_items": null,
            "left": null,
            "margin": null,
            "max_height": null,
            "max_width": null,
            "min_height": null,
            "min_width": null,
            "object_fit": null,
            "object_position": null,
            "order": null,
            "overflow": null,
            "overflow_x": null,
            "overflow_y": null,
            "padding": null,
            "right": null,
            "top": null,
            "visibility": null,
            "width": null
          }
        },
        "93780d470e3f4c698ee0171338179262": {
          "model_module": "@jupyter-widgets/controls",
          "model_name": "DescriptionStyleModel",
          "model_module_version": "1.5.0",
          "state": {
            "_model_module": "@jupyter-widgets/controls",
            "_model_module_version": "1.5.0",
            "_model_name": "DescriptionStyleModel",
            "_view_count": null,
            "_view_module": "@jupyter-widgets/base",
            "_view_module_version": "1.2.0",
            "_view_name": "StyleView",
            "description_width": ""
          }
        },
        "6054caab0a9b43039605f5869925df59": {
          "model_module": "@jupyter-widgets/base",
          "model_name": "LayoutModel",
          "model_module_version": "1.2.0",
          "state": {
            "_model_module": "@jupyter-widgets/base",
            "_model_module_version": "1.2.0",
            "_model_name": "LayoutModel",
            "_view_count": null,
            "_view_module": "@jupyter-widgets/base",
            "_view_module_version": "1.2.0",
            "_view_name": "LayoutView",
            "align_content": null,
            "align_items": null,
            "align_self": null,
            "border": null,
            "bottom": null,
            "display": null,
            "flex": null,
            "flex_flow": null,
            "grid_area": null,
            "grid_auto_columns": null,
            "grid_auto_flow": null,
            "grid_auto_rows": null,
            "grid_column": null,
            "grid_gap": null,
            "grid_row": null,
            "grid_template_areas": null,
            "grid_template_columns": null,
            "grid_template_rows": null,
            "height": null,
            "justify_content": null,
            "justify_items": null,
            "left": null,
            "margin": null,
            "max_height": null,
            "max_width": null,
            "min_height": null,
            "min_width": null,
            "object_fit": null,
            "object_position": null,
            "order": null,
            "overflow": null,
            "overflow_x": null,
            "overflow_y": null,
            "padding": null,
            "right": null,
            "top": null,
            "visibility": null,
            "width": null
          }
        },
        "696a996b91a64938b81e965913d4971a": {
          "model_module": "@jupyter-widgets/controls",
          "model_name": "ProgressStyleModel",
          "model_module_version": "1.5.0",
          "state": {
            "_model_module": "@jupyter-widgets/controls",
            "_model_module_version": "1.5.0",
            "_model_name": "ProgressStyleModel",
            "_view_count": null,
            "_view_module": "@jupyter-widgets/base",
            "_view_module_version": "1.2.0",
            "_view_name": "StyleView",
            "bar_color": null,
            "description_width": ""
          }
        },
        "f154bf4ec1874decb34b163fb946e349": {
          "model_module": "@jupyter-widgets/base",
          "model_name": "LayoutModel",
          "model_module_version": "1.2.0",
          "state": {
            "_model_module": "@jupyter-widgets/base",
            "_model_module_version": "1.2.0",
            "_model_name": "LayoutModel",
            "_view_count": null,
            "_view_module": "@jupyter-widgets/base",
            "_view_module_version": "1.2.0",
            "_view_name": "LayoutView",
            "align_content": null,
            "align_items": null,
            "align_self": null,
            "border": null,
            "bottom": null,
            "display": null,
            "flex": null,
            "flex_flow": null,
            "grid_area": null,
            "grid_auto_columns": null,
            "grid_auto_flow": null,
            "grid_auto_rows": null,
            "grid_column": null,
            "grid_gap": null,
            "grid_row": null,
            "grid_template_areas": null,
            "grid_template_columns": null,
            "grid_template_rows": null,
            "height": null,
            "justify_content": null,
            "justify_items": null,
            "left": null,
            "margin": null,
            "max_height": null,
            "max_width": null,
            "min_height": null,
            "min_width": null,
            "object_fit": null,
            "object_position": null,
            "order": null,
            "overflow": null,
            "overflow_x": null,
            "overflow_y": null,
            "padding": null,
            "right": null,
            "top": null,
            "visibility": null,
            "width": null
          }
        },
        "01b25070a8e14404a584a85180ef8339": {
          "model_module": "@jupyter-widgets/controls",
          "model_name": "DescriptionStyleModel",
          "model_module_version": "1.5.0",
          "state": {
            "_model_module": "@jupyter-widgets/controls",
            "_model_module_version": "1.5.0",
            "_model_name": "DescriptionStyleModel",
            "_view_count": null,
            "_view_module": "@jupyter-widgets/base",
            "_view_module_version": "1.2.0",
            "_view_name": "StyleView",
            "description_width": ""
          }
        },
        "0287a2fceb22423cadebc34be1286975": {
          "model_module": "@jupyter-widgets/controls",
          "model_name": "HBoxModel",
          "model_module_version": "1.5.0",
          "state": {
            "_dom_classes": [],
            "_model_module": "@jupyter-widgets/controls",
            "_model_module_version": "1.5.0",
            "_model_name": "HBoxModel",
            "_view_count": null,
            "_view_module": "@jupyter-widgets/controls",
            "_view_module_version": "1.5.0",
            "_view_name": "HBoxView",
            "box_style": "",
            "children": [
              "IPY_MODEL_634a88001012479780010d43ee9492c1",
              "IPY_MODEL_8335e179044640c8b66e02f1db1649e5",
              "IPY_MODEL_79b06f165c314339b037e789b4caa019"
            ],
            "layout": "IPY_MODEL_9f04e8dbdc6c45abb63789c77af4d1e8"
          }
        },
        "634a88001012479780010d43ee9492c1": {
          "model_module": "@jupyter-widgets/controls",
          "model_name": "HTMLModel",
          "model_module_version": "1.5.0",
          "state": {
            "_dom_classes": [],
            "_model_module": "@jupyter-widgets/controls",
            "_model_module_version": "1.5.0",
            "_model_name": "HTMLModel",
            "_view_count": null,
            "_view_module": "@jupyter-widgets/controls",
            "_view_module_version": "1.5.0",
            "_view_name": "HTMLView",
            "description": "",
            "description_tooltip": null,
            "layout": "IPY_MODEL_27a83e44e5c34b75be0c9acc5de01a56",
            "placeholder": "​",
            "style": "IPY_MODEL_f4d9e397300e497f90576b0cd86985d8",
            "value": "config.json: 100%"
          }
        },
        "8335e179044640c8b66e02f1db1649e5": {
          "model_module": "@jupyter-widgets/controls",
          "model_name": "FloatProgressModel",
          "model_module_version": "1.5.0",
          "state": {
            "_dom_classes": [],
            "_model_module": "@jupyter-widgets/controls",
            "_model_module_version": "1.5.0",
            "_model_name": "FloatProgressModel",
            "_view_count": null,
            "_view_module": "@jupyter-widgets/controls",
            "_view_module_version": "1.5.0",
            "_view_name": "ProgressView",
            "bar_style": "success",
            "description": "",
            "description_tooltip": null,
            "layout": "IPY_MODEL_713059b77ba047e7a26fd47f76c4d7da",
            "max": 483,
            "min": 0,
            "orientation": "horizontal",
            "style": "IPY_MODEL_c4b321e2e262416cb433e3feae3cd3a4",
            "value": 483
          }
        },
        "79b06f165c314339b037e789b4caa019": {
          "model_module": "@jupyter-widgets/controls",
          "model_name": "HTMLModel",
          "model_module_version": "1.5.0",
          "state": {
            "_dom_classes": [],
            "_model_module": "@jupyter-widgets/controls",
            "_model_module_version": "1.5.0",
            "_model_name": "HTMLModel",
            "_view_count": null,
            "_view_module": "@jupyter-widgets/controls",
            "_view_module_version": "1.5.0",
            "_view_name": "HTMLView",
            "description": "",
            "description_tooltip": null,
            "layout": "IPY_MODEL_ad2530fd59d14479b27e86086c6e255b",
            "placeholder": "​",
            "style": "IPY_MODEL_fcf27b188a984676b843470f79ab43d7",
            "value": " 483/483 [00:00&lt;00:00, 5.42kB/s]"
          }
        },
        "9f04e8dbdc6c45abb63789c77af4d1e8": {
          "model_module": "@jupyter-widgets/base",
          "model_name": "LayoutModel",
          "model_module_version": "1.2.0",
          "state": {
            "_model_module": "@jupyter-widgets/base",
            "_model_module_version": "1.2.0",
            "_model_name": "LayoutModel",
            "_view_count": null,
            "_view_module": "@jupyter-widgets/base",
            "_view_module_version": "1.2.0",
            "_view_name": "LayoutView",
            "align_content": null,
            "align_items": null,
            "align_self": null,
            "border": null,
            "bottom": null,
            "display": null,
            "flex": null,
            "flex_flow": null,
            "grid_area": null,
            "grid_auto_columns": null,
            "grid_auto_flow": null,
            "grid_auto_rows": null,
            "grid_column": null,
            "grid_gap": null,
            "grid_row": null,
            "grid_template_areas": null,
            "grid_template_columns": null,
            "grid_template_rows": null,
            "height": null,
            "justify_content": null,
            "justify_items": null,
            "left": null,
            "margin": null,
            "max_height": null,
            "max_width": null,
            "min_height": null,
            "min_width": null,
            "object_fit": null,
            "object_position": null,
            "order": null,
            "overflow": null,
            "overflow_x": null,
            "overflow_y": null,
            "padding": null,
            "right": null,
            "top": null,
            "visibility": null,
            "width": null
          }
        },
        "27a83e44e5c34b75be0c9acc5de01a56": {
          "model_module": "@jupyter-widgets/base",
          "model_name": "LayoutModel",
          "model_module_version": "1.2.0",
          "state": {
            "_model_module": "@jupyter-widgets/base",
            "_model_module_version": "1.2.0",
            "_model_name": "LayoutModel",
            "_view_count": null,
            "_view_module": "@jupyter-widgets/base",
            "_view_module_version": "1.2.0",
            "_view_name": "LayoutView",
            "align_content": null,
            "align_items": null,
            "align_self": null,
            "border": null,
            "bottom": null,
            "display": null,
            "flex": null,
            "flex_flow": null,
            "grid_area": null,
            "grid_auto_columns": null,
            "grid_auto_flow": null,
            "grid_auto_rows": null,
            "grid_column": null,
            "grid_gap": null,
            "grid_row": null,
            "grid_template_areas": null,
            "grid_template_columns": null,
            "grid_template_rows": null,
            "height": null,
            "justify_content": null,
            "justify_items": null,
            "left": null,
            "margin": null,
            "max_height": null,
            "max_width": null,
            "min_height": null,
            "min_width": null,
            "object_fit": null,
            "object_position": null,
            "order": null,
            "overflow": null,
            "overflow_x": null,
            "overflow_y": null,
            "padding": null,
            "right": null,
            "top": null,
            "visibility": null,
            "width": null
          }
        },
        "f4d9e397300e497f90576b0cd86985d8": {
          "model_module": "@jupyter-widgets/controls",
          "model_name": "DescriptionStyleModel",
          "model_module_version": "1.5.0",
          "state": {
            "_model_module": "@jupyter-widgets/controls",
            "_model_module_version": "1.5.0",
            "_model_name": "DescriptionStyleModel",
            "_view_count": null,
            "_view_module": "@jupyter-widgets/base",
            "_view_module_version": "1.2.0",
            "_view_name": "StyleView",
            "description_width": ""
          }
        },
        "713059b77ba047e7a26fd47f76c4d7da": {
          "model_module": "@jupyter-widgets/base",
          "model_name": "LayoutModel",
          "model_module_version": "1.2.0",
          "state": {
            "_model_module": "@jupyter-widgets/base",
            "_model_module_version": "1.2.0",
            "_model_name": "LayoutModel",
            "_view_count": null,
            "_view_module": "@jupyter-widgets/base",
            "_view_module_version": "1.2.0",
            "_view_name": "LayoutView",
            "align_content": null,
            "align_items": null,
            "align_self": null,
            "border": null,
            "bottom": null,
            "display": null,
            "flex": null,
            "flex_flow": null,
            "grid_area": null,
            "grid_auto_columns": null,
            "grid_auto_flow": null,
            "grid_auto_rows": null,
            "grid_column": null,
            "grid_gap": null,
            "grid_row": null,
            "grid_template_areas": null,
            "grid_template_columns": null,
            "grid_template_rows": null,
            "height": null,
            "justify_content": null,
            "justify_items": null,
            "left": null,
            "margin": null,
            "max_height": null,
            "max_width": null,
            "min_height": null,
            "min_width": null,
            "object_fit": null,
            "object_position": null,
            "order": null,
            "overflow": null,
            "overflow_x": null,
            "overflow_y": null,
            "padding": null,
            "right": null,
            "top": null,
            "visibility": null,
            "width": null
          }
        },
        "c4b321e2e262416cb433e3feae3cd3a4": {
          "model_module": "@jupyter-widgets/controls",
          "model_name": "ProgressStyleModel",
          "model_module_version": "1.5.0",
          "state": {
            "_model_module": "@jupyter-widgets/controls",
            "_model_module_version": "1.5.0",
            "_model_name": "ProgressStyleModel",
            "_view_count": null,
            "_view_module": "@jupyter-widgets/base",
            "_view_module_version": "1.2.0",
            "_view_name": "StyleView",
            "bar_color": null,
            "description_width": ""
          }
        },
        "ad2530fd59d14479b27e86086c6e255b": {
          "model_module": "@jupyter-widgets/base",
          "model_name": "LayoutModel",
          "model_module_version": "1.2.0",
          "state": {
            "_model_module": "@jupyter-widgets/base",
            "_model_module_version": "1.2.0",
            "_model_name": "LayoutModel",
            "_view_count": null,
            "_view_module": "@jupyter-widgets/base",
            "_view_module_version": "1.2.0",
            "_view_name": "LayoutView",
            "align_content": null,
            "align_items": null,
            "align_self": null,
            "border": null,
            "bottom": null,
            "display": null,
            "flex": null,
            "flex_flow": null,
            "grid_area": null,
            "grid_auto_columns": null,
            "grid_auto_flow": null,
            "grid_auto_rows": null,
            "grid_column": null,
            "grid_gap": null,
            "grid_row": null,
            "grid_template_areas": null,
            "grid_template_columns": null,
            "grid_template_rows": null,
            "height": null,
            "justify_content": null,
            "justify_items": null,
            "left": null,
            "margin": null,
            "max_height": null,
            "max_width": null,
            "min_height": null,
            "min_width": null,
            "object_fit": null,
            "object_position": null,
            "order": null,
            "overflow": null,
            "overflow_x": null,
            "overflow_y": null,
            "padding": null,
            "right": null,
            "top": null,
            "visibility": null,
            "width": null
          }
        },
        "fcf27b188a984676b843470f79ab43d7": {
          "model_module": "@jupyter-widgets/controls",
          "model_name": "DescriptionStyleModel",
          "model_module_version": "1.5.0",
          "state": {
            "_model_module": "@jupyter-widgets/controls",
            "_model_module_version": "1.5.0",
            "_model_name": "DescriptionStyleModel",
            "_view_count": null,
            "_view_module": "@jupyter-widgets/base",
            "_view_module_version": "1.2.0",
            "_view_name": "StyleView",
            "description_width": ""
          }
        },
        "11e5ea3c6048400c9c1d95cd8d249ccb": {
          "model_module": "@jupyter-widgets/controls",
          "model_name": "HBoxModel",
          "model_module_version": "1.5.0",
          "state": {
            "_dom_classes": [],
            "_model_module": "@jupyter-widgets/controls",
            "_model_module_version": "1.5.0",
            "_model_name": "HBoxModel",
            "_view_count": null,
            "_view_module": "@jupyter-widgets/controls",
            "_view_module_version": "1.5.0",
            "_view_name": "HBoxView",
            "box_style": "",
            "children": [
              "IPY_MODEL_e29dcc21439946cb919218e37f6e2924",
              "IPY_MODEL_772ee6c436954425a6be355d3f036b6a",
              "IPY_MODEL_bb6a54935d9d46d88920273e08aaefdb"
            ],
            "layout": "IPY_MODEL_ff52478ab98448ce8194773ecec8105a"
          }
        },
        "e29dcc21439946cb919218e37f6e2924": {
          "model_module": "@jupyter-widgets/controls",
          "model_name": "HTMLModel",
          "model_module_version": "1.5.0",
          "state": {
            "_dom_classes": [],
            "_model_module": "@jupyter-widgets/controls",
            "_model_module_version": "1.5.0",
            "_model_name": "HTMLModel",
            "_view_count": null,
            "_view_module": "@jupyter-widgets/controls",
            "_view_module_version": "1.5.0",
            "_view_name": "HTMLView",
            "description": "",
            "description_tooltip": null,
            "layout": "IPY_MODEL_d63f2f40e1814d3e982578afbb9f4587",
            "placeholder": "​",
            "style": "IPY_MODEL_417e24ff60d24f79a9a10067b7e7c4aa",
            "value": "vocab.txt: 100%"
          }
        },
        "772ee6c436954425a6be355d3f036b6a": {
          "model_module": "@jupyter-widgets/controls",
          "model_name": "FloatProgressModel",
          "model_module_version": "1.5.0",
          "state": {
            "_dom_classes": [],
            "_model_module": "@jupyter-widgets/controls",
            "_model_module_version": "1.5.0",
            "_model_name": "FloatProgressModel",
            "_view_count": null,
            "_view_module": "@jupyter-widgets/controls",
            "_view_module_version": "1.5.0",
            "_view_name": "ProgressView",
            "bar_style": "success",
            "description": "",
            "description_tooltip": null,
            "layout": "IPY_MODEL_ffc7036898394ef9ae1b56a942306914",
            "max": 231508,
            "min": 0,
            "orientation": "horizontal",
            "style": "IPY_MODEL_a8ad78825f034f8ba0fa2171b616b28f",
            "value": 231508
          }
        },
        "bb6a54935d9d46d88920273e08aaefdb": {
          "model_module": "@jupyter-widgets/controls",
          "model_name": "HTMLModel",
          "model_module_version": "1.5.0",
          "state": {
            "_dom_classes": [],
            "_model_module": "@jupyter-widgets/controls",
            "_model_module_version": "1.5.0",
            "_model_name": "HTMLModel",
            "_view_count": null,
            "_view_module": "@jupyter-widgets/controls",
            "_view_module_version": "1.5.0",
            "_view_name": "HTMLView",
            "description": "",
            "description_tooltip": null,
            "layout": "IPY_MODEL_ecc365793fad4aee910770974672f455",
            "placeholder": "​",
            "style": "IPY_MODEL_2abb41ee62674bde8f06391a48d27f81",
            "value": " 232k/232k [00:00&lt;00:00, 1.64MB/s]"
          }
        },
        "ff52478ab98448ce8194773ecec8105a": {
          "model_module": "@jupyter-widgets/base",
          "model_name": "LayoutModel",
          "model_module_version": "1.2.0",
          "state": {
            "_model_module": "@jupyter-widgets/base",
            "_model_module_version": "1.2.0",
            "_model_name": "LayoutModel",
            "_view_count": null,
            "_view_module": "@jupyter-widgets/base",
            "_view_module_version": "1.2.0",
            "_view_name": "LayoutView",
            "align_content": null,
            "align_items": null,
            "align_self": null,
            "border": null,
            "bottom": null,
            "display": null,
            "flex": null,
            "flex_flow": null,
            "grid_area": null,
            "grid_auto_columns": null,
            "grid_auto_flow": null,
            "grid_auto_rows": null,
            "grid_column": null,
            "grid_gap": null,
            "grid_row": null,
            "grid_template_areas": null,
            "grid_template_columns": null,
            "grid_template_rows": null,
            "height": null,
            "justify_content": null,
            "justify_items": null,
            "left": null,
            "margin": null,
            "max_height": null,
            "max_width": null,
            "min_height": null,
            "min_width": null,
            "object_fit": null,
            "object_position": null,
            "order": null,
            "overflow": null,
            "overflow_x": null,
            "overflow_y": null,
            "padding": null,
            "right": null,
            "top": null,
            "visibility": null,
            "width": null
          }
        },
        "d63f2f40e1814d3e982578afbb9f4587": {
          "model_module": "@jupyter-widgets/base",
          "model_name": "LayoutModel",
          "model_module_version": "1.2.0",
          "state": {
            "_model_module": "@jupyter-widgets/base",
            "_model_module_version": "1.2.0",
            "_model_name": "LayoutModel",
            "_view_count": null,
            "_view_module": "@jupyter-widgets/base",
            "_view_module_version": "1.2.0",
            "_view_name": "LayoutView",
            "align_content": null,
            "align_items": null,
            "align_self": null,
            "border": null,
            "bottom": null,
            "display": null,
            "flex": null,
            "flex_flow": null,
            "grid_area": null,
            "grid_auto_columns": null,
            "grid_auto_flow": null,
            "grid_auto_rows": null,
            "grid_column": null,
            "grid_gap": null,
            "grid_row": null,
            "grid_template_areas": null,
            "grid_template_columns": null,
            "grid_template_rows": null,
            "height": null,
            "justify_content": null,
            "justify_items": null,
            "left": null,
            "margin": null,
            "max_height": null,
            "max_width": null,
            "min_height": null,
            "min_width": null,
            "object_fit": null,
            "object_position": null,
            "order": null,
            "overflow": null,
            "overflow_x": null,
            "overflow_y": null,
            "padding": null,
            "right": null,
            "top": null,
            "visibility": null,
            "width": null
          }
        },
        "417e24ff60d24f79a9a10067b7e7c4aa": {
          "model_module": "@jupyter-widgets/controls",
          "model_name": "DescriptionStyleModel",
          "model_module_version": "1.5.0",
          "state": {
            "_model_module": "@jupyter-widgets/controls",
            "_model_module_version": "1.5.0",
            "_model_name": "DescriptionStyleModel",
            "_view_count": null,
            "_view_module": "@jupyter-widgets/base",
            "_view_module_version": "1.2.0",
            "_view_name": "StyleView",
            "description_width": ""
          }
        },
        "ffc7036898394ef9ae1b56a942306914": {
          "model_module": "@jupyter-widgets/base",
          "model_name": "LayoutModel",
          "model_module_version": "1.2.0",
          "state": {
            "_model_module": "@jupyter-widgets/base",
            "_model_module_version": "1.2.0",
            "_model_name": "LayoutModel",
            "_view_count": null,
            "_view_module": "@jupyter-widgets/base",
            "_view_module_version": "1.2.0",
            "_view_name": "LayoutView",
            "align_content": null,
            "align_items": null,
            "align_self": null,
            "border": null,
            "bottom": null,
            "display": null,
            "flex": null,
            "flex_flow": null,
            "grid_area": null,
            "grid_auto_columns": null,
            "grid_auto_flow": null,
            "grid_auto_rows": null,
            "grid_column": null,
            "grid_gap": null,
            "grid_row": null,
            "grid_template_areas": null,
            "grid_template_columns": null,
            "grid_template_rows": null,
            "height": null,
            "justify_content": null,
            "justify_items": null,
            "left": null,
            "margin": null,
            "max_height": null,
            "max_width": null,
            "min_height": null,
            "min_width": null,
            "object_fit": null,
            "object_position": null,
            "order": null,
            "overflow": null,
            "overflow_x": null,
            "overflow_y": null,
            "padding": null,
            "right": null,
            "top": null,
            "visibility": null,
            "width": null
          }
        },
        "a8ad78825f034f8ba0fa2171b616b28f": {
          "model_module": "@jupyter-widgets/controls",
          "model_name": "ProgressStyleModel",
          "model_module_version": "1.5.0",
          "state": {
            "_model_module": "@jupyter-widgets/controls",
            "_model_module_version": "1.5.0",
            "_model_name": "ProgressStyleModel",
            "_view_count": null,
            "_view_module": "@jupyter-widgets/base",
            "_view_module_version": "1.2.0",
            "_view_name": "StyleView",
            "bar_color": null,
            "description_width": ""
          }
        },
        "ecc365793fad4aee910770974672f455": {
          "model_module": "@jupyter-widgets/base",
          "model_name": "LayoutModel",
          "model_module_version": "1.2.0",
          "state": {
            "_model_module": "@jupyter-widgets/base",
            "_model_module_version": "1.2.0",
            "_model_name": "LayoutModel",
            "_view_count": null,
            "_view_module": "@jupyter-widgets/base",
            "_view_module_version": "1.2.0",
            "_view_name": "LayoutView",
            "align_content": null,
            "align_items": null,
            "align_self": null,
            "border": null,
            "bottom": null,
            "display": null,
            "flex": null,
            "flex_flow": null,
            "grid_area": null,
            "grid_auto_columns": null,
            "grid_auto_flow": null,
            "grid_auto_rows": null,
            "grid_column": null,
            "grid_gap": null,
            "grid_row": null,
            "grid_template_areas": null,
            "grid_template_columns": null,
            "grid_template_rows": null,
            "height": null,
            "justify_content": null,
            "justify_items": null,
            "left": null,
            "margin": null,
            "max_height": null,
            "max_width": null,
            "min_height": null,
            "min_width": null,
            "object_fit": null,
            "object_position": null,
            "order": null,
            "overflow": null,
            "overflow_x": null,
            "overflow_y": null,
            "padding": null,
            "right": null,
            "top": null,
            "visibility": null,
            "width": null
          }
        },
        "2abb41ee62674bde8f06391a48d27f81": {
          "model_module": "@jupyter-widgets/controls",
          "model_name": "DescriptionStyleModel",
          "model_module_version": "1.5.0",
          "state": {
            "_model_module": "@jupyter-widgets/controls",
            "_model_module_version": "1.5.0",
            "_model_name": "DescriptionStyleModel",
            "_view_count": null,
            "_view_module": "@jupyter-widgets/base",
            "_view_module_version": "1.2.0",
            "_view_name": "StyleView",
            "description_width": ""
          }
        },
        "3a55b8933027451ea0e5c79779579355": {
          "model_module": "@jupyter-widgets/controls",
          "model_name": "HBoxModel",
          "model_module_version": "1.5.0",
          "state": {
            "_dom_classes": [],
            "_model_module": "@jupyter-widgets/controls",
            "_model_module_version": "1.5.0",
            "_model_name": "HBoxModel",
            "_view_count": null,
            "_view_module": "@jupyter-widgets/controls",
            "_view_module_version": "1.5.0",
            "_view_name": "HBoxView",
            "box_style": "",
            "children": [
              "IPY_MODEL_a663de78f1784f848b922f39dd067a52",
              "IPY_MODEL_4a759a212e664ca98f832271edc5bb58",
              "IPY_MODEL_c1c92e60e90e45788ad68dfe911d3e65"
            ],
            "layout": "IPY_MODEL_3f36d1e4b8a741a696ae3b197e81a9a3"
          }
        },
        "a663de78f1784f848b922f39dd067a52": {
          "model_module": "@jupyter-widgets/controls",
          "model_name": "HTMLModel",
          "model_module_version": "1.5.0",
          "state": {
            "_dom_classes": [],
            "_model_module": "@jupyter-widgets/controls",
            "_model_module_version": "1.5.0",
            "_model_name": "HTMLModel",
            "_view_count": null,
            "_view_module": "@jupyter-widgets/controls",
            "_view_module_version": "1.5.0",
            "_view_name": "HTMLView",
            "description": "",
            "description_tooltip": null,
            "layout": "IPY_MODEL_a60363966ac34d35bab354428f655bab",
            "placeholder": "​",
            "style": "IPY_MODEL_e52764f342134f24ac2dcaf71e90da1a",
            "value": "tokenizer.json: 100%"
          }
        },
        "4a759a212e664ca98f832271edc5bb58": {
          "model_module": "@jupyter-widgets/controls",
          "model_name": "FloatProgressModel",
          "model_module_version": "1.5.0",
          "state": {
            "_dom_classes": [],
            "_model_module": "@jupyter-widgets/controls",
            "_model_module_version": "1.5.0",
            "_model_name": "FloatProgressModel",
            "_view_count": null,
            "_view_module": "@jupyter-widgets/controls",
            "_view_module_version": "1.5.0",
            "_view_name": "ProgressView",
            "bar_style": "success",
            "description": "",
            "description_tooltip": null,
            "layout": "IPY_MODEL_768e13a886634060a1023e69ebfc27ae",
            "max": 466062,
            "min": 0,
            "orientation": "horizontal",
            "style": "IPY_MODEL_13e561678867419b846bb3535c924f4f",
            "value": 466062
          }
        },
        "c1c92e60e90e45788ad68dfe911d3e65": {
          "model_module": "@jupyter-widgets/controls",
          "model_name": "HTMLModel",
          "model_module_version": "1.5.0",
          "state": {
            "_dom_classes": [],
            "_model_module": "@jupyter-widgets/controls",
            "_model_module_version": "1.5.0",
            "_model_name": "HTMLModel",
            "_view_count": null,
            "_view_module": "@jupyter-widgets/controls",
            "_view_module_version": "1.5.0",
            "_view_name": "HTMLView",
            "description": "",
            "description_tooltip": null,
            "layout": "IPY_MODEL_e47fdec67dcb4899ae5cb0644c30249c",
            "placeholder": "​",
            "style": "IPY_MODEL_06e1e47c71c4425080114383c15f364f",
            "value": " 466k/466k [00:00&lt;00:00, 6.15MB/s]"
          }
        },
        "3f36d1e4b8a741a696ae3b197e81a9a3": {
          "model_module": "@jupyter-widgets/base",
          "model_name": "LayoutModel",
          "model_module_version": "1.2.0",
          "state": {
            "_model_module": "@jupyter-widgets/base",
            "_model_module_version": "1.2.0",
            "_model_name": "LayoutModel",
            "_view_count": null,
            "_view_module": "@jupyter-widgets/base",
            "_view_module_version": "1.2.0",
            "_view_name": "LayoutView",
            "align_content": null,
            "align_items": null,
            "align_self": null,
            "border": null,
            "bottom": null,
            "display": null,
            "flex": null,
            "flex_flow": null,
            "grid_area": null,
            "grid_auto_columns": null,
            "grid_auto_flow": null,
            "grid_auto_rows": null,
            "grid_column": null,
            "grid_gap": null,
            "grid_row": null,
            "grid_template_areas": null,
            "grid_template_columns": null,
            "grid_template_rows": null,
            "height": null,
            "justify_content": null,
            "justify_items": null,
            "left": null,
            "margin": null,
            "max_height": null,
            "max_width": null,
            "min_height": null,
            "min_width": null,
            "object_fit": null,
            "object_position": null,
            "order": null,
            "overflow": null,
            "overflow_x": null,
            "overflow_y": null,
            "padding": null,
            "right": null,
            "top": null,
            "visibility": null,
            "width": null
          }
        },
        "a60363966ac34d35bab354428f655bab": {
          "model_module": "@jupyter-widgets/base",
          "model_name": "LayoutModel",
          "model_module_version": "1.2.0",
          "state": {
            "_model_module": "@jupyter-widgets/base",
            "_model_module_version": "1.2.0",
            "_model_name": "LayoutModel",
            "_view_count": null,
            "_view_module": "@jupyter-widgets/base",
            "_view_module_version": "1.2.0",
            "_view_name": "LayoutView",
            "align_content": null,
            "align_items": null,
            "align_self": null,
            "border": null,
            "bottom": null,
            "display": null,
            "flex": null,
            "flex_flow": null,
            "grid_area": null,
            "grid_auto_columns": null,
            "grid_auto_flow": null,
            "grid_auto_rows": null,
            "grid_column": null,
            "grid_gap": null,
            "grid_row": null,
            "grid_template_areas": null,
            "grid_template_columns": null,
            "grid_template_rows": null,
            "height": null,
            "justify_content": null,
            "justify_items": null,
            "left": null,
            "margin": null,
            "max_height": null,
            "max_width": null,
            "min_height": null,
            "min_width": null,
            "object_fit": null,
            "object_position": null,
            "order": null,
            "overflow": null,
            "overflow_x": null,
            "overflow_y": null,
            "padding": null,
            "right": null,
            "top": null,
            "visibility": null,
            "width": null
          }
        },
        "e52764f342134f24ac2dcaf71e90da1a": {
          "model_module": "@jupyter-widgets/controls",
          "model_name": "DescriptionStyleModel",
          "model_module_version": "1.5.0",
          "state": {
            "_model_module": "@jupyter-widgets/controls",
            "_model_module_version": "1.5.0",
            "_model_name": "DescriptionStyleModel",
            "_view_count": null,
            "_view_module": "@jupyter-widgets/base",
            "_view_module_version": "1.2.0",
            "_view_name": "StyleView",
            "description_width": ""
          }
        },
        "768e13a886634060a1023e69ebfc27ae": {
          "model_module": "@jupyter-widgets/base",
          "model_name": "LayoutModel",
          "model_module_version": "1.2.0",
          "state": {
            "_model_module": "@jupyter-widgets/base",
            "_model_module_version": "1.2.0",
            "_model_name": "LayoutModel",
            "_view_count": null,
            "_view_module": "@jupyter-widgets/base",
            "_view_module_version": "1.2.0",
            "_view_name": "LayoutView",
            "align_content": null,
            "align_items": null,
            "align_self": null,
            "border": null,
            "bottom": null,
            "display": null,
            "flex": null,
            "flex_flow": null,
            "grid_area": null,
            "grid_auto_columns": null,
            "grid_auto_flow": null,
            "grid_auto_rows": null,
            "grid_column": null,
            "grid_gap": null,
            "grid_row": null,
            "grid_template_areas": null,
            "grid_template_columns": null,
            "grid_template_rows": null,
            "height": null,
            "justify_content": null,
            "justify_items": null,
            "left": null,
            "margin": null,
            "max_height": null,
            "max_width": null,
            "min_height": null,
            "min_width": null,
            "object_fit": null,
            "object_position": null,
            "order": null,
            "overflow": null,
            "overflow_x": null,
            "overflow_y": null,
            "padding": null,
            "right": null,
            "top": null,
            "visibility": null,
            "width": null
          }
        },
        "13e561678867419b846bb3535c924f4f": {
          "model_module": "@jupyter-widgets/controls",
          "model_name": "ProgressStyleModel",
          "model_module_version": "1.5.0",
          "state": {
            "_model_module": "@jupyter-widgets/controls",
            "_model_module_version": "1.5.0",
            "_model_name": "ProgressStyleModel",
            "_view_count": null,
            "_view_module": "@jupyter-widgets/base",
            "_view_module_version": "1.2.0",
            "_view_name": "StyleView",
            "bar_color": null,
            "description_width": ""
          }
        },
        "e47fdec67dcb4899ae5cb0644c30249c": {
          "model_module": "@jupyter-widgets/base",
          "model_name": "LayoutModel",
          "model_module_version": "1.2.0",
          "state": {
            "_model_module": "@jupyter-widgets/base",
            "_model_module_version": "1.2.0",
            "_model_name": "LayoutModel",
            "_view_count": null,
            "_view_module": "@jupyter-widgets/base",
            "_view_module_version": "1.2.0",
            "_view_name": "LayoutView",
            "align_content": null,
            "align_items": null,
            "align_self": null,
            "border": null,
            "bottom": null,
            "display": null,
            "flex": null,
            "flex_flow": null,
            "grid_area": null,
            "grid_auto_columns": null,
            "grid_auto_flow": null,
            "grid_auto_rows": null,
            "grid_column": null,
            "grid_gap": null,
            "grid_row": null,
            "grid_template_areas": null,
            "grid_template_columns": null,
            "grid_template_rows": null,
            "height": null,
            "justify_content": null,
            "justify_items": null,
            "left": null,
            "margin": null,
            "max_height": null,
            "max_width": null,
            "min_height": null,
            "min_width": null,
            "object_fit": null,
            "object_position": null,
            "order": null,
            "overflow": null,
            "overflow_x": null,
            "overflow_y": null,
            "padding": null,
            "right": null,
            "top": null,
            "visibility": null,
            "width": null
          }
        },
        "06e1e47c71c4425080114383c15f364f": {
          "model_module": "@jupyter-widgets/controls",
          "model_name": "DescriptionStyleModel",
          "model_module_version": "1.5.0",
          "state": {
            "_model_module": "@jupyter-widgets/controls",
            "_model_module_version": "1.5.0",
            "_model_name": "DescriptionStyleModel",
            "_view_count": null,
            "_view_module": "@jupyter-widgets/base",
            "_view_module_version": "1.2.0",
            "_view_name": "StyleView",
            "description_width": ""
          }
        },
        "525d4acbaded4dfea6708afb04240ead": {
          "model_module": "@jupyter-widgets/controls",
          "model_name": "HBoxModel",
          "model_module_version": "1.5.0",
          "state": {
            "_dom_classes": [],
            "_model_module": "@jupyter-widgets/controls",
            "_model_module_version": "1.5.0",
            "_model_name": "HBoxModel",
            "_view_count": null,
            "_view_module": "@jupyter-widgets/controls",
            "_view_module_version": "1.5.0",
            "_view_name": "HBoxView",
            "box_style": "",
            "children": [
              "IPY_MODEL_caed816f58e84bc480a6d7c6e45dde90",
              "IPY_MODEL_e056e3781ded4763b562f03ba6e2f606",
              "IPY_MODEL_d2e28f4aa33347ffa27d73bb2166d3aa"
            ],
            "layout": "IPY_MODEL_999022ee4041419aad5934175d2de042"
          }
        },
        "caed816f58e84bc480a6d7c6e45dde90": {
          "model_module": "@jupyter-widgets/controls",
          "model_name": "HTMLModel",
          "model_module_version": "1.5.0",
          "state": {
            "_dom_classes": [],
            "_model_module": "@jupyter-widgets/controls",
            "_model_module_version": "1.5.0",
            "_model_name": "HTMLModel",
            "_view_count": null,
            "_view_module": "@jupyter-widgets/controls",
            "_view_module_version": "1.5.0",
            "_view_name": "HTMLView",
            "description": "",
            "description_tooltip": null,
            "layout": "IPY_MODEL_1248bc67b2d5496f910ab41132aba8be",
            "placeholder": "​",
            "style": "IPY_MODEL_b0a6b4fa007d45e1bf3faebd531ff738",
            "value": "model.safetensors: 100%"
          }
        },
        "e056e3781ded4763b562f03ba6e2f606": {
          "model_module": "@jupyter-widgets/controls",
          "model_name": "FloatProgressModel",
          "model_module_version": "1.5.0",
          "state": {
            "_dom_classes": [],
            "_model_module": "@jupyter-widgets/controls",
            "_model_module_version": "1.5.0",
            "_model_name": "FloatProgressModel",
            "_view_count": null,
            "_view_module": "@jupyter-widgets/controls",
            "_view_module_version": "1.5.0",
            "_view_name": "ProgressView",
            "bar_style": "success",
            "description": "",
            "description_tooltip": null,
            "layout": "IPY_MODEL_a66bd022af6f4a54ba699d2990e759b6",
            "max": 267954768,
            "min": 0,
            "orientation": "horizontal",
            "style": "IPY_MODEL_db7555fedb674b83bf311482106d0c3b",
            "value": 267954768
          }
        },
        "d2e28f4aa33347ffa27d73bb2166d3aa": {
          "model_module": "@jupyter-widgets/controls",
          "model_name": "HTMLModel",
          "model_module_version": "1.5.0",
          "state": {
            "_dom_classes": [],
            "_model_module": "@jupyter-widgets/controls",
            "_model_module_version": "1.5.0",
            "_model_name": "HTMLModel",
            "_view_count": null,
            "_view_module": "@jupyter-widgets/controls",
            "_view_module_version": "1.5.0",
            "_view_name": "HTMLView",
            "description": "",
            "description_tooltip": null,
            "layout": "IPY_MODEL_943b6eeadbe94a59b895856cf694e425",
            "placeholder": "​",
            "style": "IPY_MODEL_f3ef6d032ed04107a6787b4116d07c05",
            "value": " 268M/268M [00:02&lt;00:00, 133MB/s]"
          }
        },
        "999022ee4041419aad5934175d2de042": {
          "model_module": "@jupyter-widgets/base",
          "model_name": "LayoutModel",
          "model_module_version": "1.2.0",
          "state": {
            "_model_module": "@jupyter-widgets/base",
            "_model_module_version": "1.2.0",
            "_model_name": "LayoutModel",
            "_view_count": null,
            "_view_module": "@jupyter-widgets/base",
            "_view_module_version": "1.2.0",
            "_view_name": "LayoutView",
            "align_content": null,
            "align_items": null,
            "align_self": null,
            "border": null,
            "bottom": null,
            "display": null,
            "flex": null,
            "flex_flow": null,
            "grid_area": null,
            "grid_auto_columns": null,
            "grid_auto_flow": null,
            "grid_auto_rows": null,
            "grid_column": null,
            "grid_gap": null,
            "grid_row": null,
            "grid_template_areas": null,
            "grid_template_columns": null,
            "grid_template_rows": null,
            "height": null,
            "justify_content": null,
            "justify_items": null,
            "left": null,
            "margin": null,
            "max_height": null,
            "max_width": null,
            "min_height": null,
            "min_width": null,
            "object_fit": null,
            "object_position": null,
            "order": null,
            "overflow": null,
            "overflow_x": null,
            "overflow_y": null,
            "padding": null,
            "right": null,
            "top": null,
            "visibility": null,
            "width": null
          }
        },
        "1248bc67b2d5496f910ab41132aba8be": {
          "model_module": "@jupyter-widgets/base",
          "model_name": "LayoutModel",
          "model_module_version": "1.2.0",
          "state": {
            "_model_module": "@jupyter-widgets/base",
            "_model_module_version": "1.2.0",
            "_model_name": "LayoutModel",
            "_view_count": null,
            "_view_module": "@jupyter-widgets/base",
            "_view_module_version": "1.2.0",
            "_view_name": "LayoutView",
            "align_content": null,
            "align_items": null,
            "align_self": null,
            "border": null,
            "bottom": null,
            "display": null,
            "flex": null,
            "flex_flow": null,
            "grid_area": null,
            "grid_auto_columns": null,
            "grid_auto_flow": null,
            "grid_auto_rows": null,
            "grid_column": null,
            "grid_gap": null,
            "grid_row": null,
            "grid_template_areas": null,
            "grid_template_columns": null,
            "grid_template_rows": null,
            "height": null,
            "justify_content": null,
            "justify_items": null,
            "left": null,
            "margin": null,
            "max_height": null,
            "max_width": null,
            "min_height": null,
            "min_width": null,
            "object_fit": null,
            "object_position": null,
            "order": null,
            "overflow": null,
            "overflow_x": null,
            "overflow_y": null,
            "padding": null,
            "right": null,
            "top": null,
            "visibility": null,
            "width": null
          }
        },
        "b0a6b4fa007d45e1bf3faebd531ff738": {
          "model_module": "@jupyter-widgets/controls",
          "model_name": "DescriptionStyleModel",
          "model_module_version": "1.5.0",
          "state": {
            "_model_module": "@jupyter-widgets/controls",
            "_model_module_version": "1.5.0",
            "_model_name": "DescriptionStyleModel",
            "_view_count": null,
            "_view_module": "@jupyter-widgets/base",
            "_view_module_version": "1.2.0",
            "_view_name": "StyleView",
            "description_width": ""
          }
        },
        "a66bd022af6f4a54ba699d2990e759b6": {
          "model_module": "@jupyter-widgets/base",
          "model_name": "LayoutModel",
          "model_module_version": "1.2.0",
          "state": {
            "_model_module": "@jupyter-widgets/base",
            "_model_module_version": "1.2.0",
            "_model_name": "LayoutModel",
            "_view_count": null,
            "_view_module": "@jupyter-widgets/base",
            "_view_module_version": "1.2.0",
            "_view_name": "LayoutView",
            "align_content": null,
            "align_items": null,
            "align_self": null,
            "border": null,
            "bottom": null,
            "display": null,
            "flex": null,
            "flex_flow": null,
            "grid_area": null,
            "grid_auto_columns": null,
            "grid_auto_flow": null,
            "grid_auto_rows": null,
            "grid_column": null,
            "grid_gap": null,
            "grid_row": null,
            "grid_template_areas": null,
            "grid_template_columns": null,
            "grid_template_rows": null,
            "height": null,
            "justify_content": null,
            "justify_items": null,
            "left": null,
            "margin": null,
            "max_height": null,
            "max_width": null,
            "min_height": null,
            "min_width": null,
            "object_fit": null,
            "object_position": null,
            "order": null,
            "overflow": null,
            "overflow_x": null,
            "overflow_y": null,
            "padding": null,
            "right": null,
            "top": null,
            "visibility": null,
            "width": null
          }
        },
        "db7555fedb674b83bf311482106d0c3b": {
          "model_module": "@jupyter-widgets/controls",
          "model_name": "ProgressStyleModel",
          "model_module_version": "1.5.0",
          "state": {
            "_model_module": "@jupyter-widgets/controls",
            "_model_module_version": "1.5.0",
            "_model_name": "ProgressStyleModel",
            "_view_count": null,
            "_view_module": "@jupyter-widgets/base",
            "_view_module_version": "1.2.0",
            "_view_name": "StyleView",
            "bar_color": null,
            "description_width": ""
          }
        },
        "943b6eeadbe94a59b895856cf694e425": {
          "model_module": "@jupyter-widgets/base",
          "model_name": "LayoutModel",
          "model_module_version": "1.2.0",
          "state": {
            "_model_module": "@jupyter-widgets/base",
            "_model_module_version": "1.2.0",
            "_model_name": "LayoutModel",
            "_view_count": null,
            "_view_module": "@jupyter-widgets/base",
            "_view_module_version": "1.2.0",
            "_view_name": "LayoutView",
            "align_content": null,
            "align_items": null,
            "align_self": null,
            "border": null,
            "bottom": null,
            "display": null,
            "flex": null,
            "flex_flow": null,
            "grid_area": null,
            "grid_auto_columns": null,
            "grid_auto_flow": null,
            "grid_auto_rows": null,
            "grid_column": null,
            "grid_gap": null,
            "grid_row": null,
            "grid_template_areas": null,
            "grid_template_columns": null,
            "grid_template_rows": null,
            "height": null,
            "justify_content": null,
            "justify_items": null,
            "left": null,
            "margin": null,
            "max_height": null,
            "max_width": null,
            "min_height": null,
            "min_width": null,
            "object_fit": null,
            "object_position": null,
            "order": null,
            "overflow": null,
            "overflow_x": null,
            "overflow_y": null,
            "padding": null,
            "right": null,
            "top": null,
            "visibility": null,
            "width": null
          }
        },
        "f3ef6d032ed04107a6787b4116d07c05": {
          "model_module": "@jupyter-widgets/controls",
          "model_name": "DescriptionStyleModel",
          "model_module_version": "1.5.0",
          "state": {
            "_model_module": "@jupyter-widgets/controls",
            "_model_module_version": "1.5.0",
            "_model_name": "DescriptionStyleModel",
            "_view_count": null,
            "_view_module": "@jupyter-widgets/base",
            "_view_module_version": "1.2.0",
            "_view_name": "StyleView",
            "description_width": ""
          }
        }
      }
    }
  },
  "nbformat": 4,
  "nbformat_minor": 0
}